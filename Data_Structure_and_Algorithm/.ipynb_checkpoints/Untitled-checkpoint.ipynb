{
 "cells": [
  {
   "cell_type": "code",
   "execution_count": 1,
   "metadata": {},
   "outputs": [],
   "source": [
    "class Node:\n",
    "    def __init__(self,initdata):\n",
    "        self.data = initdata\n",
    "        self.next = None\n",
    "\n",
    "    def getData(self):\n",
    "        return self.data\n",
    "\n",
    "    def getNext(self):\n",
    "        return self.next\n",
    "\n",
    "    def setData(self,newdata):\n",
    "        self.data = newdata\n",
    "\n",
    "    def setNext(self,newnext):\n",
    "        self.next = newnext"
   ]
  },
  {
   "cell_type": "code",
   "execution_count": 53,
   "metadata": {},
   "outputs": [],
   "source": [
    "class UnorderedList:\n",
    "\n",
    "    def __init__(self):\n",
    "        self.head = None\n",
    "\n",
    "    def isEmpty(self):\n",
    "        return self.head == None\n",
    "\n",
    "    def add(self,item):\n",
    "        temp = Node(item)\n",
    "        temp.setNext(self.head)\n",
    "        self.head = temp\n",
    "\n",
    "    def size(self):\n",
    "        current = self.head\n",
    "        count = 0\n",
    "        while current != None:\n",
    "            count = count + 1\n",
    "            current = current.getNext()\n",
    "\n",
    "        return count\n",
    "\n",
    "    def search(self,item):\n",
    "        current = self.head\n",
    "        found = False\n",
    "        while current != None and not found:\n",
    "            if current.getData() == item:\n",
    "                found = True\n",
    "            else:\n",
    "                current = current.getNext()\n",
    "\n",
    "        return found\n",
    "\n",
    "    def remove(self,item):\n",
    "        current = self.head\n",
    "        previous = None\n",
    "        found = False\n",
    "        while not found:\n",
    "            if current.getData() == item:\n",
    "                found = True\n",
    "            else:\n",
    "                previous = current\n",
    "                current = current.getNext()\n",
    "\n",
    "        if previous == None:\n",
    "            self.head = current.getNext()\n",
    "        else:\n",
    "            previous.setNext(current.getNext())\n",
    "    \n",
    "    def reverse(self):\n",
    "        prev = None\n",
    "        current = self.head\n",
    "        while(current is not None):\n",
    "            next = current.next\n",
    "            current.next = prev\n",
    "            prev = current\n",
    "            current = next\n",
    "        self.head = prev\n",
    "    \n",
    "    def print_list(self):\n",
    "        print(\"[ \", end='')\n",
    "        current = self.head\n",
    "        while(current):\n",
    "            print(current.data, end = ' , ' if current.next else '')\n",
    "            current = current.next\n",
    "        print(\" ]\")"
   ]
  },
  {
   "cell_type": "code",
   "execution_count": 64,
   "metadata": {},
   "outputs": [
    {
     "name": "stdout",
     "output_type": "stream",
     "text": [
      "Number of elements in my list: 6\n"
     ]
    }
   ],
   "source": [
    "mylist = UnorderedList()\n",
    "\n",
    "mylist.add(31)\n",
    "mylist.add(77)\n",
    "mylist.add(17)\n",
    "mylist.add(93)\n",
    "mylist.add(26)\n",
    "mylist.add(54)\n",
    "\n",
    "print(\"Number of elements in my list:\" ,mylist.size())"
   ]
  },
  {
   "cell_type": "code",
   "execution_count": 59,
   "metadata": {},
   "outputs": [
    {
     "name": "stdout",
     "output_type": "stream",
     "text": [
      "[ 54 , 26 , 93 , 17 , 77 , 31 ]\n"
     ]
    }
   ],
   "source": [
    "mylist.print_list()"
   ]
  },
  {
   "cell_type": "code",
   "execution_count": 43,
   "metadata": {},
   "outputs": [],
   "source": [
    "def print_search_result(num, mylist):\n",
    "    found = mylist.search(num)\n",
    "    if found :\n",
    "        print(\"{} found in my list\".format(num))\n",
    "    else:\n",
    "        print(\"{} not found in my list\".format(num))"
   ]
  },
  {
   "cell_type": "code",
   "execution_count": 32,
   "metadata": {},
   "outputs": [
    {
     "name": "stdout",
     "output_type": "stream",
     "text": [
      "93 found in my list\n"
     ]
    }
   ],
   "source": [
    "print_search_result(93,mylist)"
   ]
  },
  {
   "cell_type": "code",
   "execution_count": 46,
   "metadata": {},
   "outputs": [
    {
     "name": "stdout",
     "output_type": "stream",
     "text": [
      "100 found in my list\n",
      "\n",
      "\n",
      "\n",
      "Number of elements in my list after adding 100: 7\n",
      "mylist after adding 100 : \n",
      "[ 100 , 54 , 26 , 93 , 17 , 77 , 31 ]\n",
      "\n",
      "\n",
      "\n",
      "Number of elements in my list after removing 54: 6\n",
      "mylist after removing 54 : \n",
      "[ 100 , 26 , 93 , 17 , 77 , 31 ]\n",
      "\n",
      "\n",
      "\n",
      "Number of elements in my list after removing 54: 5\n",
      "[ 100 , 26 , 17 , 77 , 31 ]\n",
      "\n",
      "\n",
      "\n"
     ]
    }
   ],
   "source": [
    "mylist.add(100)\n",
    "print_search_result(100, mylist)\n",
    "print(\"\\n\\n\")\n",
    "\n",
    "print(\"Number of elements in my list after adding {}:\".format(100) ,mylist.size())\n",
    "print(\"mylist after adding {} : \".format(100))\n",
    "mylist.print_list()\n",
    "\n",
    "print(\"\\n\\n\")\n",
    "\n",
    "mylist.remove(54)\n",
    "print(\"Number of elements in my list after removing {}:\".format(54) ,mylist.size())\n",
    "print(\"mylist after removing {} : \".format(54))\n",
    "mylist.print_list()\n",
    "\n",
    "print(\"\\n\\n\")\n",
    "\n",
    "mylist.remove(93)\n",
    "print(\"Number of elements in my list after removing {}:\".format(54) ,mylist.size())\n",
    "mylist.print_list()\n",
    "\n",
    "print(\"\\n\\n\")"
   ]
  },
  {
   "cell_type": "code",
   "execution_count": 65,
   "metadata": {},
   "outputs": [],
   "source": [
    "mylist_reversed = mylist"
   ]
  },
  {
   "cell_type": "code",
   "execution_count": 66,
   "metadata": {},
   "outputs": [
    {
     "name": "stdout",
     "output_type": "stream",
     "text": [
      "[ 54 , 26 , 93 , 17 , 77 , 31 ]\n"
     ]
    }
   ],
   "source": [
    "mylist_reversed.print_list()"
   ]
  },
  {
   "cell_type": "code",
   "execution_count": 67,
   "metadata": {},
   "outputs": [],
   "source": [
    "mylist_reversed.reverse()"
   ]
  },
  {
   "cell_type": "code",
   "execution_count": 68,
   "metadata": {},
   "outputs": [
    {
     "name": "stdout",
     "output_type": "stream",
     "text": [
      "[ 31 , 77 , 17 , 93 , 26 , 54 ]\n"
     ]
    }
   ],
   "source": [
    "mylist_reversed.print_list()"
   ]
  },
  {
   "cell_type": "code",
   "execution_count": null,
   "metadata": {},
   "outputs": [],
   "source": []
  }
 ],
 "metadata": {
  "kernelspec": {
   "display_name": "Python 3 (ipykernel)",
   "language": "python",
   "name": "python3"
  },
  "language_info": {
   "codemirror_mode": {
    "name": "ipython",
    "version": 3
   },
   "file_extension": ".py",
   "mimetype": "text/x-python",
   "name": "python",
   "nbconvert_exporter": "python",
   "pygments_lexer": "ipython3",
   "version": "3.7.6"
  }
 },
 "nbformat": 4,
 "nbformat_minor": 4
}
