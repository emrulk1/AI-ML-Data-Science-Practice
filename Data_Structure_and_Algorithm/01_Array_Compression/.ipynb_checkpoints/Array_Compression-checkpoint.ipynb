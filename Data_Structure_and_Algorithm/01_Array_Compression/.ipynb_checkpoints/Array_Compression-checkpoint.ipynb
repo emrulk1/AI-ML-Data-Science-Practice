{
 "cells": [
  {
   "cell_type": "code",
   "execution_count": null,
   "metadata": {},
   "outputs": [],
   "source": [
    "void compress() {\n",
    "   mymap = dict();\n",
    "    input = \n",
    "    [\n",
    "        -102,\n",
    "        1,\n",
    "        134565589,\n",
    "        134565589,\n",
    "        -102,\n",
    "        66666668,\n",
    "        134565589,\n",
    "        66666668,\n",
    "        -102,\n",
    "        1,\n",
    "        -2\n",
    "    ]\n",
    "    \n",
    "    assign = 0\n",
    "    compressed[100], c = 0, n = sizeof(input) / sizeof(int); //array size;\n",
    "  \n",
    "    for (int i = 0; i < n; i++) {\n",
    "    int x = input[i];\n",
    "    if (mymap.find(x) == mymap.end()) { //x not yet compressed\n",
    "      mymap[x] = assign;\n",
    "      printf(\"Mapping %d with %d\\n\", x, assign);\n",
    "      assign++;\n",
    "    }\n",
    "    x = mymap[x];\n",
    "    compressed[c++] = x;\n",
    "  }\n",
    "  printf(\"Compressed array: \");\n",
    "  for (int i = 0; i < n; i++) printf(\"%d \", compressed[i]);\n",
    "  puts(\"\");\n",
    "}"
   ]
  }
 ],
 "metadata": {
  "kernelspec": {
   "display_name": "Python 3 (ipykernel)",
   "language": "python",
   "name": "python3"
  },
  "language_info": {
   "codemirror_mode": {
    "name": "ipython",
    "version": 3
   },
   "file_extension": ".py",
   "mimetype": "text/x-python",
   "name": "python",
   "nbconvert_exporter": "python",
   "pygments_lexer": "ipython3",
   "version": "3.7.6"
  }
 },
 "nbformat": 4,
 "nbformat_minor": 4
}
