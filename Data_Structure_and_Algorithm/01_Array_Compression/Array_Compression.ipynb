{
 "cells": [
  {
   "cell_type": "code",
   "execution_count": 11,
   "metadata": {},
   "outputs": [],
   "source": [
    "def compress():\n",
    "    mymap = dict();\n",
    "    input_array = [\n",
    "        -102,\n",
    "        1,\n",
    "        134565589,\n",
    "        134565589,\n",
    "        -102,\n",
    "        66666668,\n",
    "        134565589,\n",
    "        66666668,\n",
    "        -102,\n",
    "        1,\n",
    "        -2\n",
    "    ]\n",
    "    \n",
    "    assign = 0\n",
    "    compressed = []\n",
    "    c = 0\n",
    "    n = len(input_array) #array size\n",
    "  \n",
    "    for i in range(n):\n",
    "        x = input_array[i];\n",
    "        if x not in mymap: #x not yet compressed\n",
    "            mymap[x] = assign;\n",
    "            print(\"Mapping {} with {}\\n\".format(x, assign));\n",
    "            assign+=1;\n",
    "        \n",
    "        x = mymap[x];\n",
    "        compressed.append(x);\n",
    "        c+=1\n",
    "    \n",
    "    print(\"Compressed array: \");\n",
    "    \n",
    "    print([compressed[i] for i in range(n)])"
   ]
  },
  {
   "cell_type": "code",
   "execution_count": 12,
   "metadata": {},
   "outputs": [
    {
     "name": "stdout",
     "output_type": "stream",
     "text": [
      "Mapping -102 with 0\n",
      "\n",
      "Mapping 1 with 1\n",
      "\n",
      "Mapping 134565589 with 2\n",
      "\n",
      "Mapping 66666668 with 3\n",
      "\n",
      "Mapping -2 with 4\n",
      "\n",
      "Compressed array: \n",
      "[0, 1, 2, 2, 0, 3, 2, 3, 0, 1, 4]\n"
     ]
    }
   ],
   "source": [
    "compress()"
   ]
  },
  {
   "cell_type": "markdown",
   "metadata": {},
   "source": [
    "# mapping strings into integer "
   ]
  },
  {
   "cell_type": "code",
   "execution_count": 14,
   "metadata": {},
   "outputs": [
    {
     "name": "stdout",
     "output_type": "stream",
     "text": [
      "1\n",
      "gmndgkrfgm  rjnrk\n",
      "Mapping gmndgkrfgm with 0\n",
      "\n",
      "Mapping rjnrk with 1\n",
      "\n",
      "Edge: (0 1)\n"
     ]
    }
   ],
   "source": [
    "mymap = dict()\n",
    "\n",
    "number_of_edges = int(input())\n",
    "\n",
    "assign = 0\n",
    "for i in range(number_of_edges):\n",
    "    s1,s2 = input().split()\n",
    "    \n",
    "    if s1 not in mymap:\n",
    "        print(\"Mapping {} with {}\\n\".format(s1, assign))\n",
    "        mymap[s1] = assign\n",
    "        assign+=1\n",
    "    \n",
    "    if s2 not in mymap:\n",
    "        print(\"Mapping {} with {}\\n\".format(s2, assign))\n",
    "        mymap[s2] = assign\n",
    "        assign+=1\n",
    "    \n",
    "    u = mymap[s1];\n",
    "    v = mymap[s2];\n",
    "    print(\"Edge: ({}-<{})\".format(u,v))"
   ]
  },
  {
   "cell_type": "code",
   "execution_count": null,
   "metadata": {},
   "outputs": [],
   "source": []
  }
 ],
 "metadata": {
  "kernelspec": {
   "display_name": "Python 3 (ipykernel)",
   "language": "python",
   "name": "python3"
  },
  "language_info": {
   "codemirror_mode": {
    "name": "ipython",
    "version": 3
   },
   "file_extension": ".py",
   "mimetype": "text/x-python",
   "name": "python",
   "nbconvert_exporter": "python",
   "pygments_lexer": "ipython3",
   "version": "3.7.6"
  }
 },
 "nbformat": 4,
 "nbformat_minor": 4
}
