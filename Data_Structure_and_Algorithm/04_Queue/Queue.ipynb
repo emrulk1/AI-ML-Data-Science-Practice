{
 "cells": [
  {
   "cell_type": "code",
   "execution_count": 1,
   "metadata": {},
   "outputs": [],
   "source": [
    "class Queue:\n",
    "    def __init__(self):\n",
    "        self.items = []\n",
    "\n",
    "    def isEmpty(self):\n",
    "        return self.items == []\n",
    "\n",
    "    def enqueue(self, item):\n",
    "        self.items.insert(0,item)\n",
    "\n",
    "    def dequeue(self):\n",
    "        return self.items.pop()\n",
    "\n",
    "    def size(self):\n",
    "        return len(self.items)"
   ]
  },
  {
   "cell_type": "code",
   "execution_count": 9,
   "metadata": {},
   "outputs": [],
   "source": [
    "q=Queue()"
   ]
  },
  {
   "cell_type": "code",
   "execution_count": 16,
   "metadata": {},
   "outputs": [
    {
     "name": "stdout",
     "output_type": "stream",
     "text": [
      "enqueued 4 in Queue\n",
      "Size of the Queue after adding 4 :  1\n",
      "\n",
      "enqueued True in Queue\n",
      "Size of the Queue after adding True :  2\n",
      "\n",
      "Dequeued 4 from Queue\n",
      "Size of the Queue after removing 4 :  1\n",
      "\n",
      "Dequeued True from Queue\n",
      "Size of the Queue after removing True :  0\n",
      "\n"
     ]
    }
   ],
   "source": [
    "q=Queue()\n",
    "\n",
    "val = 4\n",
    "q.enqueue(val)\n",
    "print(\"enqueued {} in Queue\".format(val))\n",
    "print(\"Size of the Queue after adding {} : \".format(val), q.size(), end = \"\\n\\n\")\n",
    "\n",
    "val = True\n",
    "q.enqueue(val)\n",
    "print(\"enqueued {} in Queue\".format(val))\n",
    "print(\"Size of the Queue after adding {} : \".format(val), q.size(), end = \"\\n\\n\")\n",
    "\n",
    "\n",
    "val = q.dequeue()\n",
    "print(\"Dequeued {} from Queue\".format(val))\n",
    "print(\"Size of the Queue after removing {} : \".format(val), q.size(), end = \"\\n\\n\")\n",
    "\n",
    "val = q.dequeue()\n",
    "print(\"Dequeued {} from Queue\".format(val))\n",
    "print(\"Size of the Queue after removing {} : \".format(val), q.size(), end = \"\\n\\n\")"
   ]
  },
  {
   "cell_type": "code",
   "execution_count": 18,
   "metadata": {},
   "outputs": [
    {
     "name": "stdout",
     "output_type": "stream",
     "text": [
      "Failed to dequeue because Queue is empty!\n"
     ]
    }
   ],
   "source": [
    "#safe way to remove from Queue\n",
    "try :\n",
    "    val = q.dequeue()\n",
    "    print(\"Dequeued {} from Queue\".format(val))\n",
    "    print(\"Size of the Queue after removing {} : \".format(val), q.size(), end = \"\\n\\n\")\n",
    "except:\n",
    "    print(\"Failed to dequeue because Queue is empty!\")"
   ]
  },
  {
   "cell_type": "code",
   "execution_count": null,
   "metadata": {},
   "outputs": [],
   "source": []
  }
 ],
 "metadata": {
  "kernelspec": {
   "display_name": "Python 3 (ipykernel)",
   "language": "python",
   "name": "python3"
  },
  "language_info": {
   "codemirror_mode": {
    "name": "ipython",
    "version": 3
   },
   "file_extension": ".py",
   "mimetype": "text/x-python",
   "name": "python",
   "nbconvert_exporter": "python",
   "pygments_lexer": "ipython3",
   "version": "3.7.6"
  }
 },
 "nbformat": 4,
 "nbformat_minor": 4
}
