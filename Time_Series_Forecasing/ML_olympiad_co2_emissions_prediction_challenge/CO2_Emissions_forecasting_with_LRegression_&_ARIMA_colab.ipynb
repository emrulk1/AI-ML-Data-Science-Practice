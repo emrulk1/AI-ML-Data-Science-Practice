{
  "metadata": {
    "kernelspec": {
      "display_name": "Python 3",
      "name": "python3"
    },
    "language_info": {
      "name": "python",
      "version": "3.10.13",
      "mimetype": "text/x-python",
      "codemirror_mode": {
        "name": "ipython",
        "version": 3
      },
      "pygments_lexer": "ipython3",
      "nbconvert_exporter": "python",
      "file_extension": ".py"
    },
    "kaggle": {
      "accelerator": "none",
      "dataSources": [
        {
          "sourceId": 70983,
          "databundleVersionId": 7794824,
          "sourceType": "competition"
        }
      ],
      "dockerImageVersionId": 30664,
      "isInternetEnabled": true,
      "language": "python",
      "sourceType": "notebook",
      "isGpuEnabled": false
    },
    "colab": {
      "name": "CO2 Emissions forecasting with LRegression & ARIMA",
      "provenance": []
    }
  },
  "nbformat_minor": 0,
  "nbformat": 4,
  "cells": [
    {
      "source": [
        "\n",
        "# IMPORTANT: RUN THIS CELL IN ORDER TO IMPORT YOUR KAGGLE DATA SOURCES\n",
        "# TO THE CORRECT LOCATION (/kaggle/input) IN YOUR NOTEBOOK,\n",
        "# THEN FEEL FREE TO DELETE THIS CELL.\n",
        "# NOTE: THIS NOTEBOOK ENVIRONMENT DIFFERS FROM KAGGLE'S PYTHON\n",
        "# ENVIRONMENT SO THERE MAY BE MISSING LIBRARIES USED BY YOUR\n",
        "# NOTEBOOK.\n",
        "\n",
        "import os\n",
        "import sys\n",
        "from tempfile import NamedTemporaryFile\n",
        "from urllib.request import urlopen\n",
        "from urllib.parse import unquote, urlparse\n",
        "from urllib.error import HTTPError\n",
        "from zipfile import ZipFile\n",
        "import tarfile\n",
        "import shutil\n",
        "\n",
        "CHUNK_SIZE = 40960\n",
        "DATA_SOURCE_MAPPING = 'ml-olympiad-co2-emissions-prediction-challenge:https%3A%2F%2Fstorage.googleapis.com%2Fkaggle-competitions-data%2Fkaggle-v2%2F70983%2F7794824%2Fbundle%2Farchive.zip%3FX-Goog-Algorithm%3DGOOG4-RSA-SHA256%26X-Goog-Credential%3Dgcp-kaggle-com%2540kaggle-161607.iam.gserviceaccount.com%252F20240317%252Fauto%252Fstorage%252Fgoog4_request%26X-Goog-Date%3D20240317T060259Z%26X-Goog-Expires%3D259200%26X-Goog-SignedHeaders%3Dhost%26X-Goog-Signature%3D762c34adabd536d4116c4fea1d7a19111503f395b4183cf641c5d536c0a70ec243e8d483010f058b16482956c58633eaf0e4c0de4caef49d2132f262e3bcb4e3b2478addac04106fb585ac379447e874666db8f3b17947681ac4839b3a18b264c6a16ece8e6cb7b8799b1cbdbc3c9c2e9296883f47d37d04c3d86dbf1b024ba9c20d0346729e7d48c01384fa2928d0aa8c6fbd952df5ef10633ac97cd381c2cc42728ac48a8e1e5297285733095228918c9ea7d653033153f92af4af91d5494b848d4ec2dc143f2898f94c9bd24b86925f1a3a01295ac9f5e767d30adfa1eda4ad87889d09b8b5fc59c168cee3cb77e1c1f81fed007d780f7e22ee1e688fd514'\n",
        "\n",
        "KAGGLE_INPUT_PATH='/kaggle/input'\n",
        "KAGGLE_WORKING_PATH='/kaggle/working'\n",
        "KAGGLE_SYMLINK='kaggle'\n",
        "\n",
        "!umount /kaggle/input/ 2> /dev/null\n",
        "shutil.rmtree('/kaggle/input', ignore_errors=True)\n",
        "os.makedirs(KAGGLE_INPUT_PATH, 0o777, exist_ok=True)\n",
        "os.makedirs(KAGGLE_WORKING_PATH, 0o777, exist_ok=True)\n",
        "\n",
        "try:\n",
        "  os.symlink(KAGGLE_INPUT_PATH, os.path.join(\"..\", 'input'), target_is_directory=True)\n",
        "except FileExistsError:\n",
        "  pass\n",
        "try:\n",
        "  os.symlink(KAGGLE_WORKING_PATH, os.path.join(\"..\", 'working'), target_is_directory=True)\n",
        "except FileExistsError:\n",
        "  pass\n",
        "\n",
        "for data_source_mapping in DATA_SOURCE_MAPPING.split(','):\n",
        "    directory, download_url_encoded = data_source_mapping.split(':')\n",
        "    download_url = unquote(download_url_encoded)\n",
        "    filename = urlparse(download_url).path\n",
        "    destination_path = os.path.join(KAGGLE_INPUT_PATH, directory)\n",
        "    try:\n",
        "        with urlopen(download_url) as fileres, NamedTemporaryFile() as tfile:\n",
        "            total_length = fileres.headers['content-length']\n",
        "            print(f'Downloading {directory}, {total_length} bytes compressed')\n",
        "            dl = 0\n",
        "            data = fileres.read(CHUNK_SIZE)\n",
        "            while len(data) > 0:\n",
        "                dl += len(data)\n",
        "                tfile.write(data)\n",
        "                done = int(50 * dl / int(total_length))\n",
        "                sys.stdout.write(f\"\\r[{'=' * done}{' ' * (50-done)}] {dl} bytes downloaded\")\n",
        "                sys.stdout.flush()\n",
        "                data = fileres.read(CHUNK_SIZE)\n",
        "            if filename.endswith('.zip'):\n",
        "              with ZipFile(tfile) as zfile:\n",
        "                zfile.extractall(destination_path)\n",
        "            else:\n",
        "              with tarfile.open(tfile.name) as tarfile:\n",
        "                tarfile.extractall(destination_path)\n",
        "            print(f'\\nDownloaded and uncompressed: {directory}')\n",
        "    except HTTPError as e:\n",
        "        print(f'Failed to load (likely expired) {download_url} to path {destination_path}')\n",
        "        continue\n",
        "    except OSError as e:\n",
        "        print(f'Failed to load {download_url} to path {destination_path}')\n",
        "        continue\n",
        "\n",
        "print('Data source import complete.')\n"
      ],
      "metadata": {
        "id": "rydBf0ftAaok",
        "outputId": "f4aff6c4-ddb1-4850-8365-d8fdcce7704b",
        "colab": {
          "base_uri": "https://localhost:8080/"
        }
      },
      "cell_type": "code",
      "outputs": [
        {
          "output_type": "stream",
          "name": "stdout",
          "text": [
            "Downloading ml-olympiad-co2-emissions-prediction-challenge, 321052 bytes compressed\n",
            "[==================================================] 321052 bytes downloaded\n",
            "Downloaded and uncompressed: ml-olympiad-co2-emissions-prediction-challenge\n",
            "Data source import complete.\n"
          ]
        }
      ],
      "execution_count": 1
    },
    {
      "cell_type": "code",
      "source": [
        "# %% [code] {\"execution\":{\"iopub.status.busy\":\"2024-03-11T15:26:48.831005Z\",\"iopub.execute_input\":\"2024-03-11T15:26:48.831523Z\",\"iopub.status.idle\":\"2024-03-11T15:26:48.889648Z\",\"shell.execute_reply.started\":\"2024-03-11T15:26:48.831487Z\",\"shell.execute_reply\":\"2024-03-11T15:26:48.888722Z\"}}\n",
        "import pandas as pd\n",
        "from statsmodels.tsa.arima.model import ARIMA\n",
        "from sklearn.impute import KNNImputer\n",
        "from sklearn.model_selection import GridSearchCV\n",
        "from sklearn.linear_model import LogisticRegression\n",
        "import numpy as np\n",
        "from sklearn.ensemble import VotingRegressor\n",
        "from xgboost import XGBRegressor\n",
        "from sklearn.model_selection import train_test_split\n",
        "from sklearn.metrics import mean_squared_error, mean_absolute_error, mean_absolute_percentage_error\n",
        "\n",
        "Train = pd.read_csv('/kaggle/input/ml-olympiad-co2-emissions-prediction-challenge/train.csv')\n",
        "Test = pd.read_csv('/kaggle/input/ml-olympiad-co2-emissions-prediction-challenge/test.csv')\n",
        "sample_submission = pd.read_csv('/kaggle/input/ml-olympiad-co2-emissions-prediction-challenge/sample_submission.csv')\n",
        "\n",
        "# %% [code] {\"execution\":{\"iopub.status.busy\":\"2024-03-11T15:26:48.891712Z\",\"iopub.execute_input\":\"2024-03-11T15:26:48.892389Z\",\"iopub.status.idle\":\"2024-03-11T15:26:48.917882Z\",\"shell.execute_reply.started\":\"2024-03-11T15:26:48.892357Z\",\"shell.execute_reply\":\"2024-03-11T15:26:48.916618Z\"}}\n",
        "# Handle missing data more robustly\n",
        "numeric_cols_train = Train.select_dtypes(include=['float64', 'int64']).columns\n",
        "non_numeric_cols_train = Train.columns.difference(numeric_cols_train)\n",
        "\n",
        "numeric_cols_test = Test.select_dtypes(include=['float64', 'int64']).columns\n",
        "non_numeric_cols_test = Test.columns.difference(numeric_cols_test)\n",
        "\n",
        "common_non_numeric_cols = list(set(non_numeric_cols_train) & set(non_numeric_cols_test))\n",
        "\n",
        "if len(numeric_cols_train) > 0:\n",
        "   imputer = KNNImputer(n_neighbors=5)\n",
        "   Train_numeric_imputed = pd.DataFrame(imputer.fit_transform(Train[numeric_cols_train]), columns=numeric_cols_train)\n",
        "   Test_numeric_imputed = pd.DataFrame(imputer.transform(Test[numeric_cols_test]), columns=numeric_cols_test)\n",
        "else:\n",
        "   Train_numeric_imputed = Train[numeric_cols_train]\n",
        "   Test_numeric_imputed = Test[numeric_cols_test]\n",
        "\n",
        "Train_imputed = pd.concat([Train[common_non_numeric_cols], Train_numeric_imputed], axis=1)\n",
        "Test_imputed = pd.concat([Test[common_non_numeric_cols], Test_numeric_imputed], axis=1)\n",
        "\n",
        "# Unique country for iteration\n",
        "unique = Train_imputed['Country Name'].unique()\n",
        "\n",
        "# %% [code] {\"execution\":{\"iopub.status.busy\":\"2024-03-11T15:26:48.929443Z\",\"iopub.execute_input\":\"2024-03-11T15:26:48.930452Z\",\"iopub.status.idle\":\"2024-03-11T15:27:02.902191Z\",\"shell.execute_reply.started\":\"2024-03-11T15:26:48.930404Z\",\"shell.execute_reply\":\"2024-03-11T15:27:02.900943Z\"}}\n",
        "# Training and inferencing with LogisticRegression, ARIMA, and Ensemble\n",
        "j = 0\n",
        "for i in unique:\n",
        "   transposed_df = 0\n",
        "   fg = Train_imputed[Train_imputed['Country Name'] == i].reset_index(drop=True)\n",
        "   columns_to_drop = ['Country Code', 'Country Name', 'Indicator']\n",
        "   columns_to_drop = [col for col in columns_to_drop if col in fg.columns]\n",
        "   fg = fg.drop(columns_to_drop, axis=1)\n",
        "   transposed_df = fg.transpose()\n",
        "\n",
        "   # Separate features (X) and target (y)\n",
        "   X = fg.drop(fg.columns[fg.columns.str.contains('YR', case=False)], axis=1)\n",
        "   y = fg.loc[:, fg.columns.str.contains('YR', case=False)]\n",
        "\n",
        "   # Reshape y into a 1D array or column vector\n",
        "   y = y.values.ravel()\n",
        "\n",
        "   # Check if there are any valid CO2 emissions values\n",
        "   if y.shape[0] > 0:\n",
        "       # Separate training/validation split\n",
        "       X_train, X_val, y_train, y_val = train_test_split(X, y, test_size=0.2, random_state=42)\n",
        "\n",
        "       # Logistic regression with regularization\n",
        "       logistic_regression = LogisticRegression(penalty='l2', C=1.0, solver='liblinear')\n",
        "       logistic_regression.fit(X_train, y_train)\n",
        "\n",
        "       # ARIMA hyperparameter tuning\n",
        "       param_grid = {\n",
        "           'order': [(0, 1, 0), (1, 1, 0), (2, 1, 0), (0, 1, 1), (1, 1, 1)],\n",
        "           'seasonal_order': [(0, 0, 0, 0), (0, 1, 1, 12)]\n",
        "       }\n",
        "       model = ARIMA(endog=y_train, exog=X_train, out_of_sample_size=16)\n",
        "       grid_search = GridSearchCV(estimator=model, param_grid=param_grid, scoring='neg_mean_squared_error', cv=5)\n",
        "       grid_search.fit(X=X_train)\n",
        "       best_arima = grid_search.best_estimator_\n",
        "\n",
        "       # Ensemble model\n",
        "       estimators = [\n",
        "           ('logistic', logistic_regression),\n",
        "           ('arima', best_arima),\n",
        "           ('xgb', XGBRegressor(random_state=42))\n",
        "       ]\n",
        "       ensemble = VotingRegressor(estimators)\n",
        "       ensemble.fit(X_train, y_train)\n",
        "\n",
        "       try:\n",
        "           fgt = Test_imputed[Test_imputed['Country Name'] == i].reset_index(drop=True)\n",
        "           columns_to_drop = ['Country Name', 'Indicator']\n",
        "           fgt = fgt.drop(columns_to_drop, axis=1)\n",
        "           transposed_df = fgt.transpose()\n",
        "\n",
        "           # Feature engineering for test data\n",
        "           transposed_df['lag_1'] = transposed_df['CO2_Emissions'].shift(1)\n",
        "           transposed_df['rolling_mean'] = transposed_df['CO2_Emissions'].rolling(window=3).mean()\n",
        "           transposed_df['poly_2'] = np.power(transposed_df['CO2_Emissions'], 2)\n",
        "\n",
        "           X_test = transposed_df.drop('CO2_Emissions', axis=1)\n",
        "\n",
        "           # Make predictions using the ensemble model\n",
        "           forecast = ensemble.predict(X_test)\n",
        "\n",
        "           row_index = sample_submission[sample_submission.eq(i).any(axis=1)].index[0]\n",
        "           new_values = [i, forecast[0], forecast[1], forecast[2], forecast[3], forecast[4], forecast[5]]\n",
        "           sample_submission.loc[row_index] = new_values\n",
        "\n",
        "           # Evaluate the model on the validation set\n",
        "           y_val_pred = ensemble.predict(X_val)\n",
        "           val_mse = mean_squared_error(y_val, y_val_pred)\n",
        "           val_rmse = np.sqrt(val_mse)\n",
        "           val_mae = mean_absolute_error(y_val, y_val_pred)\n",
        "           val_mape = mean_absolute_percentage_error(y_val, y_val_pred)\n",
        "           print(f\"Validation Metrics for {i}:\")\n",
        "           print(f\"MSE: {val_mse:.4f}, RMSE: {val_rmse:.4f}, MAE: {val_mae:.4f}, MAPE: {val_mape:.4f}\")\n",
        "\n",
        "       except:\n",
        "           j += 1\n",
        "\n",
        "   else:\n",
        "       j += 1\n",
        "       continue\n",
        "\n",
        "# %% [code] {\"execution\":{\"iopub.status.busy\":\"2024-03-11T15:27:02.903585Z\",\"iopub.execute_input\":\"2024-03-11T15:27:02.903944Z\",\"iopub.status.idle\":\"2024-03-11T15:27:02.921941Z\",\"shell.execute_reply.started\":\"2024-03-11T15:27:02.903915Z\",\"shell.execute_reply\":\"2024-03-11T15:27:02.920545Z\"}}\n",
        "print(sample_submission)\n",
        "\n",
        "# %% [code] {\"execution\":{\"iopub.status.busy\":\"2024-03-11T15:27:02.92391Z\",\"iopub.execute_input\":\"2024-03-11T15:27:02.92439Z\",\"iopub.status.idle\":\"2024-03-11T15:27:02.947365Z\",\"shell.execute_reply.started\":\"2024-03-11T15:27:02.924345Z\",\"shell.execute_reply\":\"2024-03-11T15:27:02.946038Z\"}}\n",
        "sample_submission.to_csv('submission.csv', index=False)"
      ],
      "metadata": {
        "id": "SEi3CEKkAqgm",
        "outputId": "65f7e17b-fb6c-42be-d137-9e586ebb5b49",
        "colab": {
          "base_uri": "https://localhost:8080/"
        }
      },
      "execution_count": 10,
      "outputs": [
        {
          "output_type": "stream",
          "name": "stdout",
          "text": [
            "                                   Country Name  2016 [YR2016]  2017 [YR2017]  \\\n",
            "0                                   Afghanistan         3.2253         1.1712   \n",
            "1                                       Albania         2.3565         2.3681   \n",
            "2                                       Algeria         1.0482         1.2839   \n",
            "3                                American Samoa         3.5276         3.1392   \n",
            "4                                       Andorra         0.8961         3.9242   \n",
            "..                                          ...            ...            ...   \n",
            "261                          Sub-Saharan Africa         0.8879         1.0192   \n",
            "262  Sub-Saharan Africa (excluding high income)         3.2523         1.5872   \n",
            "263   Sub-Saharan Africa (IDA & IBRD countries)         1.7697         1.7440   \n",
            "264                         Upper middle income         3.1682         3.6737   \n",
            "265                                       World         0.7747         2.6921   \n",
            "\n",
            "     2018 [YR2018]  2019 [YR2019]  2020 [YR2020]  2030 [YR2030]  \n",
            "0           3.7364         0.6141         1.9883         0.0942  \n",
            "1           2.1690         1.5303         3.5665         1.7349  \n",
            "2           1.5509         2.4556         3.0417         0.0114  \n",
            "3           1.1129         1.6479         3.1007         0.6840  \n",
            "4           0.0745         2.0379         3.0965         2.1794  \n",
            "..             ...            ...            ...            ...  \n",
            "261         1.5645         1.5789         0.1476         3.6526  \n",
            "262         3.8270         3.4941         1.6807         1.2229  \n",
            "263         1.6573         3.1732         1.3454         1.4821  \n",
            "264         1.0210         2.2962         3.6815         0.6471  \n",
            "265         0.2496         3.5645         3.8924         3.8018  \n",
            "\n",
            "[266 rows x 7 columns]\n"
          ]
        }
      ]
    },
    {
      "cell_type": "code",
      "source": [
        "import pandas as pd\n",
        "from statsmodels.tsa.arima.model import ARIMA\n",
        "Train=pd.read_csv('/kaggle/input/ml-olympiad-co2-emissions-prediction-challenge/train.csv')\n",
        "Test= pd.read_csv('/kaggle/input/ml-olympiad-co2-emissions-prediction-challenge/test.csv')\n",
        "sample_submission= pd.read_csv('/kaggle/input/ml-olympiad-co2-emissions-prediction-challenge/sample_submission.csv')"
      ],
      "metadata": {
        "execution": {
          "iopub.status.busy": "2024-03-11T15:26:48.831005Z",
          "iopub.execute_input": "2024-03-11T15:26:48.831523Z",
          "iopub.status.idle": "2024-03-11T15:26:48.889648Z",
          "shell.execute_reply.started": "2024-03-11T15:26:48.831487Z",
          "shell.execute_reply": "2024-03-11T15:26:48.888722Z"
        },
        "trusted": true,
        "id": "9c22j-ZAAaom"
      },
      "execution_count": null,
      "outputs": []
    },
    {
      "cell_type": "code",
      "source": [
        "#replace \"..\"with .100\n",
        "Train=Train.replace('..', .100)\n",
        "Test=Test.replace('..', 0.100)"
      ],
      "metadata": {
        "execution": {
          "iopub.status.busy": "2024-03-11T15:26:48.891712Z",
          "iopub.execute_input": "2024-03-11T15:26:48.892389Z",
          "iopub.status.idle": "2024-03-11T15:26:48.917882Z",
          "shell.execute_reply.started": "2024-03-11T15:26:48.892357Z",
          "shell.execute_reply": "2024-03-11T15:26:48.916618Z"
        },
        "trusted": true,
        "id": "b4PmycNzAaon"
      },
      "execution_count": null,
      "outputs": []
    },
    {
      "cell_type": "code",
      "source": [
        "#Unique country for iteration\n",
        "unique = Train['Country Name'].unique()"
      ],
      "metadata": {
        "execution": {
          "iopub.status.busy": "2024-03-11T15:26:48.919205Z",
          "iopub.execute_input": "2024-03-11T15:26:48.920037Z",
          "iopub.status.idle": "2024-03-11T15:26:48.92641Z",
          "shell.execute_reply.started": "2024-03-11T15:26:48.920002Z",
          "shell.execute_reply": "2024-03-11T15:26:48.924899Z"
        },
        "trusted": true,
        "id": "c1Ut1EVxAaoo"
      },
      "execution_count": null,
      "outputs": []
    },
    {
      "cell_type": "code",
      "source": [
        "#trainig and inferencing with LogisticRegression and ARIMA\n",
        "import pandas as pd\n",
        "from statsmodels.tsa.arima.model import ARIMA\n",
        "from sklearn.linear_model import LogisticRegression\n",
        "import numpy as np\n",
        "from sklearn.svm import SVC\n",
        "from sklearn.metrics import accuracy_score, classification_report, confusion_matrix\n",
        "j=0\n",
        "for i in unique:\n",
        "    transposed_df=0\n",
        "    fg = Train[Train['Country Name'] == i].reset_index(drop=True)\n",
        "    columns_to_drop = ['Country Code', 'Country Name','Indicator']\n",
        "    fg = fg.drop(columns_to_drop, axis=1)\n",
        "    transposed_df = fg.transpose()\n",
        "    #print(fg)\n",
        "    #print('done for now')\n",
        "    Xtrain = transposed_df[[0,1, 2,3,4,5,6,7,8,9,10]]\n",
        "    Xtrain\n",
        "    Ytrain=transposed_df[11]\n",
        "    Ytrain\n",
        "    logistic_regression = LogisticRegression()\n",
        "    try:\n",
        "        logistic_regression.fit(Xtrain,Ytrain)\n",
        "        fgt = Test[Test['Country Name'] == i].reset_index(drop=True)\n",
        "        columns_to_drop = [ 'Country Name','Indicator']\n",
        "        fgt = fgt.drop(columns_to_drop, axis=1)\n",
        "        transposed_df = fgt.transpose()\n",
        "        #print(transposed_df)\n",
        "\n",
        "        Xtest = transposed_df[[0,1, 2,3,4,5,6,7,8,9,10]]\n",
        "        forecast = logistic_regression.predict(Xtest.astype(float))\n",
        "\n",
        "        model = ARIMA(Ytrain.astype(float), order=(0,1,0))  # Adjust order as needed\n",
        "        model_fit = model.fit()\n",
        "\n",
        "\n",
        "        forecast2 = model_fit.forecast(steps=16)\n",
        "\n",
        "        row_index = sample_submission[sample_submission.eq(i).any(axis=1)].index[0]\n",
        "\n",
        "\n",
        "        new_values = [i, forecast[0], forecast[1],forecast[2], forecast[3], forecast[4],forecast2[31]]\n",
        "        sample_submission.loc[row_index] = new_values\n",
        "    except:\n",
        "        j+=1\n",
        "\n",
        "\n",
        "\n"
      ],
      "metadata": {
        "execution": {
          "iopub.status.busy": "2024-03-11T15:26:48.929443Z",
          "iopub.execute_input": "2024-03-11T15:26:48.930452Z",
          "iopub.status.idle": "2024-03-11T15:27:02.902191Z",
          "shell.execute_reply.started": "2024-03-11T15:26:48.930404Z",
          "shell.execute_reply": "2024-03-11T15:27:02.900943Z"
        },
        "trusted": true,
        "id": "XtNE98IPAaoo"
      },
      "execution_count": null,
      "outputs": []
    },
    {
      "cell_type": "code",
      "source": [
        "sample_submission"
      ],
      "metadata": {
        "execution": {
          "iopub.status.busy": "2024-03-11T15:27:02.903585Z",
          "iopub.execute_input": "2024-03-11T15:27:02.903944Z",
          "iopub.status.idle": "2024-03-11T15:27:02.921941Z",
          "shell.execute_reply.started": "2024-03-11T15:27:02.903915Z",
          "shell.execute_reply": "2024-03-11T15:27:02.920545Z"
        },
        "trusted": true,
        "id": "KEwywNTHAaop"
      },
      "execution_count": null,
      "outputs": []
    },
    {
      "cell_type": "code",
      "source": [
        "sample_submission.to_csv('submission.csv', index=False)"
      ],
      "metadata": {
        "execution": {
          "iopub.status.busy": "2024-03-11T15:27:02.92391Z",
          "iopub.execute_input": "2024-03-11T15:27:02.92439Z",
          "iopub.status.idle": "2024-03-11T15:27:02.947365Z",
          "shell.execute_reply.started": "2024-03-11T15:27:02.924345Z",
          "shell.execute_reply": "2024-03-11T15:27:02.946038Z"
        },
        "trusted": true,
        "id": "8KRyEAasAaop"
      },
      "execution_count": null,
      "outputs": []
    }
  ]
}