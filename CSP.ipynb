{
  "nbformat": 4,
  "nbformat_minor": 0,
  "metadata": {
    "colab": {
      "name": "CSP.ipynb",
      "provenance": [],
      "collapsed_sections": []
    },
    "kernelspec": {
      "name": "python3",
      "display_name": "Python 3"
    }
  },
  "cells": [
    {
      "cell_type": "markdown",
      "metadata": {
        "id": "IDBSnvWGcuTR"
      },
      "source": [
        "#Rearangement problem : \n",
        "Given a permutation P of length n such that 1<=P[i] <=n apears exactly once in P. Rearrange the values of P such a way that, for any element P[i], pos[P[i]] != i"
      ]
    },
    {
      "cell_type": "markdown",
      "metadata": {
        "id": "xwjp_vnxctH_"
      },
      "source": [
        ""
      ]
    },
    {
      "cell_type": "code",
      "metadata": {
        "id": "nqth9FBLjFNb"
      },
      "source": [
        "import random\n",
        "import numpy as np\n",
        "import matplotlib.pyplot as plt\n",
        "# P = [1,3,4,2]\n",
        "n = 4\n",
        "# P = []\n",
        "# for i in range(n):\n",
        "#     P.append(random.(1,n))\n",
        "# P\n",
        "\n",
        "##generating an array of n random numbers in range [1,n]\n",
        "# X = random.sample(range(1, 10000000), n)\n",
        "# P = random.sample(range(1, n+1), n)\n",
        "# print(X)\n",
        "# print(P)\n",
        "    \n",
        "# pos = {}\n",
        "# for i in range(n):\n",
        "#     pos[P[i]] = i\n",
        "# # for val in P:\n",
        "# #     print(val, pos[val])\n",
        "# # print(\"\")\n",
        "\n",
        "# printSolution(P)\n",
        "\n",
        "\n"
      ],
      "execution_count": null,
      "outputs": []
    },
    {
      "cell_type": "code",
      "metadata": {
        "id": "uAbHS9d7GcFZ"
      },
      "source": [
        "pos = dict()"
      ],
      "execution_count": null,
      "outputs": []
    },
    {
      "cell_type": "code",
      "metadata": {
        "id": "kOuaGaR2ILts"
      },
      "source": [
        "#storing original position"
      ],
      "execution_count": null,
      "outputs": []
    },
    {
      "cell_type": "code",
      "metadata": {
        "id": "kot9XTChNrSn"
      },
      "source": [
        "def init(n):\n",
        "    P = random.sample(range(1, n+1), n)\n",
        "    #storing original position\n",
        "    global pos\n",
        "    pos = dict()\n",
        "    for i in range(n):\n",
        "        pos[P[i]] = i\n",
        "    return P"
      ],
      "execution_count": null,
      "outputs": []
    },
    {
      "cell_type": "code",
      "metadata": {
        "id": "izocPAROZB7d"
      },
      "source": [
        "def fitness(P):\n",
        "    cnt = 0\n",
        "    n = len(P)\n",
        "\n",
        "    freq = np.zeros(n+1)\n",
        "    for i in range(n):\n",
        "        freq[P[i]]+=1;\n",
        "\n",
        "    for val in range(1, n+1):\n",
        "        if(freq[val] > 1): cnt+=(freq[val]-1)\n",
        "    \n",
        "    for i in range(n):\n",
        "        if pos[P[i]] == i : cnt+=1 \n",
        "\n",
        "    return int(cnt)"
      ],
      "execution_count": null,
      "outputs": []
    },
    {
      "cell_type": "code",
      "metadata": {
        "id": "wFzoahWwZf4f"
      },
      "source": [
        "def satisfy(P):\n",
        "    \n",
        "    n = len(P)      \n",
        "    freq = np.zeros(n+1)\n",
        "    for i in range(n):\n",
        "        freq[P[i]]+=1;\n",
        "\n",
        "    for i in range(n):\n",
        "        if freq[P[i]] > 1 :\n",
        "            # print(\"Not acceptable, \", P[i] ,\"apeared \", int(freq[P[i]]), \"times\")\n",
        "            return False\n",
        "        if pos[P[i]] == i :\n",
        "            # print(\"Not acceptable, some element did not change its position.\\n so, constraint is not satisfied\")\n",
        "            # print(\"printing the element which has same position as before:\")\n",
        "            # print(\"value : \",P[i], \",original position : \", pos[P[i]]+1, \", new position : \",i+1, end = '\\n')\n",
        "            return False\n",
        "    return True\n"
      ],
      "execution_count": null,
      "outputs": []
    },
    {
      "cell_type": "code",
      "metadata": {
        "id": "-6Biwr-5_z44"
      },
      "source": [
        "# P = [4,3,2,2]\n",
        "# printSolution(P)\n",
        "# satisfy(P)\n",
        "# fitness(P)\n",
        "\n",
        "# P = random.sample(range(1, n+1), n)\n",
        "# printSolution(P)\n",
        "# satisfy(P)\n",
        "# fitness(P)\n"
      ],
      "execution_count": null,
      "outputs": []
    },
    {
      "cell_type": "code",
      "metadata": {
        "id": "7BWvsrmk53N5"
      },
      "source": [
        "import copy\n",
        "\n",
        "#randomly swap 2 elements of initial input\n",
        "def randomSwap(P):\n",
        "    P_copy = copy.deepcopy(P)\n",
        "    n = len(P)\n",
        "\n",
        "    # taking 2 random positions in range [0,n-1]\n",
        "    [pos1,pos2] = random.sample(range(0, n), 2)\n",
        "    tmp = P_copy[pos1]\n",
        "    P_copy[pos1] = P_copy[pos2]\n",
        "    P_copy[pos2] = tmp\n",
        "    return P_copy "
      ],
      "execution_count": null,
      "outputs": []
    },
    {
      "cell_type": "code",
      "metadata": {
        "id": "LcUeKtuDMKos"
      },
      "source": [
        "# import copy\n",
        "# def singleFlip(P):\n",
        "#   P_copy = copy.deepcopy(P) # simply copies the elements of P into P_copy\n",
        "#   P = len(P_copy)\n",
        "\n",
        "#   val = random.randint(1, n) # selects a random value\n",
        "#   position = random.randint(0, n-1)  # selects a random position\n",
        "\n",
        "#   P_copy[position] = val\n",
        "#   return P_copy"
      ],
      "execution_count": null,
      "outputs": []
    },
    {
      "cell_type": "code",
      "metadata": {
        "id": "xNvns_iK54jB"
      },
      "source": [
        "# print(singleFlip(np.asarray([1,2,3,4])))"
      ],
      "execution_count": null,
      "outputs": []
    },
    {
      "cell_type": "code",
      "metadata": {
        "id": "0SEVD9pOsyQx"
      },
      "source": [
        "\n",
        "# def monteCarlo(P, n, maxSteps) :\n",
        "#     if satisfy(P): return i,P\n",
        "\n",
        "#     for i in range(maxSteps):\n",
        "#         P_new = \n",
        "#         print(\"fitnnes = \", fitness(P))\n",
        "#         # print(tmp)\n",
        "#         if satisfy(P_new): return i,P_new\n",
        "#     return \"no solution\"\n",
        "\n",
        "# iterations ,solution = monteCarlo(4, 50)\n",
        "# print(\"found solution in %d iteration(s)\" %iterations)\n",
        "# printSolution(solution)"
      ],
      "execution_count": null,
      "outputs": []
    },
    {
      "cell_type": "code",
      "metadata": {
        "id": "pkCy2GVmNQWk"
      },
      "source": [
        "def printSolution(P):\n",
        "    # sum = 0;\n",
        "    # for i in range(n):\n",
        "    #     sum+=(P[i]*X[i])\n",
        "    \n",
        "    # print(\"X :\",X)\n",
        "    print(\"P :\",P)\n",
        "\n",
        "    print(\"positions in original array (1 based index):\")\n",
        "    for i in range(n):\n",
        "        if pos[P[i]] == i : print('0', end = ' ')\n",
        "        else : print(pos[P[i]]+1, end = ' ')\n",
        "    print(\"\")\n",
        "    print(\"positions after rearrangement (1 based index):\")\n",
        "    for i in range(n): \n",
        "        print(i+1, end =' ')\n",
        "    print(\"\")\n",
        "\n",
        "    print(\"sum = \", sum)\n",
        "    return sum"
      ],
      "execution_count": null,
      "outputs": []
    },
    {
      "cell_type": "code",
      "metadata": {
        "id": "p1u04K8x6mg6"
      },
      "source": [
        "def HillDescent(P,n ,maxSteps):\n",
        "    x_axis=[]\n",
        "    y_axis=[]\n",
        "\n",
        "    #initialization\n",
        "    # print(P)\n",
        "    # first check if the initilization was the solution\n",
        "    if satisfy(P): return [P, 0,0,x_axis,y_axis]\n",
        "    \n",
        "    #otherwise go for the loop\n",
        "    for i in range(maxSteps):\n",
        "        P_new = randomSwap(P) # now apply the action to get a new solution from the neighborhood\n",
        "    \n",
        "        x_axis.append(i)\n",
        "        y_axis.append(fitness(P))\n",
        "\n",
        "        if satisfy(P_new):\n",
        "            return [P_new,i, fitness(P), x_axis, y_axis]\n",
        "        if fitness(P_new) <= fitness(P):\n",
        "            P = P_new  # otherwise P_new is your new solution\n",
        "  \n",
        "    # if it is here that means no solutions were found\n",
        "    return [None, i, fitness(P), x_axis,y_axis]\n"
      ],
      "execution_count": null,
      "outputs": []
    },
    {
      "cell_type": "code",
      "metadata": {
        "id": "iOYM1HDJ7PWn",
        "outputId": "523ebea6-9c00-4e6b-c4a3-b6fb6b8bb62e",
        "colab": {
          "base_uri": "https://localhost:8080/",
          "height": 729
        }
      },
      "source": [
        "avg_iterations = 0\n",
        "avg_fitness = 0\n",
        "n_observation = 5\n",
        "# n = random.sample(range(2, 1000), 10)\n",
        "n = np.asarray([10,50,100,200, 250,500, 600, 1000])\n",
        "print(len(n))\n",
        "iteration = []\n",
        "for i in range(len(n)):\n",
        "    for j in range(n_observation):\n",
        "        P = init(n[i])\n",
        "        P_new,iterations, fitness_val, x_axis,y_axis = HillDescent(P, n[i], 10*n[i])\n",
        "        avg_iterations += iterations\n",
        "        avg_fitness += fitness_val \n",
        "            \n",
        "    avg_iterations /= n_observation\n",
        "    avg_fitness /= n_observation\n",
        "    iteration.append(int(round(avg_iterations)))\n",
        "    print(\"n = \", n[i], \"average iterations = \", round(avg_iterations)) \n",
        "    # print(\"average fitness : \", avg_fitness)  \n",
        "\n",
        "N = 1000\n",
        "P = init(N)\n",
        "P_new,iterations, fitness_val, x_axis,y_axis = HillDescent(P, N, 10*N)\n",
        "\n",
        "plt.plot(x_axis,y_axis) \n",
        "plt.xlabel('iterations')\n",
        "plt.ylabel('fitness')\n",
        "plt.title('HillDescent Plot for n = 1000')\n",
        "plt.show()\n",
        "plt.close()\n",
        "\n",
        "plt.plot(n,iteration)\n",
        "# plt.scatter(avg_iterations, avg_fitness, color = 'r')\n",
        "plt.xlabel('n')\n",
        "plt.ylabel('iteration')\n",
        "plt.title('HillDescent Performance')\n",
        "plt.show()\n"
      ],
      "execution_count": null,
      "outputs": [
        {
          "output_type": "stream",
          "text": [
            "8\n",
            "n =  10 average iterations =  14\n",
            "n =  50 average iterations =  104\n",
            "n =  100 average iterations =  274\n",
            "n =  200 average iterations =  572\n",
            "n =  250 average iterations =  874\n",
            "n =  500 average iterations =  1730\n",
            "n =  600 average iterations =  2505\n",
            "n =  1000 average iterations =  3938\n"
          ],
          "name": "stdout"
        },
        {
          "output_type": "display_data",
          "data": {
            "image/png": "[encoded data removed]",
            "text/plain": [
              "<Figure size 432x288 with 1 Axes>"
            ]
          },
          "metadata": {
            "tags": [],
            "needs_background": "light"
          }
        },
        {
          "output_type": "display_data",
          "data": {
            "image/png": "[encoded data removed]",
            "text/plain": [
              "<Figure size 432x288 with 1 Axes>"
            ]
          },
          "metadata": {
            "tags": [],
            "needs_background": "light"
          }
        }
      ]
    },
    {
      "cell_type": "code",
      "metadata": {
        "id": "YL1J-91W6zTq"
      },
      "source": [
        "testHillClimbing()"
      ],
      "execution_count": null,
      "outputs": []
    },
    {
      "cell_type": "code",
      "metadata": {
        "id": "tJ-nXWFT0XEL"
      },
      "source": [
        "#plot, scatter plot and bar plot example\n",
        "x = [0,1,2,3]\n",
        "y = [4,5,6,7]\n",
        "plt.plot(x,y)\n",
        "plt.show()\n",
        "plt.scatter(x,y)\n",
        "plt.show()\n",
        "plt.bar(x,y)\n",
        "plt.show()"
      ],
      "execution_count": null,
      "outputs": []
    },
    {
      "cell_type": "markdown",
      "metadata": {
        "id": "PgONHO1zeQP7"
      },
      "source": [
        "#Recombination / Crossover\n",
        "P1 = [0,1,3,4,5,2] \n",
        "P2 = [5,4,3,1,0,2] \n",
        "after crossover at position2 , P1_new = [0,1,3,1,0,2], P2_new = [5,4,3,4,5,2]\n"
      ]
    },
    {
      "cell_type": "code",
      "metadata": {
        "id": "yEubLT_YsbQn"
      },
      "source": [
        "def crossover(p1, p2):\n",
        "    n = len(P1)\n",
        "    crossoverPoint = random.randint(1,n-1)\n",
        "    print(crossoverPoint)\n",
        "    # print(p1[ : crossoverPoint] + p2[crossoverPoint : ])\n",
        "    # print(p2[ : crossoverPoint] + p1[crossoverPoint : ])\n",
        "    c1 = p1[ : crossoverPoint] + p2[crossoverPoint : ]\n",
        "    c2 = p2[ : crossoverPoint] + p1[crossoverPoint : ]\n",
        "    return c1,c2\n"
      ],
      "execution_count": null,
      "outputs": []
    },
    {
      "cell_type": "code",
      "metadata": {
        "id": "6hyG2n_bs8UC"
      },
      "source": [
        "P1 = [0,1,3,4,5,2] \n",
        "P2 = [5,4,3,1,0,2]\n",
        "c1,c2 = crossover(P1, P2)\n",
        "print(c1)\n",
        "print(c2)\n",
        "# print(P1[:2])\n",
        "# print(P2[2:])"
      ],
      "execution_count": null,
      "outputs": []
    },
    {
      "cell_type": "code",
      "metadata": {
        "id": "XFfYC-iw4vqE"
      },
      "source": [
        "import random\n",
        "def BasicGeneticAlgorithm(P, n, maxSteps, populationSize=10):\n",
        "    if satisfy(P) : return P\n",
        "    #initialization\n",
        "    population = []\n",
        "    for i in range(populationSize):\n",
        "        p = random.sample(range(1,n+1), n)\n",
        "        if satisfy(p) : return p\n",
        "        population.append(p)\n",
        "    #now check if the initial population has got the solution\n",
        "    for ppl in population:\n",
        "        return ppl\n",
        "    #main loop\n",
        "    for i in range(maxSteps):\n",
        "        new_population = []\n",
        "        #now start the loop for crossover\n",
        "        for j in range(int(populationSize/2)):\n",
        "            # p1 = population[random.randint(0,populationSize-1)] #select parent1\n",
        "            # p2 = population[random.randint(0,populationSize-1)] #select parent2\n",
        "            [p1,p2] = random.sample(range(0, populationSize-1), 2) \n",
        "            #generating list of 2 distinct random numbers in range [0,populationSize-1]\n",
        "            # print(p1,p2)\n",
        "            new_population.append(p1)\n",
        "            new_population.append(p2)\n",
        "            \n",
        "            #add these new offspring to the new population\n",
        "            c1,c2 = crossover(p1,p2)\n",
        "        #end of crossover\n",
        "\n",
        "        for ppl in new_population:\n",
        "            if satisfy(ppl) : return ppl\n",
        "        population = new_population \n",
        "        # accepts the new generation as new population\n",
        "    return False"
      ],
      "execution_count": null,
      "outputs": []
    },
    {
      "cell_type": "code",
      "metadata": {
        "id": "iwiCgoTnF4dc"
      },
      "source": [
        "n = 1000\n",
        "P = init(n)\n",
        "# print(P)\n",
        "BasicGeneticAlgorithm(P,n,10*n,100)\n",
        "\n",
        "avg_iterations = 0\n",
        "avg_fitness = 0\n",
        "n_observation = 10\n",
        "n = 1000\n",
        "for i in range(n_observation):\n",
        "    P = init(n)\n",
        "    P_new,iterations, fitness_val, x_axis,y_axis = BasicGeneticAlgorithm(P,n,10*n,100)\n",
        "    avg_iterations += iterations\n",
        "    avg_fitness += fitness_val \n",
        "    # plt.plot(x_axis,y_axis)\n",
        "    # plt.show()\n",
        "    # printSolution(P)\n",
        "    # print(P_new)\n",
        "    print(\"found solution in \",iterations,\"iteration(s)\" )\n",
        "\n",
        "avg_iterations /= n_observation\n",
        "print(\"average iterations : \", avg_iterations) \n",
        "print(\"average fitness : \", avg_fitness)  \n",
        "\n",
        "# plt.plot(avg_iterations,avg_fitness)\n",
        "# plt.show()\n",
        "\n",
        "plt.plot(x_axis,y_axis)\n",
        "plt.show()"
      ],
      "execution_count": null,
      "outputs": []
    },
    {
      "cell_type": "code",
      "metadata": {
        "id": "tWZrPxhfIsld"
      },
      "source": [
        "import random\n",
        "def GeneticAlgorithm1(P, n, maxSteps, populationSize):\n",
        "    #initialization\n",
        "    population = []\n",
        "    x_axis = []\n",
        "    y_axis = []\n",
        "    \n",
        "    for i in range(populationSize):\n",
        "        p_new = random.sample(range(1,n+1), n)\n",
        "        population.append(p_new)\n",
        "    #now check if the initial population has got the solution\n",
        "    for ppl in population:\n",
        "        if satisfy(ppl) :\n",
        "            print('solved in initial step') \n",
        "            return [ppl, 1, x_axis, y_axis] \n",
        "    #main loop\n",
        "    for i in range(maxSteps):\n",
        "        new_population = []\n",
        "        #now start the loop for crossover\n",
        "        for j in range(int(populationSize/2)):\n",
        "            # p1 = population[random.randint(0,populationSize-1)] #select parent1\n",
        "            # p2 = population[random.randint(0,populationSize-1)] #select parent2\n",
        "            [p1,p2] = random.sample(range(0, populationSize-1), 2) \n",
        "            #generating list of 2 distinct random numbers in range [0,populationSize-1]\n",
        "            # print(p1,p2)\n",
        "            # there is a risk that we might select same parents p1==p2\n",
        "            c1,c2=crossover(p1,p2)\n",
        "            #add these new offspring to the new population\n",
        "            new_population.append(c1)\n",
        "            new_population.append(c2)\n",
        "        #end of crossover\n",
        "\n",
        "        for ppl in new_population:\n",
        "            if satisfy(ppl) : return [ppl,i, x_axis, y_axis]\n",
        "        \n",
        "        #selection according to fitness Elitism / Exploitation\n",
        "        #population = new_population\n",
        "        population_merged = population + new_population\n",
        "        population_merged.sort(key=fitness)\n",
        "        population = population_merged[:populationSize]\n",
        "\n",
        "        x_axis.append(i)\n",
        "        y_axis.append(fitness(population[0]))\n",
        "    \n",
        "    return [None, maxSteps, x_axis, y_axis] "
      ],
      "execution_count": null,
      "outputs": []
    },
    {
      "cell_type": "code",
      "metadata": {
        "id": "S6iAr_z2J7MT"
      },
      "source": [
        "def testGA():\n",
        "    avg_iterations = 0\n",
        "    avg_fitness = 0\n",
        "    n_observation = 5\n",
        "    # n = random.sample(range(2, 1000), 10)\n",
        "    n = np.asarray([10,50,100,200, 250,500, 600, 1000, 1000])\n",
        "    print(len(n))\n",
        "    iteration = []\n",
        "    for i in range(len(n)):\n",
        "        for j in range(n_observation):\n",
        "            P = init(n[i])\n",
        "            P_new,iterations, x_axis,y_axis = GeneticAlgorithm1(P, n[i], 6*n[i], 10)\n",
        "            avg_iterations += iterations\n",
        "\n",
        "        avg_iterations /= n_observation\n",
        "        # avg_fitness /= n_observation\n",
        "        iteration.append(int(round(avg_iterations)))\n",
        "        # print(\"n = \", n[i], \"average iterations = \", round(avg_iterations)) \n",
        "        # print(\"average fitness : \", avg_fitness)  \n",
        "\n",
        "    N = 1000\n",
        "    P = init(N)\n",
        "    P_new,iterations, x_axis,y_axis = GeneticAlgorithm1(P, N, 5*N, 1)\n",
        "\n",
        "    plt.plot(x_axis,y_axis) \n",
        "    plt.xlabel('iterations')\n",
        "    plt.ylabel('fitness')\n",
        "    plt.title('Genetic Algorithm  Plot for n = 1000')\n",
        "    plt.show()\n",
        "    plt.close()\n",
        "\n",
        "    plt.plot(n,iteration)\n",
        "    # plt.scatter(avg_iterations, avg_fitness, color = 'r')\n",
        "    plt.xlabel('n')\n",
        "    plt.ylabel('iteration')\n",
        "    plt.title('Genetic Algorithm Performance')\n",
        "    plt.show()\n",
        "    \n",
        "    # n = 100000\n",
        "    # P = init(n)\n",
        "    # P1, iterations, x_axis, y_axis = GeneticAlgorithm1(P, n, 10*n, 10)\n",
        "    # print(P1)\n",
        "    # print('solved in ',iterations, 'iteration(s)')\n",
        "\n",
        "    # plt.plot(x_axis,y_axis)\n",
        "    # plt.show()\n",
        "    # print(len(x_axis))"
      ],
      "execution_count": null,
      "outputs": []
    },
    {
      "cell_type": "code",
      "metadata": {
        "id": "NK0tlve9-iwo",
        "outputId": "456c5163-6fb4-4bbb-da45-85a584e65a23",
        "colab": {
          "base_uri": "https://localhost:8080/",
          "height": 1000
        }
      },
      "source": [
        "testGA()"
      ],
      "execution_count": null,
      "outputs": [
        {
          "output_type": "stream",
          "text": [
            "9\n",
            "solved in initial step\n",
            "solved in initial step\n",
            "solved in initial step\n",
            "solved in initial step\n",
            "solved in initial step\n",
            "solved in initial step\n",
            "solved in initial step\n",
            "solved in initial step\n",
            "solved in initial step\n",
            "solved in initial step\n",
            "solved in initial step\n",
            "solved in initial step\n",
            "solved in initial step\n",
            "solved in initial step\n",
            "solved in initial step\n",
            "solved in initial step\n",
            "solved in initial step\n",
            "solved in initial step\n",
            "solved in initial step\n",
            "solved in initial step\n",
            "solved in initial step\n",
            "solved in initial step\n",
            "solved in initial step\n",
            "solved in initial step\n",
            "solved in initial step\n",
            "solved in initial step\n",
            "solved in initial step\n",
            "solved in initial step\n",
            "solved in initial step\n",
            "solved in initial step\n",
            "solved in initial step\n",
            "solved in initial step\n",
            "solved in initial step\n",
            "solved in initial step\n",
            "solved in initial step\n",
            "solved in initial step\n",
            "solved in initial step\n",
            "solved in initial step\n",
            "solved in initial step\n",
            "solved in initial step\n",
            "solved in initial step\n",
            "solved in initial step\n",
            "solved in initial step\n",
            "solved in initial step\n",
            "solved in initial step\n"
          ],
          "name": "stdout"
        },
        {
          "output_type": "display_data",
          "data": {
            "image/png": "[encoded data removed]",
            "text/plain": [
              "<Figure size 432x288 with 1 Axes>"
            ]
          },
          "metadata": {
            "tags": [],
            "needs_background": "light"
          }
        },
        {
          "output_type": "display_data",
          "data": {
            "image/png": "[encoded data removed]",
            "text/plain": [
              "<Figure size 432x288 with 1 Axes>"
            ]
          },
          "metadata": {
            "tags": [],
            "needs_background": "light"
          }
        }
      ]
    }
  ]
}