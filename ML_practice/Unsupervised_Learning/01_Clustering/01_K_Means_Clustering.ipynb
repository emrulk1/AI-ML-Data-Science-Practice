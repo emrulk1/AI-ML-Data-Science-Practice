{
 "cells": [
  {
   "cell_type": "markdown",
   "metadata": {
    "id": "MCehfimFgVJH"
   },
   "source": [
    "***Unsupervised Learning***\n",
    "\n",
    "## **Clustering**\n",
    "\n",
    "Clustering is the task of dividing the population or data points into a number of groups such that data points in the same groups are more similar to other data points in the same group and dissimilar to the data points in other groups. It is basically a collection of objects on the basis of similarity and dissimilarity between them.\n",
    "\n",
    "<img src = \"https://media.geeksforgeeks.org/wp-content/uploads/merge3cluster.jpg\">\n",
    "\n",
    "<img src = \"https://media.geeksforgeeks.org/wp-content/uploads/clusteringg.jpg\">"
   ]
  },
  {
   "cell_type": "markdown",
   "metadata": {
    "id": "a9BHy2Pa8bDx"
   },
   "source": [
    "\n",
    "## **K Means Clustering**\n",
    "\n",
    "k-means clustering is a method of vector quantization, originally from signal processing, that aims to partition n observations into k clusters in which each observation belongs to the cluster with the nearest mean, serving as a prototype of the cluster."
   ]
  },
  {
   "cell_type": "code",
   "execution_count": 26,
   "metadata": {
    "colab": {
     "base_uri": "https://localhost:8080/",
     "height": 87
    },
    "id": "A3oKnYQx2OPt",
    "outputId": "9535465c-c559-4946-e9b6-275be4cda4ad"
   },
   "outputs": [
    {
     "name": "stderr",
     "output_type": "stream",
     "text": [
      "[nltk_data] Downloading package stopwords to\n",
      "[nltk_data]     /home/emrulk1/nltk_data...\n",
      "[nltk_data]   Package stopwords is already up-to-date!\n",
      "[nltk_data] Downloading package punkt to /home/emrulk1/nltk_data...\n",
      "[nltk_data]   Package punkt is already up-to-date!\n",
      "[nltk_data] Downloading package punkt_tab to\n",
      "[nltk_data]     /home/emrulk1/nltk_data...\n",
      "[nltk_data]   Package punkt_tab is already up-to-date!\n"
     ]
    }
   ],
   "source": [
    "#Importing libraries\n",
    "\n",
    "import numpy as np\n",
    "import pandas as pd\n",
    "import matplotlib.pyplot as plt\n",
    "import collections #For fetching dictionary of labels & clusters\n",
    "import nltk #Natural Language Toolkit\n",
    "nltk.download('stopwords')\n",
    "nltk.download('punkt')\n",
    "nltk.download('punkt_tab')\n",
    "from nltk import word_tokenize #Word tokenization is the process of splitting a large sample of text into words.\n",
    "from nltk.corpus import stopwords\n",
    "from nltk.stem import PorterStemmer #Normalizing Sentences\n",
    "from sklearn.cluster import KMeans\n",
    "from sklearn.feature_extraction.text import TfidfVectorizer\n",
    "from pprint import pprint"
   ]
  },
  {
   "cell_type": "markdown",
   "metadata": {
    "id": "WqbQq30ZbyRQ"
   },
   "source": [
    "## **Loading a Dataset**\n",
    "\n",
    "**Self Made Dataset**"
   ]
  },
  {
   "cell_type": "code",
   "execution_count": 27,
   "metadata": {
    "colab": {
     "base_uri": "https://localhost:8080/",
     "height": 876
    },
    "id": "_VvcOAOdb7tL",
    "outputId": "8a7b7de9-a586-4807-ca98-da2f9c10763b"
   },
   "outputs": [
    {
     "data": {
      "text/html": [
       "<div>\n",
       "<style scoped>\n",
       "    .dataframe tbody tr th:only-of-type {\n",
       "        vertical-align: middle;\n",
       "    }\n",
       "\n",
       "    .dataframe tbody tr th {\n",
       "        vertical-align: top;\n",
       "    }\n",
       "\n",
       "    .dataframe thead th {\n",
       "        text-align: right;\n",
       "    }\n",
       "</style>\n",
       "<table border=\"1\" class=\"dataframe\">\n",
       "  <thead>\n",
       "    <tr style=\"text-align: right;\">\n",
       "      <th></th>\n",
       "      <th>Quotes</th>\n",
       "    </tr>\n",
       "  </thead>\n",
       "  <tbody>\n",
       "    <tr>\n",
       "      <th>0</th>\n",
       "      <td>Graphics designers are most creative people</td>\n",
       "    </tr>\n",
       "    <tr>\n",
       "      <th>1</th>\n",
       "      <td>Artificial Intelligence or AI is the last inve...</td>\n",
       "    </tr>\n",
       "    <tr>\n",
       "      <th>2</th>\n",
       "      <td>Snooker is a billiards sport for normally two ...</td>\n",
       "    </tr>\n",
       "    <tr>\n",
       "      <th>3</th>\n",
       "      <td>Snooker is played on a large (12 feet by 6 fee...</td>\n",
       "    </tr>\n",
       "    <tr>\n",
       "      <th>4</th>\n",
       "      <td>FOREX is the stock market for trading currencies</td>\n",
       "    </tr>\n",
       "    <tr>\n",
       "      <th>5</th>\n",
       "      <td>Software Engineering is hotter and hotter topi...</td>\n",
       "    </tr>\n",
       "    <tr>\n",
       "      <th>6</th>\n",
       "      <td>Love is blind</td>\n",
       "    </tr>\n",
       "    <tr>\n",
       "      <th>7</th>\n",
       "      <td>Snooker is popular in the United Kingdom and m...</td>\n",
       "    </tr>\n",
       "    <tr>\n",
       "      <th>8</th>\n",
       "      <td>The flying or operating of aircraft is known a...</td>\n",
       "    </tr>\n",
       "    <tr>\n",
       "      <th>9</th>\n",
       "      <td>AI is likely to be either the best or worst th...</td>\n",
       "    </tr>\n",
       "    <tr>\n",
       "      <th>10</th>\n",
       "      <td>Design is Intelligence made visible.</td>\n",
       "    </tr>\n",
       "    <tr>\n",
       "      <th>11</th>\n",
       "      <td>Falling in love is like being on drugs.</td>\n",
       "    </tr>\n",
       "    <tr>\n",
       "      <th>12</th>\n",
       "      <td>There is only one happiness in Life to Love an...</td>\n",
       "    </tr>\n",
       "    <tr>\n",
       "      <th>13</th>\n",
       "      <td>Boeing 777 is considered world's largest econo...</td>\n",
       "    </tr>\n",
       "    <tr>\n",
       "      <th>14</th>\n",
       "      <td>Warren Buffet is famous for making good invest...</td>\n",
       "    </tr>\n",
       "    <tr>\n",
       "      <th>15</th>\n",
       "      <td>The biggest of the many uses of aviation are i...</td>\n",
       "    </tr>\n",
       "    <tr>\n",
       "      <th>16</th>\n",
       "      <td>All giant majors in Silicon Valley is focusing...</td>\n",
       "    </tr>\n",
       "    <tr>\n",
       "      <th>17</th>\n",
       "      <td>Investing in stocks and trading with them are ...</td>\n",
       "    </tr>\n",
       "    <tr>\n",
       "      <th>18</th>\n",
       "      <td>Google will fulfill its mission only when its ...</td>\n",
       "    </tr>\n",
       "    <tr>\n",
       "      <th>19</th>\n",
       "      <td>Being in love is the number one reason why peo...</td>\n",
       "    </tr>\n",
       "    <tr>\n",
       "      <th>20</th>\n",
       "      <td>Aviation refers to flying using an aircraft li...</td>\n",
       "    </tr>\n",
       "    <tr>\n",
       "      <th>21</th>\n",
       "      <td>Auomation is the biggest blessing given by Art...</td>\n",
       "    </tr>\n",
       "    <tr>\n",
       "      <th>22</th>\n",
       "      <td>Graphics Designing is high rated freelance sub...</td>\n",
       "    </tr>\n",
       "    <tr>\n",
       "      <th>23</th>\n",
       "      <td>Loving from a long distance actually strengthe...</td>\n",
       "    </tr>\n",
       "    <tr>\n",
       "      <th>24</th>\n",
       "      <td>Real love is able to awaken your soul.</td>\n",
       "    </tr>\n",
       "    <tr>\n",
       "      <th>25</th>\n",
       "      <td>Stuart Bingham is a champion of Snooker</td>\n",
       "    </tr>\n",
       "    <tr>\n",
       "      <th>26</th>\n",
       "      <td>Software Engineer has average salary of $170K ...</td>\n",
       "    </tr>\n",
       "    <tr>\n",
       "      <th>27</th>\n",
       "      <td>AI would have a low error rate compared to hum...</td>\n",
       "    </tr>\n",
       "  </tbody>\n",
       "</table>\n",
       "</div>"
      ],
      "text/plain": [
       "                                               Quotes\n",
       "0         Graphics designers are most creative people\n",
       "1   Artificial Intelligence or AI is the last inve...\n",
       "2   Snooker is a billiards sport for normally two ...\n",
       "3   Snooker is played on a large (12 feet by 6 fee...\n",
       "4    FOREX is the stock market for trading currencies\n",
       "5   Software Engineering is hotter and hotter topi...\n",
       "6                                       Love is blind\n",
       "7   Snooker is popular in the United Kingdom and m...\n",
       "8   The flying or operating of aircraft is known a...\n",
       "9   AI is likely to be either the best or worst th...\n",
       "10               Design is Intelligence made visible.\n",
       "11            Falling in love is like being on drugs.\n",
       "12  There is only one happiness in Life to Love an...\n",
       "13  Boeing 777 is considered world's largest econo...\n",
       "14  Warren Buffet is famous for making good invest...\n",
       "15  The biggest of the many uses of aviation are i...\n",
       "16  All giant majors in Silicon Valley is focusing...\n",
       "17  Investing in stocks and trading with them are ...\n",
       "18  Google will fulfill its mission only when its ...\n",
       "19  Being in love is the number one reason why peo...\n",
       "20  Aviation refers to flying using an aircraft li...\n",
       "21  Auomation is the biggest blessing given by Art...\n",
       "22  Graphics Designing is high rated freelance sub...\n",
       "23  Loving from a long distance actually strengthe...\n",
       "24             Real love is able to awaken your soul.\n",
       "25            Stuart Bingham is a champion of Snooker\n",
       "26  Software Engineer has average salary of $170K ...\n",
       "27  AI would have a low error rate compared to hum..."
      ]
     },
     "execution_count": 27,
     "metadata": {},
     "output_type": "execute_result"
    }
   ],
   "source": [
    "# My Dataset contains multiple sentences related to\n",
    "# Graphics, Snooker, Investment, Software Engineering, Artificial Intelligence, Aviation & Love\n",
    "\n",
    "sentences = pd.read_csv(\"../data/Quotes.csv\")\n",
    "sentences"
   ]
  },
  {
   "cell_type": "markdown",
   "metadata": {
    "id": "O1MQVxhAc8Io"
   },
   "source": [
    "####**Converting our dataframe into List**"
   ]
  },
  {
   "cell_type": "code",
   "execution_count": 28,
   "metadata": {
    "id": "NHhJlE15ef8-"
   },
   "outputs": [],
   "source": [
    "sentences_list = sentences[\"Quotes\"].tolist()"
   ]
  },
  {
   "cell_type": "code",
   "execution_count": 29,
   "metadata": {
    "colab": {
     "base_uri": "https://localhost:8080/",
     "height": 530
    },
    "id": "Nnrqy9ZWgZgN",
    "outputId": "44a0dcef-3a38-42ce-e958-9fcf7710ef3c"
   },
   "outputs": [
    {
     "data": {
      "text/plain": [
       "['Graphics designers are most creative people',\n",
       " 'Artificial Intelligence or AI is the last invention - humans could ever make',\n",
       " 'Snooker is a billiards sport for normally two players.',\n",
       " 'Snooker is played on a large (12 feet by 6 feet) table that is covered with a smooth green material.',\n",
       " 'FOREX is the stock market for trading currencies',\n",
       " 'Software Engineering is hotter and hotter topic in Silicon Valley',\n",
       " 'Love is blind',\n",
       " 'Snooker is popular in the United Kingdom and many other countries',\n",
       " 'The flying or operating of aircraft is known as aviation.',\n",
       " 'AI is likely to be either the best or worst thing happen to humanity',\n",
       " 'Design is Intelligence made visible.',\n",
       " 'Falling in love is like being on drugs.',\n",
       " 'There is only one happiness in Life to Love and to be loved.',\n",
       " \"Boeing 777 is considered world's largest economical plane in the world of Aviation.\",\n",
       " 'Warren Buffet is famous for making good investments.He knows stock markets',\n",
       " 'The biggest of the many uses of aviation are in air travel and military aircraft.',\n",
       " 'All giant majors in Silicon Valley is focusing AI for their business productivity',\n",
       " 'Investing in stocks and trading with them are not that easy',\n",
       " \"Google will fulfill its mission only when its search engine is AI - complete You guys know what that means? That's Artificial Intelligence.\",\n",
       " 'Being in love is the number one reason why people wed.',\n",
       " 'Aviation refers to flying using an aircraft like an aeroplane.',\n",
       " 'Auomation is the biggest blessing given by Artificial Inteligence.',\n",
       " 'Graphics Designing is high rated freelance subject',\n",
       " 'Loving from a long distance actually strengthens a relationship',\n",
       " 'Real love is able to awaken your soul.',\n",
       " 'Stuart Bingham is a champion of Snooker',\n",
       " 'Software Engineer has average salary of $170K at Google',\n",
       " 'AI would have a low error rate compared to humans if coded properly. ']"
      ]
     },
     "execution_count": 29,
     "metadata": {},
     "output_type": "execute_result"
    }
   ],
   "source": [
    "sentences_list"
   ]
  },
  {
   "cell_type": "code",
   "execution_count": 30,
   "metadata": {},
   "outputs": [
    {
     "data": {
      "text/plain": [
       "'Graphics designers are most creative people'"
      ]
     },
     "execution_count": 30,
     "metadata": {},
     "output_type": "execute_result"
    }
   ],
   "source": [
    "sentences_list[0]"
   ]
  },
  {
   "cell_type": "markdown",
   "metadata": {
    "id": "Cp0N4-o20uH5"
   },
   "source": [
    "## **Defining a function tokenizer(text)**"
   ]
  },
  {
   "cell_type": "code",
   "execution_count": 31,
   "metadata": {
    "id": "7TznGiywBmHY"
   },
   "outputs": [],
   "source": [
    "def tokenizer(text):\n",
    "    tokens = word_tokenize(text) #Word tokenization is the process of splitting a large sample of text into words.\n",
    "    stemmer = PorterStemmer()\n",
    "\n",
    "    #Removing Morphhological axes\n",
    "    tokens = [stemmer.stem(t) for t in tokens if t not in stopwords.words('english')]\n",
    "    return tokens"
   ]
  },
  {
   "cell_type": "markdown",
   "metadata": {
    "id": "nW0ojl1V03y2"
   },
   "source": [
    "\n",
    "## **Defining a function cluster_sentences(sentences,k=(int))**\n",
    "\n",
    "#### **1. Training our K - Means Model**\n",
    "#### **2. Creating tfidf Vectorizer Matrix**"
   ]
  },
  {
   "cell_type": "code",
   "execution_count": 32,
   "metadata": {
    "id": "wFkM28v1053z"
   },
   "outputs": [],
   "source": [
    "def cluster_sentences(sentences_list, k):\n",
    "    \n",
    "    #Create tf ifd again: stopwords--> we filter out common words (I,my, the,and...)\n",
    "    tfidf_vectorizer = TfidfVectorizer(tokenizer=tokenizer, stop_words=stopwords.words('english'),lowercase=True)\n",
    "\n",
    "    #builds a tf-idf matrix for the sentences\n",
    "    #   Transforms text to feature vectors that can be used as input to estimator. \n",
    "    tfidf_matrix = tfidf_vectorizer.fit_transform(sentences_list)\n",
    "    \n",
    "    kmeans = KMeans(n_clusters=k)\n",
    "    kmeans.fit(tfidf_matrix)\n",
    "    centers = kmeans.cluster_centers_\n",
    "    labels = kmeans.labels_\n",
    "    clusters = collections.defaultdict(list)\n",
    "    #print(kmeans.labels_)\n",
    "    for i, label in enumerate(kmeans.labels_):\n",
    "        #print(i, label)\n",
    "        clusters[label].append(i)\n",
    "    return dict(clusters)\n",
    "    #return dict(clusters) , centers, labels"
   ]
  },
  {
   "cell_type": "markdown",
   "metadata": {
    "id": "l0s2E4hU1JA7"
   },
   "source": [
    "## **Testing our Model**"
   ]
  },
  {
   "cell_type": "code",
   "execution_count": 33,
   "metadata": {
    "colab": {
     "base_uri": "https://localhost:8080/",
     "height": 934
    },
    "id": "tKv36Y3O1JPJ",
    "outputId": "51ce5565-5fda-4480-8d0e-5f6274174e60"
   },
   "outputs": [
    {
     "name": "stderr",
     "output_type": "stream",
     "text": [
      "/home/emrulk1/miniconda3/envs/ml_dl_env/lib/python3.8/site-packages/sklearn/feature_extraction/text.py:394: UserWarning: Your stop_words may be inconsistent with your preprocessing. Tokenizing the stop words generated tokens [\"'d\", \"'ll\", \"'re\", \"'s\", \"'ve\", 'could', 'might', 'must', \"n't\", 'need', 'sha', 'wo', 'would'] not in stop_words.\n",
      "  warnings.warn(\n"
     ]
    },
    {
     "name": "stdout",
     "output_type": "stream",
     "text": [
      "{0: [1, 9, 16, 18, 21, 27],\n",
      " 1: [8, 13, 15, 20],\n",
      " 2: [0, 10, 22],\n",
      " 3: [6, 11, 12, 19, 23, 24],\n",
      " 4: [5, 26],\n",
      " 5: [2, 3, 7, 25],\n",
      " 6: [4, 14, 17]}\n"
     ]
    }
   ],
   "source": [
    "k = 7\n",
    "clusters = cluster_sentences(sentences_list,k)\n",
    "pprint(clusters)"
   ]
  },
  {
   "cell_type": "code",
   "execution_count": 34,
   "metadata": {},
   "outputs": [
    {
     "name": "stdout",
     "output_type": "stream",
     "text": [
      "\n",
      "CLUSTER  0 :\n",
      "\n",
      "\t 1 :  Artificial Intelligence or AI is the last invention - humans could ever make\n",
      "\t 2 :  AI is likely to be either the best or worst thing happen to humanity\n",
      "\t 3 :  All giant majors in Silicon Valley is focusing AI for their business productivity\n",
      "\t 4 :  Google will fulfill its mission only when its search engine is AI - complete You guys know what that means? That's Artificial Intelligence.\n",
      "\t 5 :  Auomation is the biggest blessing given by Artificial Inteligence.\n",
      "\t 6 :  AI would have a low error rate compared to humans if coded properly. \n",
      "\n",
      "CLUSTER  1 :\n",
      "\n",
      "\t 1 :  The flying or operating of aircraft is known as aviation.\n",
      "\t 2 :  Boeing 777 is considered world's largest economical plane in the world of Aviation.\n",
      "\t 3 :  The biggest of the many uses of aviation are in air travel and military aircraft.\n",
      "\t 4 :  Aviation refers to flying using an aircraft like an aeroplane.\n",
      "\n",
      "CLUSTER  2 :\n",
      "\n",
      "\t 1 :  Graphics designers are most creative people\n",
      "\t 2 :  Design is Intelligence made visible.\n",
      "\t 3 :  Graphics Designing is high rated freelance subject\n",
      "\n",
      "CLUSTER  3 :\n",
      "\n",
      "\t 1 :  Love is blind\n",
      "\t 2 :  Falling in love is like being on drugs.\n",
      "\t 3 :  There is only one happiness in Life to Love and to be loved.\n",
      "\t 4 :  Being in love is the number one reason why people wed.\n",
      "\t 5 :  Loving from a long distance actually strengthens a relationship\n",
      "\t 6 :  Real love is able to awaken your soul.\n",
      "\n",
      "CLUSTER  4 :\n",
      "\n",
      "\t 1 :  Software Engineering is hotter and hotter topic in Silicon Valley\n",
      "\t 2 :  Software Engineer has average salary of $170K at Google\n",
      "\n",
      "CLUSTER  5 :\n",
      "\n",
      "\t 1 :  Snooker is a billiards sport for normally two players.\n",
      "\t 2 :  Snooker is played on a large (12 feet by 6 feet) table that is covered with a smooth green material.\n",
      "\t 3 :  Snooker is popular in the United Kingdom and many other countries\n",
      "\t 4 :  Stuart Bingham is a champion of Snooker\n",
      "\n",
      "CLUSTER  6 :\n",
      "\n",
      "\t 1 :  FOREX is the stock market for trading currencies\n",
      "\t 2 :  Warren Buffet is famous for making good investments.He knows stock markets\n",
      "\t 3 :  Investing in stocks and trading with them are not that easy\n"
     ]
    }
   ],
   "source": [
    "for cluster in range (k):\n",
    "    print(\"\\nCLUSTER \",cluster,\":\\n\")\n",
    "    #print(\"\\n center \",cluster_centers[cluster],\":\\n\")\n",
    "    for i, sentence in enumerate(clusters[cluster]):\n",
    "        print(\"\\t\",(i+1),\": \",sentences_list[sentence])"
   ]
  },
  {
   "cell_type": "code",
   "execution_count": 35,
   "metadata": {},
   "outputs": [],
   "source": [
    "#Create tf ifd again: stopwords--> we filter out common words (I,my, the,and...)\n",
    "tfidf_vectorizer = TfidfVectorizer(tokenizer=tokenizer, stop_words=stopwords.words('english'),lowercase=True)\n",
    "\n",
    "#builds a tf-idf matrix for the sentences\n",
    "#   Transforms text to feature vectors that can be used as input to estimator. \n",
    "tfidf_matrix = tfidf_vectorizer.fit_transform(sentences_list)"
   ]
  },
  {
   "cell_type": "code",
   "execution_count": 36,
   "metadata": {},
   "outputs": [
    {
     "data": {
      "text/html": [
       "<style>#sk-container-id-2 {color: black;background-color: white;}#sk-container-id-2 pre{padding: 0;}#sk-container-id-2 div.sk-toggleable {background-color: white;}#sk-container-id-2 label.sk-toggleable__label {cursor: pointer;display: block;width: 100%;margin-bottom: 0;padding: 0.3em;box-sizing: border-box;text-align: center;}#sk-container-id-2 label.sk-toggleable__label-arrow:before {content: \"▸\";float: left;margin-right: 0.25em;color: #696969;}#sk-container-id-2 label.sk-toggleable__label-arrow:hover:before {color: black;}#sk-container-id-2 div.sk-estimator:hover label.sk-toggleable__label-arrow:before {color: black;}#sk-container-id-2 div.sk-toggleable__content {max-height: 0;max-width: 0;overflow: hidden;text-align: left;background-color: #f0f8ff;}#sk-container-id-2 div.sk-toggleable__content pre {margin: 0.2em;color: black;border-radius: 0.25em;background-color: #f0f8ff;}#sk-container-id-2 input.sk-toggleable__control:checked~div.sk-toggleable__content {max-height: 200px;max-width: 100%;overflow: auto;}#sk-container-id-2 input.sk-toggleable__control:checked~label.sk-toggleable__label-arrow:before {content: \"▾\";}#sk-container-id-2 div.sk-estimator input.sk-toggleable__control:checked~label.sk-toggleable__label {background-color: #d4ebff;}#sk-container-id-2 div.sk-label input.sk-toggleable__control:checked~label.sk-toggleable__label {background-color: #d4ebff;}#sk-container-id-2 input.sk-hidden--visually {border: 0;clip: rect(1px 1px 1px 1px);clip: rect(1px, 1px, 1px, 1px);height: 1px;margin: -1px;overflow: hidden;padding: 0;position: absolute;width: 1px;}#sk-container-id-2 div.sk-estimator {font-family: monospace;background-color: #f0f8ff;border: 1px dotted black;border-radius: 0.25em;box-sizing: border-box;margin-bottom: 0.5em;}#sk-container-id-2 div.sk-estimator:hover {background-color: #d4ebff;}#sk-container-id-2 div.sk-parallel-item::after {content: \"\";width: 100%;border-bottom: 1px solid gray;flex-grow: 1;}#sk-container-id-2 div.sk-label:hover label.sk-toggleable__label {background-color: #d4ebff;}#sk-container-id-2 div.sk-serial::before {content: \"\";position: absolute;border-left: 1px solid gray;box-sizing: border-box;top: 0;bottom: 0;left: 50%;z-index: 0;}#sk-container-id-2 div.sk-serial {display: flex;flex-direction: column;align-items: center;background-color: white;padding-right: 0.2em;padding-left: 0.2em;position: relative;}#sk-container-id-2 div.sk-item {position: relative;z-index: 1;}#sk-container-id-2 div.sk-parallel {display: flex;align-items: stretch;justify-content: center;background-color: white;position: relative;}#sk-container-id-2 div.sk-item::before, #sk-container-id-2 div.sk-parallel-item::before {content: \"\";position: absolute;border-left: 1px solid gray;box-sizing: border-box;top: 0;bottom: 0;left: 50%;z-index: -1;}#sk-container-id-2 div.sk-parallel-item {display: flex;flex-direction: column;z-index: 1;position: relative;background-color: white;}#sk-container-id-2 div.sk-parallel-item:first-child::after {align-self: flex-end;width: 50%;}#sk-container-id-2 div.sk-parallel-item:last-child::after {align-self: flex-start;width: 50%;}#sk-container-id-2 div.sk-parallel-item:only-child::after {width: 0;}#sk-container-id-2 div.sk-dashed-wrapped {border: 1px dashed gray;margin: 0 0.4em 0.5em 0.4em;box-sizing: border-box;padding-bottom: 0.4em;background-color: white;}#sk-container-id-2 div.sk-label label {font-family: monospace;font-weight: bold;display: inline-block;line-height: 1.2em;}#sk-container-id-2 div.sk-label-container {text-align: center;}#sk-container-id-2 div.sk-container {/* jupyter's `normalize.less` sets `[hidden] { display: none; }` but bootstrap.min.css set `[hidden] { display: none !important; }` so we also need the `!important` here to be able to override the default hidden behavior on the sphinx rendered scikit-learn.org. See: https://github.com/scikit-learn/scikit-learn/issues/21755 */display: inline-block !important;position: relative;}#sk-container-id-2 div.sk-text-repr-fallback {display: none;}</style><div id=\"sk-container-id-2\" class=\"sk-top-container\"><div class=\"sk-text-repr-fallback\"><pre>TfidfVectorizer(stop_words=[&#x27;i&#x27;, &#x27;me&#x27;, &#x27;my&#x27;, &#x27;myself&#x27;, &#x27;we&#x27;, &#x27;our&#x27;, &#x27;ours&#x27;,\n",
       "                            &#x27;ourselves&#x27;, &#x27;you&#x27;, &quot;you&#x27;re&quot;, &quot;you&#x27;ve&quot;, &quot;you&#x27;ll&quot;,\n",
       "                            &quot;you&#x27;d&quot;, &#x27;your&#x27;, &#x27;yours&#x27;, &#x27;yourself&#x27;, &#x27;yourselves&#x27;,\n",
       "                            &#x27;he&#x27;, &#x27;him&#x27;, &#x27;his&#x27;, &#x27;himself&#x27;, &#x27;she&#x27;, &quot;she&#x27;s&quot;,\n",
       "                            &#x27;her&#x27;, &#x27;hers&#x27;, &#x27;herself&#x27;, &#x27;it&#x27;, &quot;it&#x27;s&quot;, &#x27;its&#x27;,\n",
       "                            &#x27;itself&#x27;, ...],\n",
       "                tokenizer=&lt;function tokenizer at 0x7fdb1094b790&gt;)</pre><b>In a Jupyter environment, please rerun this cell to show the HTML representation or trust the notebook. <br />On GitHub, the HTML representation is unable to render, please try loading this page with nbviewer.org.</b></div><div class=\"sk-container\" hidden><div class=\"sk-item\"><div class=\"sk-estimator sk-toggleable\"><input class=\"sk-toggleable__control sk-hidden--visually\" id=\"sk-estimator-id-2\" type=\"checkbox\" checked><label for=\"sk-estimator-id-2\" class=\"sk-toggleable__label sk-toggleable__label-arrow\">TfidfVectorizer</label><div class=\"sk-toggleable__content\"><pre>TfidfVectorizer(stop_words=[&#x27;i&#x27;, &#x27;me&#x27;, &#x27;my&#x27;, &#x27;myself&#x27;, &#x27;we&#x27;, &#x27;our&#x27;, &#x27;ours&#x27;,\n",
       "                            &#x27;ourselves&#x27;, &#x27;you&#x27;, &quot;you&#x27;re&quot;, &quot;you&#x27;ve&quot;, &quot;you&#x27;ll&quot;,\n",
       "                            &quot;you&#x27;d&quot;, &#x27;your&#x27;, &#x27;yours&#x27;, &#x27;yourself&#x27;, &#x27;yourselves&#x27;,\n",
       "                            &#x27;he&#x27;, &#x27;him&#x27;, &#x27;his&#x27;, &#x27;himself&#x27;, &#x27;she&#x27;, &quot;she&#x27;s&quot;,\n",
       "                            &#x27;her&#x27;, &#x27;hers&#x27;, &#x27;herself&#x27;, &#x27;it&#x27;, &quot;it&#x27;s&quot;, &#x27;its&#x27;,\n",
       "                            &#x27;itself&#x27;, ...],\n",
       "                tokenizer=&lt;function tokenizer at 0x7fdb1094b790&gt;)</pre></div></div></div></div></div>"
      ],
      "text/plain": [
       "TfidfVectorizer(stop_words=['i', 'me', 'my', 'myself', 'we', 'our', 'ours',\n",
       "                            'ourselves', 'you', \"you're\", \"you've\", \"you'll\",\n",
       "                            \"you'd\", 'your', 'yours', 'yourself', 'yourselves',\n",
       "                            'he', 'him', 'his', 'himself', 'she', \"she's\",\n",
       "                            'her', 'hers', 'herself', 'it', \"it's\", 'its',\n",
       "                            'itself', ...],\n",
       "                tokenizer=<function tokenizer at 0x7fdb1094b790>)"
      ]
     },
     "execution_count": 36,
     "metadata": {},
     "output_type": "execute_result"
    }
   ],
   "source": [
    "tfidf_vectorizer"
   ]
  },
  {
   "cell_type": "code",
   "execution_count": 37,
   "metadata": {},
   "outputs": [
    {
     "data": {
      "text/plain": [
       "matrix([[0.        , 0.        , 0.        , ..., 0.        , 0.        ,\n",
       "         0.        ],\n",
       "        [0.        , 0.        , 0.        , ..., 0.        , 0.        ,\n",
       "         0.        ],\n",
       "        [0.        , 0.        , 0.        , ..., 0.        , 0.        ,\n",
       "         0.        ],\n",
       "        ...,\n",
       "        [0.        , 0.        , 0.        , ..., 0.        , 0.        ,\n",
       "         0.        ],\n",
       "        [0.40028149, 0.        , 0.        , ..., 0.        , 0.        ,\n",
       "         0.        ],\n",
       "        [0.        , 0.        , 0.        , ..., 0.        , 0.        ,\n",
       "         0.35039063]])"
      ]
     },
     "execution_count": 37,
     "metadata": {},
     "output_type": "execute_result"
    }
   ],
   "source": [
    "# tfidf_matrix\n",
    "tfidf_matrix.todense()"
   ]
  },
  {
   "cell_type": "markdown",
   "metadata": {},
   "source": [
    "## Determine optimal cluster number with elbow method"
   ]
  },
  {
   "cell_type": "code",
   "execution_count": 38,
   "metadata": {},
   "outputs": [
    {
     "data": {
      "image/png": "[encoded data removed]",
      "text/plain": [
       "<Figure size 640x480 with 1 Axes>"
      ]
     },
     "metadata": {},
     "output_type": "display_data"
    }
   ],
   "source": [
    "wcss = []\n",
    "\n",
    "n_sentences = len(sentences_list)\n",
    "\n",
    "# for i in range(1, 28):\n",
    "for i in range(1, n_sentences):\n",
    "    model = KMeans(n_clusters = i,     \n",
    "                    #init = 'k-means++',                 # Initialization method for kmeans\n",
    "                    #max_iter = 300,                     # Maximum number of iterations \n",
    "                    #n_init = 10,                        # Choose how often algorithm will run with different centroid \n",
    "                    #random_state = 0                   # Choose random state for reproducibility\n",
    "                  )\n",
    "    model.fit(tfidf_matrix)                              \n",
    "    wcss.append(model.inertia_)\n",
    "    \n",
    "# Show Elbow plot\n",
    "plt.plot(range(1, n_sentences), wcss)\n",
    "plt.title('Elbow Method')                               # Set plot title\n",
    "plt.xlabel('Number of clusters')                        # Set x axis name\n",
    "plt.ylabel('Within Cluster Sum of Squares (WCSS)')      # Set y axis name\n",
    "plt.show()\n",
    "#https://www.datacamp.com/workspace/templates/recipe-python-k-means"
   ]
  },
  {
   "cell_type": "markdown",
   "metadata": {},
   "source": [
    "Since, the above curve is always decreasing (did not become stable), we can't get decision from elbow method what should be the optimal number of clusters to choose. "
   ]
  },
  {
   "cell_type": "code",
   "execution_count": null,
   "metadata": {},
   "outputs": [],
   "source": []
  }
 ],
 "metadata": {
  "colab": {
   "collapsed_sections": [],
   "name": "15_K-Means_Clustering.ipynb",
   "provenance": []
  },
  "kernelspec": {
   "display_name": "Python 3 (ipykernel)",
   "language": "python",
   "name": "python3"
  },
  "language_info": {
   "codemirror_mode": {
    "name": "ipython",
    "version": 3
   },
   "file_extension": ".py",
   "mimetype": "text/x-python",
   "name": "python",
   "nbconvert_exporter": "python",
   "pygments_lexer": "ipython3",
   "version": "3.8.20"
  }
 },
 "nbformat": 4,
 "nbformat_minor": 1
}
