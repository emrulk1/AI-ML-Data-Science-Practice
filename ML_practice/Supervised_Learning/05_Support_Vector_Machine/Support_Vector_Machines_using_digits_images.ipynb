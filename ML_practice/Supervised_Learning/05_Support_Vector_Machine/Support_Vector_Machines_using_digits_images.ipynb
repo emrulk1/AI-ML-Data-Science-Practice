{
 "cells": [
  {
   "cell_type": "markdown",
   "id": "622c9a10",
   "metadata": {},
   "source": [
    "## **Support Vector Machine**\n",
    "\n",
    "\n",
    "Support Vector Machine (SVM)\n",
    "A support vector machine (SVM) is a supervised machine learning model that uses classification algorithms for two-group classification problems.\n",
    "\n",
    "The objective of the support vector machine algorithm is to find a hyperplane in an N-dimensional space(N — the number of features) that distinctly classifies the data points.\n",
    "\n",
    "<img src=\"https://miro.medium.com/max/300/0*9jEWNXTAao7phK-5.png\"> \n",
    "\n",
    "To separate the two classes of data points, there are many possible hyperplanes that could be chosen. Our objective is to find a plane that has the maximum margin, i.e the maximum distance between data points of both classes. Maximizing the margin distance provides some reinforcement so that future data points can be classified with more confidence.\n",
    "\n",
    "<img src = \"https://miro.medium.com/max/300/0*0o8xIA4k3gXUDCFU.png\">\n",
    "\n",
    "Support vectors are data points that are closer to the hyperplane and influence the position and orientation of the hyperplane. Using these support vectors, we maximize the margin of the classifier. Deleting the support vectors will change the position of the hyperplane. These are the points that help us build our SVM.\n",
    "\n",
    "<img src=\"https://miro.medium.com/max/700/0*ecA4Ls8kBYSM5nza.jpg\">\n"
   ]
  },
  {
   "cell_type": "markdown",
   "id": "89cc12cd",
   "metadata": {},
   "source": [
    "## **Import necessary libraries to  get started with SVM Classification**"
   ]
  },
  {
   "cell_type": "code",
   "execution_count": 1,
   "id": "847cd51e",
   "metadata": {},
   "outputs": [],
   "source": [
    "#Importing Libraries\n",
    "import numpy as np\n",
    "import pandas as pd\n",
    "import matplotlib.pyplot as plt\n",
    "import matplotlib.cm as cm\n",
    "from sklearn import svm, datasets\n",
    "from sklearn.model_selection import train_test_split\n",
    "from sklearn.metrics import accuracy_score, confusion_matrix"
   ]
  },
  {
   "cell_type": "markdown",
   "id": "1351f8d2",
   "metadata": {},
   "source": [
    "## **Loading digits dataset**"
   ]
  },
  {
   "cell_type": "code",
   "execution_count": 2,
   "id": "09726ebe",
   "metadata": {},
   "outputs": [],
   "source": [
    "digits = datasets.load_digits()\n",
    "# print(digits)"
   ]
  },
  {
   "cell_type": "code",
   "execution_count": 3,
   "id": "2869d92f",
   "metadata": {},
   "outputs": [
    {
     "name": "stdout",
     "output_type": "stream",
     "text": [
      "<class 'sklearn.utils._bunch.Bunch'>\n"
     ]
    }
   ],
   "source": [
    "# print(digits[0])\n",
    "print(type(digits))"
   ]
  },
  {
   "cell_type": "code",
   "execution_count": 4,
   "id": "e21a0183",
   "metadata": {},
   "outputs": [
    {
     "data": {
      "text/plain": [
       "['DESCR', 'data', 'feature_names', 'frame', 'images', 'target', 'target_names']"
      ]
     },
     "execution_count": 4,
     "metadata": {},
     "output_type": "execute_result"
    }
   ],
   "source": [
    "dir(digits)"
   ]
  },
  {
   "cell_type": "code",
   "execution_count": 5,
   "id": "66acfc31",
   "metadata": {},
   "outputs": [],
   "source": [
    "# digits.DESCR"
   ]
  },
  {
   "cell_type": "code",
   "execution_count": 6,
   "id": "375e3c21",
   "metadata": {},
   "outputs": [],
   "source": [
    "# digits.data\n",
    "# digits.data.shape"
   ]
  },
  {
   "cell_type": "code",
   "execution_count": 7,
   "id": "e5a4610c",
   "metadata": {},
   "outputs": [],
   "source": [
    "# digits.feature_names"
   ]
  },
  {
   "cell_type": "code",
   "execution_count": 8,
   "id": "3b8a6c29",
   "metadata": {},
   "outputs": [],
   "source": [
    "# digits.frame"
   ]
  },
  {
   "cell_type": "code",
   "execution_count": 9,
   "id": "5c3331ea",
   "metadata": {},
   "outputs": [
    {
     "data": {
      "text/plain": [
       "(1797, 8, 8)"
      ]
     },
     "execution_count": 9,
     "metadata": {},
     "output_type": "execute_result"
    }
   ],
   "source": [
    "# digits.images\n",
    "digits.images.shape"
   ]
  },
  {
   "cell_type": "code",
   "execution_count": 10,
   "id": "1916cac1",
   "metadata": {},
   "outputs": [
    {
     "data": {
      "text/plain": [
       "array([0, 1, 2, ..., 8, 9, 8])"
      ]
     },
     "execution_count": 10,
     "metadata": {},
     "output_type": "execute_result"
    }
   ],
   "source": [
    "digits.target"
   ]
  },
  {
   "cell_type": "code",
   "execution_count": 11,
   "id": "f6d67b3e",
   "metadata": {},
   "outputs": [],
   "source": [
    "images_and_labels = list(zip(digits.images , digits.target))"
   ]
  },
  {
   "cell_type": "code",
   "execution_count": 12,
   "id": "a09511fa",
   "metadata": {},
   "outputs": [
    {
     "name": "stdout",
     "output_type": "stream",
     "text": [
      "(array([[ 0.,  0.,  5., 13.,  9.,  1.,  0.,  0.],\n",
      "       [ 0.,  0., 13., 15., 10., 15.,  5.,  0.],\n",
      "       [ 0.,  3., 15.,  2.,  0., 11.,  8.,  0.],\n",
      "       [ 0.,  4., 12.,  0.,  0.,  8.,  8.,  0.],\n",
      "       [ 0.,  5.,  8.,  0.,  0.,  9.,  8.,  0.],\n",
      "       [ 0.,  4., 11.,  0.,  1., 12.,  7.,  0.],\n",
      "       [ 0.,  2., 14.,  5., 10., 12.,  0.,  0.],\n",
      "       [ 0.,  0.,  6., 13., 10.,  0.,  0.,  0.]]), 0)\n"
     ]
    }
   ],
   "source": [
    "print(images_and_labels[0])"
   ]
  },
  {
   "cell_type": "code",
   "execution_count": 13,
   "id": "2fcbd678",
   "metadata": {},
   "outputs": [],
   "source": [
    "# digits.images"
   ]
  },
  {
   "cell_type": "code",
   "execution_count": 14,
   "id": "de3e2665",
   "metadata": {},
   "outputs": [
    {
     "data": {
      "text/plain": [
       "(1797, 8, 8)"
      ]
     },
     "execution_count": 14,
     "metadata": {},
     "output_type": "execute_result"
    }
   ],
   "source": [
    "digits.images.shape"
   ]
  },
  {
   "cell_type": "code",
   "execution_count": 15,
   "id": "c057229c",
   "metadata": {},
   "outputs": [
    {
     "data": {
      "text/plain": [
       "array([0, 1, 2, ..., 8, 9, 8])"
      ]
     },
     "execution_count": 15,
     "metadata": {},
     "output_type": "execute_result"
    }
   ],
   "source": [
    "digits.target"
   ]
  },
  {
   "cell_type": "code",
   "execution_count": 16,
   "id": "119448fb",
   "metadata": {},
   "outputs": [
    {
     "data": {
      "text/plain": [
       "(1797,)"
      ]
     },
     "execution_count": 16,
     "metadata": {},
     "output_type": "execute_result"
    }
   ],
   "source": [
    "digits.target.shape"
   ]
  },
  {
   "cell_type": "code",
   "execution_count": 17,
   "id": "785a8da9",
   "metadata": {},
   "outputs": [
    {
     "data": {
      "text/plain": [
       "numpy.ndarray"
      ]
     },
     "execution_count": 17,
     "metadata": {},
     "output_type": "execute_result"
    }
   ],
   "source": [
    "type(digits.images)"
   ]
  },
  {
   "cell_type": "markdown",
   "id": "7dfe0545",
   "metadata": {},
   "source": [
    "## **Flattening the Images**\n",
    "\n",
    "To apply a classifier on this data, we need to flatten the images to turn the data into (samples, features) matrix."
   ]
  },
  {
   "cell_type": "code",
   "execution_count": 18,
   "id": "4db03981",
   "metadata": {},
   "outputs": [],
   "source": [
    "a = np.array([1,2,3,4,5,6,7,8,9,10,11,12,13,14,15,16])\n",
    "# a.reshape(2,2,2,2).shape\n",
    "b = a.reshape(2,2,2,2)\n",
    "b = b.reshape(16, -1)\n",
    "# b.shape\n",
    "# print(b)"
   ]
  },
  {
   "cell_type": "code",
   "execution_count": 19,
   "id": "1f98ac54",
   "metadata": {},
   "outputs": [],
   "source": [
    "n_samples = len(digits.images)\n",
    "# print(n_samples)\n",
    "data = digits.images.reshape((n_samples, -1))"
   ]
  },
  {
   "cell_type": "code",
   "execution_count": 20,
   "id": "ba5d188f",
   "metadata": {},
   "outputs": [
    {
     "data": {
      "text/plain": [
       "array([[ 0.,  0.,  5., ...,  0.,  0.,  0.],\n",
       "       [ 0.,  0.,  0., ..., 10.,  0.,  0.],\n",
       "       [ 0.,  0.,  0., ..., 16.,  9.,  0.],\n",
       "       ...,\n",
       "       [ 0.,  0.,  1., ...,  6.,  0.,  0.],\n",
       "       [ 0.,  0.,  2., ..., 12.,  0.,  0.],\n",
       "       [ 0.,  0., 10., ..., 12.,  1.,  0.]])"
      ]
     },
     "execution_count": 20,
     "metadata": {},
     "output_type": "execute_result"
    }
   ],
   "source": [
    "data\n",
    "# data.shape"
   ]
  },
  {
   "cell_type": "code",
   "execution_count": 21,
   "id": "7c470816",
   "metadata": {},
   "outputs": [],
   "source": [
    "# dir(svm)\n",
    "# dir(svm.SVC())"
   ]
  },
  {
   "cell_type": "markdown",
   "id": "1af60c33",
   "metadata": {},
   "source": [
    "## **Training the Model**\n",
    "\n",
    "We are using SVM model as imported from sklearn library and then it's being trained on 75% of the digits."
   ]
  },
  {
   "cell_type": "code",
   "execution_count": 22,
   "id": "b40cb40a",
   "metadata": {},
   "outputs": [
    {
     "data": {
      "text/html": [
       "<style>#sk-container-id-1 {color: black;background-color: white;}#sk-container-id-1 pre{padding: 0;}#sk-container-id-1 div.sk-toggleable {background-color: white;}#sk-container-id-1 label.sk-toggleable__label {cursor: pointer;display: block;width: 100%;margin-bottom: 0;padding: 0.3em;box-sizing: border-box;text-align: center;}#sk-container-id-1 label.sk-toggleable__label-arrow:before {content: \"▸\";float: left;margin-right: 0.25em;color: #696969;}#sk-container-id-1 label.sk-toggleable__label-arrow:hover:before {color: black;}#sk-container-id-1 div.sk-estimator:hover label.sk-toggleable__label-arrow:before {color: black;}#sk-container-id-1 div.sk-toggleable__content {max-height: 0;max-width: 0;overflow: hidden;text-align: left;background-color: #f0f8ff;}#sk-container-id-1 div.sk-toggleable__content pre {margin: 0.2em;color: black;border-radius: 0.25em;background-color: #f0f8ff;}#sk-container-id-1 input.sk-toggleable__control:checked~div.sk-toggleable__content {max-height: 200px;max-width: 100%;overflow: auto;}#sk-container-id-1 input.sk-toggleable__control:checked~label.sk-toggleable__label-arrow:before {content: \"▾\";}#sk-container-id-1 div.sk-estimator input.sk-toggleable__control:checked~label.sk-toggleable__label {background-color: #d4ebff;}#sk-container-id-1 div.sk-label input.sk-toggleable__control:checked~label.sk-toggleable__label {background-color: #d4ebff;}#sk-container-id-1 input.sk-hidden--visually {border: 0;clip: rect(1px 1px 1px 1px);clip: rect(1px, 1px, 1px, 1px);height: 1px;margin: -1px;overflow: hidden;padding: 0;position: absolute;width: 1px;}#sk-container-id-1 div.sk-estimator {font-family: monospace;background-color: #f0f8ff;border: 1px dotted black;border-radius: 0.25em;box-sizing: border-box;margin-bottom: 0.5em;}#sk-container-id-1 div.sk-estimator:hover {background-color: #d4ebff;}#sk-container-id-1 div.sk-parallel-item::after {content: \"\";width: 100%;border-bottom: 1px solid gray;flex-grow: 1;}#sk-container-id-1 div.sk-label:hover label.sk-toggleable__label {background-color: #d4ebff;}#sk-container-id-1 div.sk-serial::before {content: \"\";position: absolute;border-left: 1px solid gray;box-sizing: border-box;top: 0;bottom: 0;left: 50%;z-index: 0;}#sk-container-id-1 div.sk-serial {display: flex;flex-direction: column;align-items: center;background-color: white;padding-right: 0.2em;padding-left: 0.2em;position: relative;}#sk-container-id-1 div.sk-item {position: relative;z-index: 1;}#sk-container-id-1 div.sk-parallel {display: flex;align-items: stretch;justify-content: center;background-color: white;position: relative;}#sk-container-id-1 div.sk-item::before, #sk-container-id-1 div.sk-parallel-item::before {content: \"\";position: absolute;border-left: 1px solid gray;box-sizing: border-box;top: 0;bottom: 0;left: 50%;z-index: -1;}#sk-container-id-1 div.sk-parallel-item {display: flex;flex-direction: column;z-index: 1;position: relative;background-color: white;}#sk-container-id-1 div.sk-parallel-item:first-child::after {align-self: flex-end;width: 50%;}#sk-container-id-1 div.sk-parallel-item:last-child::after {align-self: flex-start;width: 50%;}#sk-container-id-1 div.sk-parallel-item:only-child::after {width: 0;}#sk-container-id-1 div.sk-dashed-wrapped {border: 1px dashed gray;margin: 0 0.4em 0.5em 0.4em;box-sizing: border-box;padding-bottom: 0.4em;background-color: white;}#sk-container-id-1 div.sk-label label {font-family: monospace;font-weight: bold;display: inline-block;line-height: 1.2em;}#sk-container-id-1 div.sk-label-container {text-align: center;}#sk-container-id-1 div.sk-container {/* jupyter's `normalize.less` sets `[hidden] { display: none; }` but bootstrap.min.css set `[hidden] { display: none !important; }` so we also need the `!important` here to be able to override the default hidden behavior on the sphinx rendered scikit-learn.org. See: https://github.com/scikit-learn/scikit-learn/issues/21755 */display: inline-block !important;position: relative;}#sk-container-id-1 div.sk-text-repr-fallback {display: none;}</style><div id=\"sk-container-id-1\" class=\"sk-top-container\"><div class=\"sk-text-repr-fallback\"><pre>SVC()</pre><b>In a Jupyter environment, please rerun this cell to show the HTML representation or trust the notebook. <br />On GitHub, the HTML representation is unable to render, please try loading this page with nbviewer.org.</b></div><div class=\"sk-container\" hidden><div class=\"sk-item\"><div class=\"sk-estimator sk-toggleable\"><input class=\"sk-toggleable__control sk-hidden--visually\" id=\"sk-estimator-id-1\" type=\"checkbox\" checked><label for=\"sk-estimator-id-1\" class=\"sk-toggleable__label sk-toggleable__label-arrow\">SVC</label><div class=\"sk-toggleable__content\"><pre>SVC()</pre></div></div></div></div></div>"
      ],
      "text/plain": [
       "SVC()"
      ]
     },
     "execution_count": 22,
     "metadata": {},
     "output_type": "execute_result"
    }
   ],
   "source": [
    "#Fetching training set, 75% of entire dataset, rest will be used for testing\n",
    "\n",
    "trainTestSplit = int(n_samples*0.75)\n",
    "\n",
    "#Training the model\n",
    "model = svm.SVC()\n",
    "model.fit(data[:trainTestSplit], digits.target[:trainTestSplit])\n"
   ]
  },
  {
   "cell_type": "markdown",
   "id": "d2e20b7a",
   "metadata": {},
   "source": [
    "# Predict and evaluate model performance"
   ]
  },
  {
   "cell_type": "code",
   "execution_count": 23,
   "id": "b9b6406f",
   "metadata": {},
   "outputs": [],
   "source": [
    "target = digits.target[trainTestSplit:]\n",
    "predictions = model.predict(data[trainTestSplit:])"
   ]
  },
  {
   "cell_type": "code",
   "execution_count": 24,
   "id": "4b5cbcd6",
   "metadata": {},
   "outputs": [
    {
     "name": "stdout",
     "output_type": "stream",
     "text": [
      "[[42  0  0  0  1  0  0  0  0  0]\n",
      " [ 0 46  0  0  0  0  0  0  0  0]\n",
      " [ 0  0 43  0  0  0  0  0  0  0]\n",
      " [ 0  0  0 37  0  2  0  2  6  0]\n",
      " [ 0  0  0  0 45  0  0  0  1  2]\n",
      " [ 0  0  0  0  0 44  1  0  0  0]\n",
      " [ 0  0  0  0  0  0 47  0  0  0]\n",
      " [ 0  0  0  0  0  0  0 44  1  0]\n",
      " [ 0  2  0  0  0  0  0  0 38  1]\n",
      " [ 0  0  0  1  0  1  0  1  1 41]]\n",
      "0.9488888888888889\n"
     ]
    }
   ],
   "source": [
    "print(confusion_matrix(target,predictions))\n",
    "print(accuracy_score(target,predictions))"
   ]
  },
  {
   "cell_type": "code",
   "execution_count": 25,
   "id": "e987325f",
   "metadata": {},
   "outputs": [
    {
     "data": {
      "text/plain": [
       "<Axes: >"
      ]
     },
     "execution_count": 25,
     "metadata": {},
     "output_type": "execute_result"
    },
    {
     "data": {
      "image/png": "[encoded data removed]",
      "text/plain": [
       "<Figure size 640x480 with 2 Axes>"
      ]
     },
     "metadata": {},
     "output_type": "display_data"
    }
   ],
   "source": [
    "import seaborn as sns\n",
    "sns.heatmap(confusion_matrix(target,predictions), annot=True, cmap='Blues')"
   ]
  },
  {
   "cell_type": "code",
   "execution_count": 26,
   "id": "2ede16b0",
   "metadata": {},
   "outputs": [
    {
     "name": "stdout",
     "output_type": "stream",
     "text": [
      "Prediction for test image: [2]\n"
     ]
    },
    {
     "data": {
      "image/png": "[encoded data removed]",
      "text/plain": [
       "<Figure size 640x480 with 1 Axes>"
      ]
     },
     "metadata": {},
     "output_type": "display_data"
    }
   ],
   "source": [
    "plt.imshow(digits.images[-55], cmap = plt.cm.gray_r, interpolation = \"nearest\")\n",
    "print(\"Prediction for test image:\", model.predict(data[-55].reshape(1,-1)))\n",
    "\n",
    "plt.show()"
   ]
  },
  {
   "cell_type": "code",
   "execution_count": 27,
   "id": "427588c2",
   "metadata": {},
   "outputs": [
    {
     "data": {
      "text/plain": [
       "<matplotlib.image.AxesImage at 0x7f38700c27c0>"
      ]
     },
     "execution_count": 27,
     "metadata": {},
     "output_type": "execute_result"
    },
    {
     "data": {
      "image/png": "[encoded data removed]",
      "text/plain": [
       "<Figure size 640x480 with 1 Axes>"
      ]
     },
     "metadata": {},
     "output_type": "display_data"
    }
   ],
   "source": [
    "plt.imshow(digits.images[-55])"
   ]
  },
  {
   "cell_type": "markdown",
   "id": "fcea110d",
   "metadata": {},
   "source": [
    "# Testing svm model with different kernel"
   ]
  },
  {
   "cell_type": "code",
   "execution_count": 28,
   "id": "e1821458",
   "metadata": {},
   "outputs": [],
   "source": [
    "# svm_rbf_1 = svm.SVC(kernel='rbf', gamma=0.5, C=0.1)\n",
    "# svm_rbf_1.fit(data[:trainTestSplit], digits.target[:trainTestSplit])\n",
    "\n",
    "# svm_poly = svm.SVC(kernel='poly', degree=3, C=1)\n",
    "# svm_poly.fit(data[:trainTestSplit], digits.target[:trainTestSplit])\n",
    "\n",
    "# svm_rbf_2 = svm.SVC(kernel='rbf', gamma=0.5, C=1)\n",
    "# svm_rbf_2.fit(data[:trainTestSplit], digits.target[:trainTestSplit])\n",
    "\n",
    "# target = digits.target[trainTestSplit:]\n",
    "# predictions = model.predict(data[trainTestSplit:])\n",
    "\n",
    "# poly_pred = svm_poly.predict(data[trainTestSplit:])\n",
    "# rbf_1_pred = svm_rbf_1.predict(data[trainTestSplit:])\n",
    "# rbf_2_pred = svm_rbf_2.predict(data[trainTestSplit:])\n",
    "\n",
    "# print(svm_poly)\n",
    "# print(\"Accouracy with \", svm_poly , \" : \", accuracy_score(target , poly_pred))\n",
    "# print(\"Accouracy with \", svm_rbf_1 , \" : \" , accuracy_score(target , rbf_1_pred) )\n",
    "# print(\"Accouracy with \", svm_rbf_2 ,  \" : \" , accuracy_score(target , rbf_2_pred) )"
   ]
  },
  {
   "cell_type": "code",
   "execution_count": 29,
   "id": "8363b972",
   "metadata": {},
   "outputs": [],
   "source": [
    "svm_with_kernel = dict()\n",
    "kernels = ['linear', 'poly', 'rbf', 'sigmoid']\n",
    "C = 1.0\n",
    "\n",
    "# svm_with_kernel[''] = svm.SVC()\n",
    "# svm_with_kernel['linear'] = svm.SVC(kernel='linear', C=C)\n",
    "# svm_with_kernel['poly'] = svm.SVC(kernel='poly', C=C)\n",
    "# svm_with_kernel['rbf'] = svm.SVC(kernel='rbf', C=C)\n",
    "# svm_with_kernel['sigmoid'] = svm.SVC(kernel='sigmoid', C=C)\n",
    "\n"
   ]
  },
  {
   "cell_type": "markdown",
   "id": "227ae49d",
   "metadata": {},
   "source": [
    "Initialize SVM model with given kernel"
   ]
  },
  {
   "cell_type": "code",
   "execution_count": 30,
   "id": "50efb8bd",
   "metadata": {},
   "outputs": [],
   "source": [
    "for k in kernels : \n",
    "    svm_with_kernel[k] = svm.SVC(kernel = k, C = C)"
   ]
  },
  {
   "cell_type": "markdown",
   "id": "a7a2874b",
   "metadata": {},
   "source": [
    "Train the models with training data"
   ]
  },
  {
   "cell_type": "code",
   "execution_count": 31,
   "id": "a0f4866c",
   "metadata": {},
   "outputs": [],
   "source": [
    "for k in kernels : \n",
    "    svm_with_kernel[k].fit(data[:trainTestSplit], digits.target[:trainTestSplit])"
   ]
  },
  {
   "cell_type": "markdown",
   "id": "414736fe",
   "metadata": {},
   "source": [
    "predict output "
   ]
  },
  {
   "cell_type": "code",
   "execution_count": 32,
   "id": "932b32eb",
   "metadata": {},
   "outputs": [],
   "source": [
    "predictions = dict()\n",
    "# predictions = model.predict(data[trainTestSplit:])\n",
    "\n",
    "for k in kernels :\n",
    "    predictions[k] = svm_with_kernel[k].predict(data[trainTestSplit:])"
   ]
  },
  {
   "cell_type": "markdown",
   "id": "f3d1f71e",
   "metadata": {},
   "source": [
    "Evaluate performance of SVM using different kernels"
   ]
  },
  {
   "cell_type": "code",
   "execution_count": 33,
   "id": "0e105316",
   "metadata": {},
   "outputs": [
    {
     "name": "stdout",
     "output_type": "stream",
     "text": [
      "Accouracy with SVM using  linear  kernel :  0.9288888888888889\n",
      "Accouracy with SVM using  poly  kernel :  0.9533333333333334\n",
      "Accouracy with SVM using  rbf  kernel :  0.9488888888888889\n",
      "Accouracy with SVM using  sigmoid  kernel :  0.8644444444444445\n"
     ]
    }
   ],
   "source": [
    "target = digits.target[trainTestSplit:]\n",
    "\n",
    "for k in kernels :\n",
    "    print(\"Accouracy with SVM using \", k  , \" kernel : \", accuracy_score(target , predictions[k]))"
   ]
  },
  {
   "cell_type": "markdown",
   "id": "e40bd37c",
   "metadata": {},
   "source": [
    "# Resource : \n",
    "    \n",
    "https://scikit-learn.org/stable/modules/svm.html\n",
    "\n",
    "https://dataaspirant.com/svm-kernels/#t-1608054630737\n",
    "\n",
    "https://data-flair.training/blogs/svm-kernel-functions\n",
    "\n",
    "https://scikit-learn.org/stable/auto_examples/svm/plot_custom_kernel.html#sphx-glr-auto-examples-svm-plot-custom-kernel-py"
   ]
  },
  {
   "cell_type": "code",
   "execution_count": null,
   "id": "834a93aa",
   "metadata": {},
   "outputs": [],
   "source": []
  }
 ],
 "metadata": {
  "kernelspec": {
   "display_name": "ml_dl_env",
   "language": "python",
   "name": "python3"
  },
  "language_info": {
   "codemirror_mode": {
    "name": "ipython",
    "version": 3
   },
   "file_extension": ".py",
   "mimetype": "text/x-python",
   "name": "python",
   "nbconvert_exporter": "python",
   "pygments_lexer": "ipython3",
   "version": "3.8.20"
  }
 },
 "nbformat": 4,
 "nbformat_minor": 5
}
