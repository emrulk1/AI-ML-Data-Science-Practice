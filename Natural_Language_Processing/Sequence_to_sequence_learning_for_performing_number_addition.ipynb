{
 "cells": [
  {
   "cell_type": "markdown",
   "id": "d15200b8",
   "metadata": {},
   "source": [
    "# Sequence to sequence learning for performing number addition"
   ]
  },
  {
   "cell_type": "markdown",
   "id": "c7fac61a",
   "metadata": {},
   "source": [
    "### Setup"
   ]
  },
  {
   "cell_type": "code",
   "execution_count": 2,
   "id": "2fa6bf73",
   "metadata": {},
   "outputs": [],
   "source": [
    "import numpy as np\n",
    "from tensorflow import keras\n",
    "from tensorflow.keras import layers\n",
    "\n",
    "from tqdm import tqdm"
   ]
  },
  {
   "cell_type": "code",
   "execution_count": 3,
   "id": "62c5a9cb",
   "metadata": {},
   "outputs": [],
   "source": [
    "# Parameters for the model and dataset.\n",
    "TRAINING_SIZE = 50000\n",
    "DIGITS = 3\n",
    "REVERSE = True\n",
    "\n",
    "# Maximum length of input is 'int + int' (e.g., '345+678'). Maximum length of\n",
    "# int is DIGITS.\n",
    "MAXLEN = DIGITS + 1 + DIGITS\n"
   ]
  },
  {
   "cell_type": "markdown",
   "id": "37af47ee",
   "metadata": {},
   "source": [
    "### Generate the data"
   ]
  },
  {
   "cell_type": "code",
   "execution_count": 4,
   "id": "ff4c8db5",
   "metadata": {},
   "outputs": [
    {
     "name": "stdout",
     "output_type": "stream",
     "text": [
      "Generating data...\n",
      "Total questions: 50000\n"
     ]
    }
   ],
   "source": [
    "class CharacterTable:\n",
    "    \"\"\"Given a set of characters:\n",
    "    + Encode them to a one-hot integer representation\n",
    "    + Decode the one-hot or integer representation to their character output\n",
    "    + Decode a vector of probabilities to their character output\n",
    "    \"\"\"\n",
    "\n",
    "    def __init__(self, chars):\n",
    "        \"\"\"Initialize character table.\n",
    "        # Arguments\n",
    "            chars: Characters that can appear in the input.\n",
    "        \"\"\"\n",
    "        self.chars = sorted(set(chars))\n",
    "        self.char_indices = dict((c, i) for i, c in enumerate(self.chars))\n",
    "        self.indices_char = dict((i, c) for i, c in enumerate(self.chars))\n",
    "\n",
    "    def encode(self, C, num_rows):\n",
    "        \"\"\"One-hot encode given string C.\n",
    "        # Arguments\n",
    "            C: string, to be encoded.\n",
    "            num_rows: Number of rows in the returned one-hot encoding. This is\n",
    "                used to keep the # of rows for each data the same.\n",
    "        \"\"\"\n",
    "        x = np.zeros((num_rows, len(self.chars)))\n",
    "        for i, c in enumerate(C):\n",
    "            x[i, self.char_indices[c]] = 1\n",
    "        return x\n",
    "\n",
    "    def decode(self, x, calc_argmax=True):\n",
    "        \"\"\"Decode the given vector or 2D array to their character output.\n",
    "        # Arguments\n",
    "            x: A vector or a 2D array of probabilities or one-hot representations;\n",
    "                or a vector of character indices (used with `calc_argmax=False`).\n",
    "            calc_argmax: Whether to find the character index with maximum\n",
    "                probability, defaults to `True`.\n",
    "        \"\"\"\n",
    "        if calc_argmax:\n",
    "            x = x.argmax(axis=-1)\n",
    "        return \"\".join(self.indices_char[x] for x in x)\n",
    "\n",
    "\n",
    "# All the numbers, plus sign and space for padding.\n",
    "chars = \"0123456789+ \"\n",
    "ctable = CharacterTable(chars)\n",
    "\n",
    "questions = []\n",
    "expected = []\n",
    "seen = set()\n",
    "print(\"Generating data...\")\n",
    "while len(questions) < TRAINING_SIZE:\n",
    "    f = lambda: int(\n",
    "        \"\".join(\n",
    "            np.random.choice(list(\"0123456789\"))\n",
    "            for i in range(np.random.randint(1, DIGITS + 1))\n",
    "        )\n",
    "    )\n",
    "    a, b = f(), f()\n",
    "    # Skip any addition questions we've already seen\n",
    "    # Also skip any such that x+Y == Y+x (hence the sorting).\n",
    "    key = tuple(sorted((a, b)))\n",
    "    if key in seen:\n",
    "        continue\n",
    "    seen.add(key)\n",
    "    # Pad the data with spaces such that it is always MAXLEN.\n",
    "    q = \"{}+{}\".format(a, b)\n",
    "    query = q + \" \" * (MAXLEN - len(q))\n",
    "    ans = str(a + b)\n",
    "    # Answers can be of maximum size DIGITS + 1.\n",
    "    ans += \" \" * (DIGITS + 1 - len(ans))\n",
    "    if REVERSE:\n",
    "        # Reverse the query, e.g., '12+345  ' becomes '  543+21'. (Note the\n",
    "        # space used for padding.)\n",
    "        query = query[::-1]\n",
    "    questions.append(query)\n",
    "    expected.append(ans)\n",
    "print(\"Total questions:\", len(questions))\n"
   ]
  },
  {
   "cell_type": "markdown",
   "id": "5b40ec94",
   "metadata": {},
   "source": [
    "### Print last 10 questions "
   ]
  },
  {
   "cell_type": "code",
   "execution_count": 5,
   "id": "1bd663cf",
   "metadata": {},
   "outputs": [
    {
     "name": "stdout",
     "output_type": "stream",
     "text": [
      "['   4+73',\n",
      " '  65+44',\n",
      " '   32+3',\n",
      " '   79+4',\n",
      " '  33+03',\n",
      " ' 178+91',\n",
      " '   7+04',\n",
      " '  01+81',\n",
      " '   0+09',\n",
      " ' 49+715']\n"
     ]
    }
   ],
   "source": [
    "from pprint import pprint\n",
    "pprint(questions[:10])"
   ]
  },
  {
   "cell_type": "markdown",
   "id": "f30d2a53",
   "metadata": {},
   "source": [
    "### Vectorize the data"
   ]
  },
  {
   "cell_type": "code",
   "execution_count": 6,
   "id": "55c013f6",
   "metadata": {},
   "outputs": [],
   "source": [
    "x = np.zeros((len(questions), MAXLEN, len(chars)), dtype = bool)\n",
    "\n",
    "y = np.zeros((len(questions), DIGITS + 1, len(chars)), dtype = bool)"
   ]
  },
  {
   "cell_type": "code",
   "execution_count": 7,
   "id": "1637a36c",
   "metadata": {},
   "outputs": [
    {
     "name": "stdout",
     "output_type": "stream",
     "text": [
      "dimension of x :  (50000, 7, 12)\n",
      "dimension of y :  (50000, 4, 12)\n"
     ]
    }
   ],
   "source": [
    "print(\"dimension of x : \", x.shape)\n",
    "print(\"dimension of y : \", y.shape)"
   ]
  },
  {
   "cell_type": "markdown",
   "id": "a205739b",
   "metadata": {},
   "source": [
    "### Encode the data"
   ]
  },
  {
   "cell_type": "code",
   "execution_count": 8,
   "id": "d5dee721",
   "metadata": {},
   "outputs": [],
   "source": [
    "for i, sentence in enumerate(questions):\n",
    "    x[i] = ctable.encode(sentence, MAXLEN)\n",
    "for i, sentence in enumerate(expected):\n",
    "    y[i] = ctable.encode(sentence, DIGITS + 1)"
   ]
  },
  {
   "cell_type": "markdown",
   "id": "3961a369",
   "metadata": {},
   "source": [
    "### Shuffle x and y"
   ]
  },
  {
   "cell_type": "code",
   "execution_count": 9,
   "id": "d89aa63e",
   "metadata": {},
   "outputs": [
    {
     "name": "stdout",
     "output_type": "stream",
     "text": [
      "dimension of x :  (50000, 7, 12)\n",
      "dimension of y :  (50000, 4, 12)\n"
     ]
    }
   ],
   "source": [
    "indices = np.arange(len(y))\n",
    "np.random.shuffle(indices)\n",
    "\n",
    "x = x[indices]\n",
    "y = y[indices]\n",
    "\n",
    "print(\"dimension of x : \", x.shape)\n",
    "print(\"dimension of y : \", y.shape)"
   ]
  },
  {
   "cell_type": "code",
   "execution_count": 29,
   "id": "9f8e2d90",
   "metadata": {},
   "outputs": [],
   "source": [
    "# Explicitly set apart 10% for validation data that we never train over.\n",
    "# split_at = len(x) - len(x) // 10\n",
    "# (x_train, x_test) = x[:split_at], x[split_at:]\n",
    "# (y_train, y_test) = y[:split_at], y[split_at:]"
   ]
  },
  {
   "cell_type": "markdown",
   "id": "3be6fd91",
   "metadata": {},
   "source": [
    "### Split data in train and test"
   ]
  },
  {
   "cell_type": "code",
   "execution_count": 10,
   "id": "57a75a93",
   "metadata": {},
   "outputs": [],
   "source": [
    "from sklearn.model_selection import train_test_split\n",
    "\n",
    "x_train, x_test, y_train, y_test = train_test_split(\n",
    "    x,\n",
    "    y, \n",
    "    test_size = 0.2, \n",
    "    random_state = 42\n",
    ")"
   ]
  },
  {
   "cell_type": "code",
   "execution_count": 11,
   "id": "0226962c",
   "metadata": {},
   "outputs": [
    {
     "name": "stdout",
     "output_type": "stream",
     "text": [
      "dimension of x_train :  (40000, 7, 12)\n",
      "dimension of y_train :  (40000, 4, 12)\n",
      "dimension of x_test :  (10000, 7, 12)\n",
      "dimension of y_test :  (10000, 4, 12)\n"
     ]
    }
   ],
   "source": [
    "print(\"dimension of x_train : \", x_train.shape)\n",
    "print(\"dimension of y_train : \", y_train.shape)\n",
    "print(\"dimension of x_test : \", x_test.shape)\n",
    "print(\"dimension of y_test : \", y_test.shape)"
   ]
  },
  {
   "cell_type": "markdown",
   "id": "6a04c241",
   "metadata": {},
   "source": [
    "### Create model"
   ]
  },
  {
   "cell_type": "code",
   "execution_count": 13,
   "id": "a55412ee",
   "metadata": {},
   "outputs": [],
   "source": [
    "import tensorflow\n",
    "num_layers = 1\n",
    "\n",
    "model = keras.Sequential()\n",
    "# \"Encode\" the input sequence using a LSTM, producing an output of size 128.\n",
    "# Note: In a situation where your input sequences have a variable length,\n",
    "# use input_shape=(None, num_feature).\n",
    "model.add(layers.LSTM(128, input_shape=(MAXLEN, len(chars))))\n",
    "# As the decoder RNN's input, repeatedly provide with the last output of\n",
    "# RNN for each time step. Repeat 'DIGITS + 1' times as that's the maximum\n",
    "# length of output, e.g., when DIGITS=3, max output is 999+999=1998.\n",
    "model.add(layers.RepeatVector(DIGITS + 1))\n",
    "# The decoder RNN can be multiple layers stacked or a single layer.\n",
    "for _ in range(num_layers):\n",
    "    # By setting return_sequences to True, return not only the last output but\n",
    "    # all the outputs so far in the form of (num_samples, timesteps,\n",
    "    # output_dim). This is necessary as TimeDistributed in the below expects\n",
    "    # the first dimension to be the timesteps.\n",
    "    model.add(layers.LSTM(128, return_sequences=True))\n",
    "\n",
    "# Apply a dense layer to the every temporal slice of an input. For each of step\n",
    "# of the output sequence, decide which character should be chosen.\n",
    "model.add(layers.Dense(len(chars), activation=\"softmax\"))\n",
    "\n",
    "#previous numpy version numpy-1.22.3 generated errors like :\n",
    "#NotImplementedError: Cannot convert a symbolic Tensor (lstm_1/strided_slice:0) to a numpy array. This error may indicate that you're trying to pass a Tensor to a NumPy call, which is not supported\n",
    "\n",
    "#so according to https://github.com/tensorflow/models/issues/9706#issuecomment-782841778\n",
    "# dowgrade numpy to 1.19.5"
   ]
  },
  {
   "cell_type": "markdown",
   "id": "d8d07160",
   "metadata": {},
   "source": [
    "### Compile the model"
   ]
  },
  {
   "cell_type": "code",
   "execution_count": 14,
   "id": "db0abae8",
   "metadata": {},
   "outputs": [],
   "source": [
    "model.compile(\n",
    "    loss=\"categorical_crossentropy\", \n",
    "    optimizer=\"adam\", \n",
    "    metrics=[\"accuracy\"]\n",
    ")"
   ]
  },
  {
   "cell_type": "markdown",
   "id": "7d18794d",
   "metadata": {},
   "source": [
    "### Model Summary"
   ]
  },
  {
   "cell_type": "code",
   "execution_count": 15,
   "id": "bcadf34a",
   "metadata": {},
   "outputs": [
    {
     "name": "stdout",
     "output_type": "stream",
     "text": [
      "Model: \"sequential_1\"\n",
      "_________________________________________________________________\n",
      " Layer (type)                Output Shape              Param #   \n",
      "=================================================================\n",
      " lstm_2 (LSTM)               (None, 128)               72192     \n",
      "                                                                 \n",
      " repeat_vector_1 (RepeatVect  (None, 4, 128)           0         \n",
      " or)                                                             \n",
      "                                                                 \n",
      " lstm_3 (LSTM)               (None, 4, 128)            131584    \n",
      "                                                                 \n",
      " dense_1 (Dense)             (None, 4, 12)             1548      \n",
      "                                                                 \n",
      "=================================================================\n",
      "Total params: 205,324\n",
      "Trainable params: 205,324\n",
      "Non-trainable params: 0\n",
      "_________________________________________________________________\n"
     ]
    }
   ],
   "source": [
    "model.summary()"
   ]
  },
  {
   "cell_type": "code",
   "execution_count": 16,
   "id": "dc1984b7",
   "metadata": {},
   "outputs": [
    {
     "data": {
      "image/png": "[encoded data removed]",
      "text/plain": [
       "<IPython.core.display.Image object>"
      ]
     },
     "execution_count": 16,
     "metadata": {},
     "output_type": "execute_result"
    }
   ],
   "source": [
    "from tensorflow.keras.utils import plot_model\n",
    "plot_model(model, \n",
    "        show_shapes=True, \n",
    "        show_layer_names=True, \n",
    "        expand_nested=True, \n",
    "        dpi=50, \n",
    "        to_file=\"perform_number_addition_using_seq_to_seq_learning_LSTM.png\"\n",
    ")\n",
    "\n"
   ]
  },
  {
   "cell_type": "markdown",
   "id": "5ecfc2f1",
   "metadata": {},
   "source": [
    "### Train the model\n",
    "Train the model on each epochs and predict the validation data"
   ]
  },
  {
   "cell_type": "code",
   "execution_count": null,
   "id": "b3385f2f",
   "metadata": {},
   "outputs": [
    {
     "name": "stderr",
     "output_type": "stream",
     "text": [
      "  0%|          | 0/29 [00:00<?, ?it/s]"
     ]
    },
    {
     "name": "stdout",
     "output_type": "stream",
     "text": [
      "\n",
      "\n",
      "Iteration 1\n",
      "1250/1250 [==============================] - 63s 41ms/step - loss: 1.7696 - accuracy: 0.3529 - val_loss: 1.5892 - val_accuracy: 0.4076\n",
      "1/1 [==============================] - 2s 2s/step\n",
      "Q 963+600 T 1563 ☒ 1407\n",
      "1/1 [==============================] - 0s 53ms/step\n",
      "Q 91+961  T 1052 ☒ 1010\n",
      "1/1 [==============================] - 0s 49ms/step\n",
      "Q 12+456  T 468  ☒ 267 \n",
      "1/1 [==============================] - 0s 52ms/step\n",
      "Q 354+444 T 798  ☒ 617 \n",
      "1/1 [==============================] - 0s 48ms/step\n",
      "Q 7+140   T 147  ☒ 157 \n",
      "1/1 [==============================] - 0s 54ms/step\n",
      "Q 980+751 T 1731 ☒ 1607\n",
      "1/1 [==============================] - 0s 53ms/step\n",
      "Q 603+146 T 749  ☒ 607 \n",
      "1/1 [==============================] - 0s 55ms/step\n",
      "Q 753+3   T 756  ☒ 667 \n",
      "1/1 [==============================] - 0s 54ms/step\n",
      "Q 633+8   T 641  ☒ 637 \n",
      "1/1 [==============================] - 0s 52ms/step\n"
     ]
    },
    {
     "name": "stderr",
     "output_type": "stream",
     "text": [
      "  3%|▎         | 1/29 [01:06<31:12, 66.89s/it]"
     ]
    },
    {
     "name": "stdout",
     "output_type": "stream",
     "text": [
      "Q 40+44   T 84   ☒ 44  \n",
      "\n",
      "\n",
      "Iteration 2\n",
      "1250/1250 [==============================] - 47s 38ms/step - loss: 1.4176 - accuracy: 0.4700 - val_loss: 1.2479 - val_accuracy: 0.5316\n",
      "1/1 [==============================] - 0s 48ms/step\n",
      "Q 706+0   T 706  ☒ 721 \n",
      "1/1 [==============================] - 0s 46ms/step\n",
      "Q 12+227  T 239  ☒ 235 \n",
      "1/1 [==============================] - 0s 47ms/step\n",
      "Q 938+28  T 966  ☒ 951 \n",
      "1/1 [==============================] - 0s 51ms/step\n",
      "Q 264+718 T 982  ☒ 101 \n",
      "1/1 [==============================] - 0s 50ms/step\n",
      "Q 670+49  T 719  ☒ 711 \n",
      "1/1 [==============================] - 0s 50ms/step\n",
      "Q 79+649  T 728  ☒ 661 \n",
      "1/1 [==============================] - 0s 60ms/step\n",
      "Q 34+730  T 764  ☒ 711 \n",
      "1/1 [==============================] - 0s 47ms/step\n",
      "Q 250+683 T 933  ☒ 901 \n",
      "1/1 [==============================] - 0s 53ms/step\n",
      "Q 211+248 T 459  ☒ 466 \n",
      "1/1 [==============================] - 0s 57ms/step\n"
     ]
    },
    {
     "name": "stderr",
     "output_type": "stream",
     "text": [
      "  7%|▋         | 2/29 [01:55<25:18, 56.26s/it]"
     ]
    },
    {
     "name": "stdout",
     "output_type": "stream",
     "text": [
      "Q 638+518 T 1156 ☒ 1111\n",
      "\n",
      "\n",
      "Iteration 3\n",
      "1250/1250 [==============================] - 48s 39ms/step - loss: 1.1442 - accuracy: 0.5731 - val_loss: 1.0340 - val_accuracy: 0.6178\n",
      "1/1 [==============================] - 0s 52ms/step\n",
      "Q 80+169  T 249  ☒ 238 \n",
      "1/1 [==============================] - 0s 49ms/step\n",
      "Q 380+941 T 1321 ☒ 1220\n",
      "1/1 [==============================] - 0s 55ms/step\n",
      "Q 409+689 T 1098 ☒ 1008\n",
      "1/1 [==============================] - 0s 55ms/step\n",
      "Q 620+4   T 624  ☒ 623 \n",
      "1/1 [==============================] - 0s 50ms/step\n",
      "Q 298+93  T 391  ☒ 368 \n",
      "1/1 [==============================] - 0s 51ms/step\n",
      "Q 21+57   T 78   ☒ 76  \n",
      "1/1 [==============================] - 0s 51ms/step\n",
      "Q 9+490   T 499  ☑ 499 \n",
      "1/1 [==============================] - 0s 77ms/step\n",
      "Q 885+61  T 946  ☒ 943 \n",
      "1/1 [==============================] - 0s 46ms/step\n",
      "Q 794+6   T 800  ☒ 798 \n",
      "1/1 [==============================] - 0s 49ms/step\n"
     ]
    },
    {
     "name": "stderr",
     "output_type": "stream",
     "text": [
      " 10%|█         | 3/29 [02:45<23:05, 53.29s/it]"
     ]
    },
    {
     "name": "stdout",
     "output_type": "stream",
     "text": [
      "Q 744+43  T 787  ☒ 788 \n",
      "\n",
      "\n",
      "Iteration 4\n",
      "1250/1250 [==============================] - 47s 37ms/step - loss: 0.9653 - accuracy: 0.6441 - val_loss: 0.8930 - val_accuracy: 0.6745\n",
      "1/1 [==============================] - 0s 49ms/step\n",
      "Q 967+469 T 1436 ☒ 1431\n",
      "1/1 [==============================] - 0s 52ms/step\n",
      "Q 416+54  T 470  ☒ 469 \n",
      "1/1 [==============================] - 0s 49ms/step\n",
      "Q 7+646   T 653  ☒ 651 \n",
      "1/1 [==============================] - 0s 56ms/step\n",
      "Q 76+309  T 385  ☒ 389 \n",
      "1/1 [==============================] - 0s 46ms/step\n",
      "Q 22+67   T 89   ☒ 80  \n",
      "1/1 [==============================] - 0s 51ms/step\n",
      "Q 54+65   T 119  ☒ 111 \n",
      "1/1 [==============================] - 0s 53ms/step\n",
      "Q 37+82   T 119  ☒ 121 \n",
      "1/1 [==============================] - 0s 55ms/step\n",
      "Q 75+475  T 550  ☒ 549 \n",
      "1/1 [==============================] - 0s 53ms/step\n",
      "Q 847+97  T 944  ☒ 949 \n",
      "1/1 [==============================] - 0s 47ms/step\n"
     ]
    },
    {
     "name": "stderr",
     "output_type": "stream",
     "text": [
      " 14%|█▍        | 4/29 [03:33<21:22, 51.31s/it]"
     ]
    },
    {
     "name": "stdout",
     "output_type": "stream",
     "text": [
      "Q 90+209  T 299  ☒ 294 \n",
      "\n",
      "\n",
      "Iteration 5\n",
      "1250/1250 [==============================] - 51s 41ms/step - loss: 0.8485 - accuracy: 0.6885 - val_loss: 0.7964 - val_accuracy: 0.7089\n",
      "1/1 [==============================] - 0s 50ms/step\n",
      "Q 69+106  T 175  ☒ 170 \n",
      "1/1 [==============================] - 0s 50ms/step\n",
      "Q 670+892 T 1562 ☒ 1550\n",
      "1/1 [==============================] - 0s 51ms/step\n",
      "Q 8+680   T 688  ☒ 689 \n",
      "1/1 [==============================] - 0s 52ms/step\n",
      "Q 10+70   T 80   ☒ 84  \n",
      "1/1 [==============================] - 0s 52ms/step\n",
      "Q 5+838   T 843  ☒ 849 \n",
      "1/1 [==============================] - 0s 54ms/step\n",
      "Q 989+263 T 1252 ☒ 1250\n",
      "1/1 [==============================] - 0s 54ms/step\n",
      "Q 45+389  T 434  ☒ 432 \n",
      "1/1 [==============================] - 0s 51ms/step\n",
      "Q 408+523 T 931  ☒ 900 \n",
      "1/1 [==============================] - 0s 52ms/step\n",
      "Q 3+340   T 343  ☒ 346 \n",
      "1/1 [==============================] - 0s 57ms/step\n"
     ]
    },
    {
     "name": "stderr",
     "output_type": "stream",
     "text": [
      " 17%|█▋        | 5/29 [04:25<20:38, 51.60s/it]"
     ]
    },
    {
     "name": "stdout",
     "output_type": "stream",
     "text": [
      "Q 448+872 T 1320 ☒ 1412\n",
      "\n",
      "\n",
      "Iteration 6\n",
      "1250/1250 [==============================] - 39s 31ms/step - loss: 0.7646 - accuracy: 0.7206 - val_loss: 0.7382 - val_accuracy: 0.7319\n",
      "1/1 [==============================] - 0s 83ms/step\n",
      "Q 20+867  T 887  ☑ 887 \n",
      "1/1 [==============================] - 0s 112ms/step\n",
      "Q 32+911  T 943  ☒ 940 \n",
      "1/1 [==============================] - 0s 56ms/step\n",
      "Q 77+17   T 94   ☒ 90  \n",
      "1/1 [==============================] - 0s 61ms/step\n",
      "Q 481+523 T 1004 ☒ 1000\n",
      "1/1 [==============================] - 0s 53ms/step\n",
      "Q 42+579  T 621  ☒ 620 \n",
      "1/1 [==============================] - 0s 51ms/step\n",
      "Q 50+31   T 81   ☒ 77  \n",
      "1/1 [==============================] - 0s 87ms/step\n",
      "Q 756+630 T 1386 ☒ 1387\n",
      "1/1 [==============================] - 0s 58ms/step\n",
      "Q 236+695 T 931  ☒ 132 \n",
      "1/1 [==============================] - 0s 50ms/step\n",
      "Q 158+70  T 228  ☒ 220 \n",
      "1/1 [==============================] - 0s 52ms/step\n"
     ]
    },
    {
     "name": "stderr",
     "output_type": "stream",
     "text": [
      " 21%|██        | 6/29 [05:08<18:38, 48.62s/it]"
     ]
    },
    {
     "name": "stdout",
     "output_type": "stream",
     "text": [
      "Q 800+710 T 1510 ☒ 1509\n",
      "\n",
      "\n",
      "Iteration 7\n",
      "1250/1250 [==============================] - 50s 40ms/step - loss: 0.6974 - accuracy: 0.7473 - val_loss: 0.6729 - val_accuracy: 0.7516\n",
      "1/1 [==============================] - 0s 46ms/step\n",
      "Q 301+435 T 736  ☒ 733 \n",
      "1/1 [==============================] - 0s 52ms/step\n",
      "Q 22+583  T 605  ☒ 603 \n",
      "1/1 [==============================] - 0s 73ms/step\n",
      "Q 371+23  T 394  ☒ 393 \n",
      "1/1 [==============================] - 0s 44ms/step\n",
      "Q 277+659 T 936  ☒ 935 \n",
      "1/1 [==============================] - 0s 54ms/step\n",
      "Q 6+474   T 480  ☒ 481 \n",
      "1/1 [==============================] - 0s 54ms/step\n",
      "Q 104+347 T 451  ☒ 455 \n",
      "1/1 [==============================] - 0s 69ms/step\n",
      "Q 579+15  T 594  ☒ 595 \n",
      "1/1 [==============================] - 0s 50ms/step\n",
      "Q 993+13  T 1006 ☒ 1001\n",
      "1/1 [==============================] - 0s 48ms/step\n",
      "Q 235+83  T 318  ☒ 319 \n",
      "1/1 [==============================] - 0s 50ms/step\n"
     ]
    },
    {
     "name": "stderr",
     "output_type": "stream",
     "text": [
      " 24%|██▍       | 7/29 [06:00<18:09, 49.52s/it]"
     ]
    },
    {
     "name": "stdout",
     "output_type": "stream",
     "text": [
      "Q 210+134 T 344  ☒ 346 \n",
      "\n",
      "\n",
      "Iteration 8\n",
      "1250/1250 [==============================] - 50s 40ms/step - loss: 0.6211 - accuracy: 0.7747 - val_loss: 0.5761 - val_accuracy: 0.7899\n",
      "1/1 [==============================] - 0s 46ms/step\n",
      "Q 464+130 T 594  ☒ 593 \n",
      "1/1 [==============================] - 0s 48ms/step\n",
      "Q 86+863  T 949  ☒ 955 \n",
      "1/1 [==============================] - 0s 57ms/step\n",
      "Q 69+14   T 83   ☒ 92  \n",
      "1/1 [==============================] - 0s 56ms/step\n",
      "Q 985+93  T 1078 ☒ 1070\n",
      "1/1 [==============================] - 0s 51ms/step\n",
      "Q 62+43   T 105  ☒ 10  \n",
      "1/1 [==============================] - 0s 67ms/step\n",
      "Q 263+6   T 269  ☑ 269 \n",
      "1/1 [==============================] - 0s 53ms/step\n",
      "Q 569+49  T 618  ☒ 605 \n",
      "1/1 [==============================] - 0s 56ms/step\n",
      "Q 526+930 T 1456 ☒ 1566\n",
      "1/1 [==============================] - 0s 67ms/step\n",
      "Q 901+6   T 907  ☑ 907 \n",
      "1/1 [==============================] - 0s 49ms/step\n"
     ]
    },
    {
     "name": "stderr",
     "output_type": "stream",
     "text": [
      " 28%|██▊       | 8/29 [06:51<17:33, 50.15s/it]"
     ]
    },
    {
     "name": "stdout",
     "output_type": "stream",
     "text": [
      "Q 993+1   T 994  ☒ 984 \n",
      "\n",
      "\n",
      "Iteration 9\n",
      "1250/1250 [==============================] - 53s 42ms/step - loss: 0.4379 - accuracy: 0.8449 - val_loss: 0.3272 - val_accuracy: 0.8922\n",
      "1/1 [==============================] - 0s 91ms/step\n",
      "Q 144+811 T 955  ☑ 955 \n",
      "1/1 [==============================] - 0s 58ms/step\n",
      "Q 197+939 T 1136 ☑ 1136\n",
      "1/1 [==============================] - 0s 50ms/step\n",
      "Q 574+615 T 1189 ☑ 1189\n",
      "1/1 [==============================] - 0s 58ms/step\n",
      "Q 31+462  T 493  ☑ 493 \n",
      "1/1 [==============================] - 0s 55ms/step\n",
      "Q 19+142  T 161  ☑ 161 \n",
      "1/1 [==============================] - 0s 51ms/step\n",
      "Q 57+847  T 904  ☑ 904 \n",
      "1/1 [==============================] - 0s 58ms/step\n",
      "Q 105+784 T 889  ☒ 899 \n",
      "1/1 [==============================] - 0s 57ms/step\n",
      "Q 459+3   T 462  ☑ 462 \n",
      "1/1 [==============================] - 0s 62ms/step\n",
      "Q 58+675  T 733  ☑ 733 \n",
      "1/1 [==============================] - 0s 52ms/step\n"
     ]
    },
    {
     "name": "stderr",
     "output_type": "stream",
     "text": [
      " 31%|███       | 9/29 [07:45<17:09, 51.48s/it]"
     ]
    },
    {
     "name": "stdout",
     "output_type": "stream",
     "text": [
      "Q 30+45   T 75   ☒ 76  \n",
      "\n",
      "\n",
      "Iteration 10\n",
      "1250/1250 [==============================] - 50s 40ms/step - loss: 0.2624 - accuracy: 0.9236 - val_loss: 0.2306 - val_accuracy: 0.9331\n",
      "1/1 [==============================] - 0s 45ms/step\n",
      "Q 267+7   T 274  ☑ 274 \n",
      "1/1 [==============================] - 0s 45ms/step\n",
      "Q 297+573 T 870  ☑ 870 \n",
      "1/1 [==============================] - 0s 60ms/step\n",
      "Q 31+810  T 841  ☑ 841 \n",
      "1/1 [==============================] - 0s 56ms/step\n",
      "Q 450+162 T 612  ☒ 613 \n",
      "1/1 [==============================] - 0s 51ms/step\n",
      "Q 291+48  T 339  ☑ 339 \n",
      "1/1 [==============================] - 0s 50ms/step\n",
      "Q 45+350  T 395  ☑ 395 \n",
      "1/1 [==============================] - 0s 53ms/step\n",
      "Q 813+60  T 873  ☑ 873 \n",
      "1/1 [==============================] - 0s 54ms/step\n",
      "Q 35+538  T 573  ☑ 573 \n",
      "1/1 [==============================] - 0s 60ms/step\n",
      "Q 0+744   T 744  ☑ 744 \n",
      "1/1 [==============================] - 0s 54ms/step\n"
     ]
    },
    {
     "name": "stderr",
     "output_type": "stream",
     "text": [
      " 34%|███▍      | 10/29 [08:37<16:17, 51.42s/it]"
     ]
    },
    {
     "name": "stdout",
     "output_type": "stream",
     "text": [
      "Q 4+343   T 347  ☑ 347 \n",
      "\n",
      "\n",
      "Iteration 11\n",
      "1250/1250 [==============================] - 44s 35ms/step - loss: 0.1709 - accuracy: 0.9588 - val_loss: 0.1444 - val_accuracy: 0.9635\n",
      "1/1 [==============================] - 0s 47ms/step\n",
      "Q 4+684   T 688  ☑ 688 \n",
      "1/1 [==============================] - 0s 52ms/step\n",
      "Q 89+26   T 115  ☑ 115 \n",
      "1/1 [==============================] - 0s 51ms/step\n",
      "Q 848+625 T 1473 ☑ 1473\n",
      "1/1 [==============================] - 0s 55ms/step\n",
      "Q 937+19  T 956  ☒ 955 \n",
      "1/1 [==============================] - 0s 47ms/step\n",
      "Q 442+721 T 1163 ☑ 1163\n",
      "1/1 [==============================] - 0s 57ms/step\n",
      "Q 497+7   T 504  ☑ 504 \n",
      "1/1 [==============================] - 0s 51ms/step\n",
      "Q 307+93  T 400  ☒ 300 \n",
      "1/1 [==============================] - 0s 57ms/step\n",
      "Q 883+540 T 1423 ☑ 1423\n",
      "1/1 [==============================] - 0s 58ms/step\n",
      "Q 209+403 T 612  ☒ 522 \n",
      "1/1 [==============================] - 0s 53ms/step\n"
     ]
    },
    {
     "name": "stderr",
     "output_type": "stream",
     "text": [
      " 38%|███▊      | 11/29 [09:22<14:51, 49.52s/it]"
     ]
    },
    {
     "name": "stdout",
     "output_type": "stream",
     "text": [
      "Q 50+81   T 131  ☑ 131 \n",
      "\n",
      "\n",
      "Iteration 12\n",
      "1250/1250 [==============================] - 48s 38ms/step - loss: 0.1077 - accuracy: 0.9771 - val_loss: 0.0853 - val_accuracy: 0.9818\n",
      "1/1 [==============================] - 0s 89ms/step\n",
      "Q 792+27  T 819  ☑ 819 \n",
      "1/1 [==============================] - 0s 47ms/step\n",
      "Q 4+252   T 256  ☑ 256 \n",
      "1/1 [==============================] - 0s 59ms/step\n",
      "Q 54+23   T 77   ☑ 77  \n",
      "1/1 [==============================] - 0s 57ms/step\n",
      "Q 33+730  T 763  ☑ 763 \n",
      "1/1 [==============================] - 0s 48ms/step\n",
      "Q 72+546  T 618  ☑ 618 \n",
      "1/1 [==============================] - 0s 64ms/step\n",
      "Q 2+426   T 428  ☑ 428 \n",
      "1/1 [==============================] - 0s 53ms/step\n",
      "Q 8+308   T 316  ☑ 316 \n",
      "1/1 [==============================] - 0s 63ms/step\n",
      "Q 272+31  T 303  ☑ 303 \n",
      "1/1 [==============================] - 0s 54ms/step\n",
      "Q 4+284   T 288  ☑ 288 \n",
      "1/1 [==============================] - 0s 59ms/step\n"
     ]
    },
    {
     "name": "stderr",
     "output_type": "stream",
     "text": [
      " 41%|████▏     | 12/29 [10:11<14:00, 49.46s/it]"
     ]
    },
    {
     "name": "stdout",
     "output_type": "stream",
     "text": [
      "Q 68+371  T 439  ☒ 449 \n",
      "\n",
      "\n",
      "Iteration 13\n",
      "1250/1250 [==============================] - 40s 32ms/step - loss: 0.0894 - accuracy: 0.9793 - val_loss: 0.0706 - val_accuracy: 0.9842\n",
      "1/1 [==============================] - 0s 52ms/step\n",
      "Q 98+533  T 631  ☑ 631 \n",
      "1/1 [==============================] - 0s 58ms/step\n",
      "Q 78+909  T 987  ☑ 987 \n",
      "1/1 [==============================] - 0s 52ms/step\n",
      "Q 200+577 T 777  ☑ 777 \n",
      "1/1 [==============================] - 0s 64ms/step\n",
      "Q 22+70   T 92   ☑ 92  \n",
      "1/1 [==============================] - 0s 49ms/step\n",
      "Q 7+238   T 245  ☑ 245 \n",
      "1/1 [==============================] - 0s 55ms/step\n",
      "Q 826+943 T 1769 ☑ 1769\n",
      "1/1 [==============================] - 0s 56ms/step\n",
      "Q 701+560 T 1261 ☑ 1261\n",
      "1/1 [==============================] - 0s 55ms/step\n",
      "Q 340+818 T 1158 ☑ 1158\n",
      "1/1 [==============================] - 0s 74ms/step\n",
      "Q 37+831  T 868  ☑ 868 \n",
      "1/1 [==============================] - 0s 64ms/step\n"
     ]
    },
    {
     "name": "stderr",
     "output_type": "stream",
     "text": [
      " 45%|████▍     | 13/29 [10:53<12:34, 47.16s/it]"
     ]
    },
    {
     "name": "stdout",
     "output_type": "stream",
     "text": [
      "Q 72+429  T 501  ☑ 501 \n",
      "\n",
      "\n",
      "Iteration 14\n",
      "1250/1250 [==============================] - 42s 33ms/step - loss: 0.0712 - accuracy: 0.9824 - val_loss: 0.0899 - val_accuracy: 0.9719\n",
      "1/1 [==============================] - 0s 47ms/step\n",
      "Q 55+199  T 254  ☑ 254 \n",
      "1/1 [==============================] - 0s 57ms/step\n",
      "Q 84+49   T 133  ☑ 133 \n",
      "1/1 [==============================] - 0s 58ms/step\n",
      "Q 212+568 T 780  ☑ 780 \n",
      "1/1 [==============================] - 0s 54ms/step\n",
      "Q 7+746   T 753  ☑ 753 \n",
      "1/1 [==============================] - 0s 53ms/step\n",
      "Q 947+4   T 951  ☑ 951 \n",
      "1/1 [==============================] - 0s 56ms/step\n",
      "Q 697+80  T 777  ☑ 777 \n",
      "1/1 [==============================] - 0s 54ms/step\n",
      "Q 348+341 T 689  ☑ 689 \n",
      "1/1 [==============================] - 0s 55ms/step\n",
      "Q 11+830  T 841  ☑ 841 \n",
      "1/1 [==============================] - 0s 57ms/step\n",
      "Q 387+465 T 852  ☑ 852 \n",
      "1/1 [==============================] - 0s 58ms/step\n"
     ]
    },
    {
     "name": "stderr",
     "output_type": "stream",
     "text": [
      " 48%|████▊     | 14/29 [11:37<11:30, 46.05s/it]"
     ]
    },
    {
     "name": "stdout",
     "output_type": "stream",
     "text": [
      "Q 284+45  T 329  ☑ 329 \n",
      "\n",
      "\n",
      "Iteration 15\n",
      "1250/1250 [==============================] - 33s 27ms/step - loss: 0.0549 - accuracy: 0.9868 - val_loss: 0.0743 - val_accuracy: 0.9775\n",
      "1/1 [==============================] - 0s 50ms/step\n",
      "Q 643+925 T 1568 ☑ 1568\n",
      "1/1 [==============================] - 0s 56ms/step\n",
      "Q 83+186  T 269  ☑ 269 \n",
      "1/1 [==============================] - 0s 59ms/step\n",
      "Q 48+244  T 292  ☒ 392 \n",
      "1/1 [==============================] - 0s 51ms/step\n",
      "Q 324+8   T 332  ☑ 332 \n",
      "1/1 [==============================] - 0s 70ms/step\n",
      "Q 539+7   T 546  ☑ 546 \n",
      "1/1 [==============================] - 0s 57ms/step\n",
      "Q 606+88  T 694  ☑ 694 \n",
      "1/1 [==============================] - 0s 55ms/step\n",
      "Q 365+97  T 462  ☑ 462 \n",
      "1/1 [==============================] - 0s 54ms/step\n",
      "Q 756+95  T 851  ☑ 851 \n",
      "1/1 [==============================] - 0s 62ms/step\n",
      "Q 647+26  T 673  ☑ 673 \n",
      "1/1 [==============================] - 0s 58ms/step\n"
     ]
    },
    {
     "name": "stderr",
     "output_type": "stream",
     "text": [
      " 52%|█████▏    | 15/29 [12:12<09:58, 42.77s/it]"
     ]
    },
    {
     "name": "stdout",
     "output_type": "stream",
     "text": [
      "Q 446+110 T 556  ☑ 556 \n",
      "\n",
      "\n",
      "Iteration 16\n",
      "1250/1250 [==============================] - 50s 40ms/step - loss: 0.0459 - accuracy: 0.9884 - val_loss: 0.0371 - val_accuracy: 0.9906\n",
      "1/1 [==============================] - 0s 64ms/step\n",
      "Q 65+939  T 1004 ☑ 1004\n",
      "1/1 [==============================] - 0s 72ms/step\n",
      "Q 258+528 T 786  ☑ 786 \n",
      "1/1 [==============================] - 0s 72ms/step\n",
      "Q 790+94  T 884  ☑ 884 \n",
      "1/1 [==============================] - 0s 71ms/step\n",
      "Q 956+449 T 1405 ☑ 1405\n",
      "1/1 [==============================] - 0s 67ms/step\n",
      "Q 761+663 T 1424 ☑ 1424\n",
      "1/1 [==============================] - 0s 53ms/step\n",
      "Q 818+41  T 859  ☑ 859 \n",
      "1/1 [==============================] - 0s 56ms/step\n",
      "Q 542+59  T 601  ☑ 601 \n",
      "1/1 [==============================] - 0s 59ms/step\n",
      "Q 349+264 T 613  ☑ 613 \n",
      "1/1 [==============================] - 0s 58ms/step\n",
      "Q 715+575 T 1290 ☑ 1290\n",
      "1/1 [==============================] - 0s 52ms/step\n"
     ]
    },
    {
     "name": "stderr",
     "output_type": "stream",
     "text": [
      " 55%|█████▌    | 16/29 [13:04<09:51, 45.54s/it]"
     ]
    },
    {
     "name": "stdout",
     "output_type": "stream",
     "text": [
      "Q 807+694 T 1501 ☑ 1501\n",
      "\n",
      "\n",
      "Iteration 17\n",
      "1250/1250 [==============================] - 49s 39ms/step - loss: 0.0394 - accuracy: 0.9897 - val_loss: 0.0427 - val_accuracy: 0.9887\n",
      "1/1 [==============================] - 0s 50ms/step\n",
      "Q 16+994  T 1010 ☒ 1000\n",
      "1/1 [==============================] - 0s 52ms/step\n",
      "Q 55+500  T 555  ☑ 555 \n",
      "1/1 [==============================] - 0s 68ms/step\n",
      "Q 973+573 T 1546 ☑ 1546\n",
      "1/1 [==============================] - 0s 52ms/step\n",
      "Q 195+64  T 259  ☑ 259 \n",
      "1/1 [==============================] - 0s 56ms/step\n",
      "Q 284+568 T 852  ☑ 852 \n",
      "1/1 [==============================] - 0s 62ms/step\n",
      "Q 90+485  T 575  ☑ 575 \n",
      "1/1 [==============================] - 0s 48ms/step\n",
      "Q 50+93   T 143  ☑ 143 \n",
      "1/1 [==============================] - 0s 56ms/step\n",
      "Q 914+907 T 1821 ☑ 1821\n",
      "1/1 [==============================] - 0s 61ms/step\n",
      "Q 679+796 T 1475 ☑ 1475\n",
      "1/1 [==============================] - 0s 50ms/step\n"
     ]
    },
    {
     "name": "stderr",
     "output_type": "stream",
     "text": [
      " 59%|█████▊    | 17/29 [13:55<09:25, 47.12s/it]"
     ]
    },
    {
     "name": "stdout",
     "output_type": "stream",
     "text": [
      "Q 33+842  T 875  ☑ 875 \n",
      "\n",
      "\n",
      "Iteration 18\n",
      "1250/1250 [==============================] - 50s 40ms/step - loss: 0.0372 - accuracy: 0.9903 - val_loss: 0.0199 - val_accuracy: 0.9964\n",
      "1/1 [==============================] - 0s 48ms/step\n",
      "Q 409+0   T 409  ☑ 409 \n",
      "1/1 [==============================] - 0s 46ms/step\n",
      "Q 47+871  T 918  ☑ 918 \n",
      "1/1 [==============================] - 0s 65ms/step\n",
      "Q 233+74  T 307  ☑ 307 \n",
      "1/1 [==============================] - 0s 50ms/step\n",
      "Q 557+154 T 711  ☑ 711 \n",
      "1/1 [==============================] - 0s 56ms/step\n",
      "Q 37+10   T 47   ☑ 47  \n",
      "1/1 [==============================] - 0s 55ms/step\n",
      "Q 22+757  T 779  ☑ 779 \n",
      "1/1 [==============================] - 0s 54ms/step\n",
      "Q 697+19  T 716  ☑ 716 \n",
      "1/1 [==============================] - 0s 58ms/step\n",
      "Q 441+769 T 1210 ☑ 1210\n",
      "1/1 [==============================] - 0s 52ms/step\n",
      "Q 2+121   T 123  ☑ 123 \n",
      "1/1 [==============================] - 0s 49ms/step\n"
     ]
    },
    {
     "name": "stderr",
     "output_type": "stream",
     "text": [
      " 62%|██████▏   | 18/29 [14:46<08:53, 48.52s/it]"
     ]
    },
    {
     "name": "stdout",
     "output_type": "stream",
     "text": [
      "Q 66+822  T 888  ☑ 888 \n",
      "\n",
      "\n",
      "Iteration 19\n",
      "1250/1250 [==============================] - 53s 42ms/step - loss: 0.0269 - accuracy: 0.9933 - val_loss: 0.0198 - val_accuracy: 0.9961\n",
      "1/1 [==============================] - 0s 45ms/step\n",
      "Q 9+47    T 56   ☑ 56  \n",
      "1/1 [==============================] - 0s 63ms/step\n",
      "Q 910+79  T 989  ☑ 989 \n",
      "1/1 [==============================] - 0s 59ms/step\n",
      "Q 62+272  T 334  ☑ 334 \n",
      "1/1 [==============================] - 0s 54ms/step\n",
      "Q 175+601 T 776  ☑ 776 \n",
      "1/1 [==============================] - 0s 65ms/step\n",
      "Q 214+180 T 394  ☑ 394 \n",
      "1/1 [==============================] - 0s 55ms/step\n",
      "Q 303+215 T 518  ☑ 518 \n",
      "1/1 [==============================] - 0s 69ms/step\n",
      "Q 293+177 T 470  ☑ 470 \n",
      "1/1 [==============================] - 0s 75ms/step\n",
      "Q 71+63   T 134  ☑ 134 \n",
      "1/1 [==============================] - 0s 64ms/step\n",
      "Q 91+715  T 806  ☑ 806 \n",
      "1/1 [==============================] - 0s 45ms/step\n"
     ]
    },
    {
     "name": "stderr",
     "output_type": "stream",
     "text": [
      " 66%|██████▌   | 19/29 [15:41<08:23, 50.30s/it]"
     ]
    },
    {
     "name": "stdout",
     "output_type": "stream",
     "text": [
      "Q 403+769 T 1172 ☑ 1172\n",
      "\n",
      "\n",
      "Iteration 20\n",
      "1250/1250 [==============================] - 52s 42ms/step - loss: 0.0315 - accuracy: 0.9920 - val_loss: 0.0140 - val_accuracy: 0.9972\n",
      "1/1 [==============================] - 0s 76ms/step\n",
      "Q 757+204 T 961  ☑ 961 \n",
      "1/1 [==============================] - 0s 90ms/step\n",
      "Q 880+352 T 1232 ☑ 1232\n",
      "1/1 [==============================] - 0s 75ms/step\n",
      "Q 381+959 T 1340 ☑ 1340\n",
      "1/1 [==============================] - 0s 57ms/step\n",
      "Q 7+935   T 942  ☑ 942 \n",
      "1/1 [==============================] - 0s 72ms/step\n",
      "Q 185+2   T 187  ☑ 187 \n",
      "1/1 [==============================] - 0s 63ms/step\n",
      "Q 486+760 T 1246 ☑ 1246\n",
      "1/1 [==============================] - 0s 61ms/step\n",
      "Q 162+2   T 164  ☑ 164 \n",
      "1/1 [==============================] - 0s 53ms/step\n",
      "Q 919+199 T 1118 ☒ 1108\n",
      "1/1 [==============================] - 0s 57ms/step\n",
      "Q 867+52  T 919  ☑ 919 \n",
      "1/1 [==============================] - 0s 70ms/step\n"
     ]
    },
    {
     "name": "stderr",
     "output_type": "stream",
     "text": [
      " 69%|██████▉   | 20/29 [16:35<07:43, 51.48s/it]"
     ]
    },
    {
     "name": "stdout",
     "output_type": "stream",
     "text": [
      "Q 29+489  T 518  ☑ 518 \n",
      "\n",
      "\n",
      "Iteration 21\n",
      "1250/1250 [==============================] - 47s 37ms/step - loss: 0.0423 - accuracy: 0.9879 - val_loss: 0.0284 - val_accuracy: 0.9919\n",
      "1/1 [==============================] - 0s 50ms/step\n",
      "Q 118+40  T 158  ☑ 158 \n",
      "1/1 [==============================] - 0s 68ms/step\n",
      "Q 927+8   T 935  ☑ 935 \n",
      "1/1 [==============================] - 0s 56ms/step\n",
      "Q 2+33    T 35   ☑ 35  \n",
      "1/1 [==============================] - 0s 55ms/step\n",
      "Q 555+2   T 557  ☑ 557 \n",
      "1/1 [==============================] - 0s 52ms/step\n",
      "Q 8+760   T 768  ☑ 768 \n",
      "1/1 [==============================] - 0s 61ms/step\n",
      "Q 375+342 T 717  ☑ 717 \n",
      "1/1 [==============================] - 0s 95ms/step\n",
      "Q 182+52  T 234  ☑ 234 \n",
      "1/1 [==============================] - 0s 63ms/step\n",
      "Q 52+647  T 699  ☑ 699 \n",
      "1/1 [==============================] - 0s 57ms/step\n",
      "Q 730+27  T 757  ☑ 757 \n",
      "1/1 [==============================] - 0s 76ms/step\n",
      "Q"
     ]
    },
    {
     "name": "stderr",
     "output_type": "stream",
     "text": [
      " 72%|███████▏  | 21/29 [17:24<06:45, 50.67s/it]"
     ]
    },
    {
     "name": "stdout",
     "output_type": "stream",
     "text": [
      " 221+55  T 276  ☑ 276 \n",
      "\n",
      "\n",
      "Iteration 22\n",
      "1250/1250 [==============================] - 52s 42ms/step - loss: 0.0114 - accuracy: 0.9980 - val_loss: 0.0945 - val_accuracy: 0.9717\n",
      "1/1 [==============================] - 0s 49ms/step\n",
      "Q 530+484 T 1014 ☑ 1014\n",
      "1/1 [==============================] - 0s 56ms/step\n",
      "Q 456+3   T 459  ☑ 459 \n",
      "1/1 [==============================] - 0s 63ms/step\n",
      "Q 6+617   T 623  ☑ 623 \n",
      "1/1 [==============================] - 0s 54ms/step\n",
      "Q 536+61  T 597  ☑ 597 \n",
      "1/1 [==============================] - 0s 53ms/step\n",
      "Q 22+178  T 200  ☒ 101 \n",
      "1/1 [==============================] - 0s 51ms/step\n",
      "Q 66+82   T 148  ☑ 148 \n",
      "1/1 [==============================] - 0s 53ms/step\n",
      "Q 8+64    T 72   ☑ 72  \n",
      "1/1 [==============================] - 0s 57ms/step\n",
      "Q 613+17  T 630  ☒ 631 \n",
      "1/1 [==============================] - 0s 53ms/step\n",
      "Q 419+6   T 425  ☑ 425 \n",
      "1/1 [==============================] - 0s 65ms/step\n"
     ]
    },
    {
     "name": "stderr",
     "output_type": "stream",
     "text": [
      " 76%|███████▌  | 22/29 [18:16<05:58, 51.23s/it]"
     ]
    },
    {
     "name": "stdout",
     "output_type": "stream",
     "text": [
      "Q 77+162  T 239  ☑ 239 \n",
      "\n",
      "\n",
      "Iteration 23\n",
      "1250/1250 [==============================] - 53s 42ms/step - loss: 0.0313 - accuracy: 0.9912 - val_loss: 0.0138 - val_accuracy: 0.9968\n",
      "1/1 [==============================] - 0s 63ms/step\n",
      "Q 340+560 T 900  ☑ 900 \n",
      "1/1 [==============================] - 0s 82ms/step\n",
      "Q 10+46   T 56   ☑ 56  \n",
      "1/1 [==============================] - 0s 59ms/step\n",
      "Q 311+401 T 712  ☑ 712 \n",
      "1/1 [==============================] - 0s 65ms/step\n",
      "Q 623+68  T 691  ☑ 691 \n",
      "1/1 [==============================] - 0s 68ms/step\n",
      "Q 572+3   T 575  ☑ 575 \n",
      "1/1 [==============================] - 0s 65ms/step\n",
      "Q 210+134 T 344  ☑ 344 \n",
      "1/1 [==============================] - 0s 69ms/step\n",
      "Q 60+77   T 137  ☑ 137 \n",
      "1/1 [==============================] - 0s 82ms/step\n",
      "Q 824+72  T 896  ☑ 896 \n",
      "1/1 [==============================] - 0s 57ms/step\n",
      "Q 4+945   T 949  ☑ 949 \n",
      "1/1 [==============================] - 0s 57ms/step\n"
     ]
    },
    {
     "name": "stderr",
     "output_type": "stream",
     "text": [
      " 79%|███████▉  | 23/29 [19:11<05:13, 52.17s/it]"
     ]
    },
    {
     "name": "stdout",
     "output_type": "stream",
     "text": [
      "Q 14+291  T 305  ☑ 305 \n",
      "\n",
      "\n",
      "Iteration 24\n",
      "1250/1250 [==============================] - 50s 40ms/step - loss: 0.0309 - accuracy: 0.9915 - val_loss: 0.0119 - val_accuracy: 0.9975\n",
      "1/1 [==============================] - 0s 59ms/step\n",
      "Q 340+38  T 378  ☑ 378 \n",
      "1/1 [==============================] - 0s 71ms/step\n",
      "Q 30+200  T 230  ☑ 230 \n",
      "1/1 [==============================] - 0s 57ms/step\n",
      "Q 56+981  T 1037 ☑ 1037\n",
      "1/1 [==============================] - 0s 59ms/step\n",
      "Q 150+520 T 670  ☑ 670 \n",
      "1/1 [==============================] - 0s 57ms/step\n",
      "Q 939+306 T 1245 ☑ 1245\n",
      "1/1 [==============================] - 0s 60ms/step\n",
      "Q 801+50  T 851  ☑ 851 \n",
      "1/1 [==============================] - 0s 63ms/step\n",
      "Q 30+684  T 714  ☑ 714 \n",
      "1/1 [==============================] - 0s 57ms/step\n",
      "Q 308+434 T 742  ☑ 742 \n",
      "1/1 [==============================] - 0s 59ms/step\n",
      "Q 616+54  T 670  ☑ 670 \n",
      "1/1 [==============================] - 0s 67ms/step\n"
     ]
    },
    {
     "name": "stderr",
     "output_type": "stream",
     "text": [
      " 83%|████████▎ | 24/29 [20:02<04:20, 52.04s/it]"
     ]
    },
    {
     "name": "stdout",
     "output_type": "stream",
     "text": [
      "Q 229+925 T 1154 ☑ 1154\n",
      "\n",
      "\n",
      "Iteration 25\n",
      "1250/1250 [==============================] - 51s 41ms/step - loss: 0.0128 - accuracy: 0.9969 - val_loss: 0.0751 - val_accuracy: 0.9741\n",
      "1/1 [==============================] - 0s 70ms/step\n",
      "Q 979+0   T 979  ☑ 979 \n",
      "1/1 [==============================] - 0s 77ms/step\n",
      "Q 165+201 T 366  ☑ 366 \n",
      "1/1 [==============================] - 0s 61ms/step\n",
      "Q 732+245 T 977  ☑ 977 \n",
      "1/1 [==============================] - 0s 63ms/step\n",
      "Q 60+300  T 360  ☑ 360 \n",
      "1/1 [==============================] - 0s 58ms/step\n",
      "Q 200+67  T 267  ☑ 267 \n",
      "1/1 [==============================] - 0s 59ms/step\n",
      "Q 46+785  T 831  ☑ 831 \n",
      "1/1 [==============================] - 0s 57ms/step\n",
      "Q 875+13  T 888  ☑ 888 \n",
      "1/1 [==============================] - 0s 58ms/step\n",
      "Q 41+61   T 102  ☑ 102 \n",
      "1/1 [==============================] - 0s 67ms/step\n",
      "Q 0+455   T 455  ☑ 455 \n",
      "1/1 [==============================] - 0s 59ms/step\n"
     ]
    },
    {
     "name": "stderr",
     "output_type": "stream",
     "text": [
      " 86%|████████▌ | 25/29 [20:55<03:28, 52.15s/it]"
     ]
    },
    {
     "name": "stdout",
     "output_type": "stream",
     "text": [
      "Q 223+4   T 227  ☑ 227 \n",
      "\n",
      "\n",
      "Iteration 26\n",
      "1250/1250 [==============================] - 47s 37ms/step - loss: 0.0324 - accuracy: 0.9906 - val_loss: 0.0288 - val_accuracy: 0.9920\n",
      "1/1 [==============================] - 0s 61ms/step\n",
      "Q 0+375   T 375  ☑ 375 \n",
      "1/1 [==============================] - 0s 79ms/step\n",
      "Q 8+614   T 622  ☑ 622 \n",
      "1/1 [==============================] - 0s 69ms/step\n",
      "Q 2+757   T 759  ☑ 759 \n",
      "1/1 [==============================] - 0s 58ms/step\n",
      "Q 5+639   T 644  ☑ 644 \n",
      "1/1 [==============================] - 0s 90ms/step\n",
      "Q 878+2   T 880  ☑ 880 \n",
      "1/1 [==============================] - 0s 64ms/step\n",
      "Q 209+15  T 224  ☑ 224 \n",
      "1/1 [==============================] - 0s 65ms/step\n",
      "Q 69+227  T 296  ☑ 296 \n",
      "1/1 [==============================] - 0s 61ms/step\n",
      "Q 23+323  T 346  ☑ 346 \n",
      "1/1 [==============================] - 0s 63ms/step\n",
      "Q 306+574 T 880  ☑ 880 \n",
      "1/1 [==============================] - 0s 78ms/step\n"
     ]
    },
    {
     "name": "stderr",
     "output_type": "stream",
     "text": [
      " 90%|████████▉ | 26/29 [21:44<02:33, 51.12s/it]"
     ]
    },
    {
     "name": "stdout",
     "output_type": "stream",
     "text": [
      "Q 842+77  T 919  ☑ 919 \n",
      "\n",
      "\n",
      "Iteration 27\n",
      "1250/1250 [==============================] - 51s 41ms/step - loss: 0.0126 - accuracy: 0.9971 - val_loss: 0.0959 - val_accuracy: 0.9696\n",
      "1/1 [==============================] - 0s 53ms/step\n",
      "Q 13+466  T 479  ☒ 480 \n",
      "1/1 [==============================] - 0s 64ms/step\n",
      "Q 89+590  T 679  ☑ 679 \n",
      "1/1 [==============================] - 0s 60ms/step\n",
      "Q 962+94  T 1056 ☑ 1056\n",
      "1/1 [==============================] - 0s 62ms/step\n",
      "Q 0+727   T 727  ☑ 727 \n",
      "1/1 [==============================] - 0s 63ms/step\n",
      "Q 370+644 T 1014 ☑ 1014\n",
      "1/1 [==============================] - 0s 72ms/step\n",
      "Q 542+7   T 549  ☑ 549 \n",
      "1/1 [==============================] - 0s 57ms/step\n",
      "Q 24+855  T 879  ☑ 879 \n",
      "1/1 [==============================] - 0s 61ms/step\n",
      "Q 195+64  T 259  ☑ 259 \n",
      "1/1 [==============================] - 0s 62ms/step\n",
      "Q 625+21  T 646  ☒ 647 \n",
      "1/1 [==============================] - 0s 60ms/step\n"
     ]
    },
    {
     "name": "stderr",
     "output_type": "stream",
     "text": [
      " 93%|█████████▎| 27/29 [22:36<01:43, 51.61s/it]"
     ]
    },
    {
     "name": "stdout",
     "output_type": "stream",
     "text": [
      "Q 54+292  T 346  ☑ 346 \n",
      "\n",
      "\n",
      "Iteration 28\n",
      "1250/1250 [==============================] - 51s 41ms/step - loss: 0.0217 - accuracy: 0.9938 - val_loss: 0.0185 - val_accuracy: 0.9947\n",
      "1/1 [==============================] - 0s 71ms/step\n",
      "Q 954+11  T 965  ☑ 965 \n",
      "1/1 [==============================] - 0s 93ms/step\n",
      "Q 30+684  T 714  ☑ 714 \n",
      "1/1 [==============================] - 0s 61ms/step\n",
      "Q 253+31  T 284  ☑ 284 \n",
      "1/1 [==============================] - 0s 66ms/step\n",
      "Q 469+5   T 474  ☑ 474 \n",
      "1/1 [==============================] - 0s 68ms/step\n",
      "Q 21+191  T 212  ☑ 212 \n",
      "1/1 [==============================] - 0s 60ms/step\n",
      "Q 254+242 T 496  ☑ 496 \n",
      "1/1 [==============================] - 0s 60ms/step\n",
      "Q 4+702   T 706  ☑ 706 \n",
      "1/1 [==============================] - 0s 82ms/step\n",
      "Q 5+877   T 882  ☑ 882 \n",
      "1/1 [==============================] - 0s 70ms/step\n",
      "Q 812+86  T 898  ☑ 898 \n",
      "1/1 [==============================] - 0s 55ms/step\n"
     ]
    },
    {
     "name": "stderr",
     "output_type": "stream",
     "text": [
      " 97%|█████████▋| 28/29 [23:30<00:52, 52.14s/it]"
     ]
    },
    {
     "name": "stdout",
     "output_type": "stream",
     "text": [
      "Q 47+380  T 427  ☑ 427 \n",
      "\n",
      "\n",
      "Iteration 29\n",
      "1250/1250 [==============================] - 49s 40ms/step - loss: 0.0167 - accuracy: 0.9956 - val_loss: 0.0145 - val_accuracy: 0.9958\n",
      "1/1 [==============================] - 0s 55ms/step\n",
      "Q 820+84  T 904  ☑ 904 \n",
      "1/1 [==============================] - 0s 59ms/step\n",
      "Q 24+558  T 582  ☑ 582 \n",
      "1/1 [==============================] - 0s 63ms/step\n",
      "Q 504+729 T 1233 ☑ 1233\n",
      "1/1 [==============================] - 0s 55ms/step\n",
      "Q 811+84  T 895  ☑ 895 \n",
      "1/1 [==============================] - 0s 55ms/step\n",
      "Q 902+754 T 1656 ☑ 1656\n",
      "1/1 [==============================] - 0s 59ms/step\n",
      "Q 31+48   T 79   ☒ 89  \n",
      "1/1 [==============================] - 0s 58ms/step\n",
      "Q 66+2    T 68   ☑ 68  \n",
      "1/1 [==============================] - 0s 59ms/step\n",
      "Q 65+6    T 71   ☑ 71  \n",
      "1/1 [==============================] - 0s 64ms/step\n",
      "Q 165+563 T 728  ☑ 728 \n",
      "1/1 [==============================] - 0s 58ms/step\n"
     ]
    },
    {
     "name": "stderr",
     "output_type": "stream",
     "text": [
      "100%|██████████| 29/29 [24:21<00:00, 50.39s/it]"
     ]
    },
    {
     "name": "stdout",
     "output_type": "stream",
     "text": [
      "Q 17+134  T 151  ☑ 151 \n"
     ]
    },
    {
     "name": "stderr",
     "output_type": "stream",
     "text": [
      "\n"
     ]
    }
   ],
   "source": [
    "\n",
    "\n",
    "epochs = 30\n",
    "batch_size = 32\n",
    "\n",
    "\n",
    "# Train the model each generation and show predictions against the validation\n",
    "# dataset.\n",
    "for epoch in tqdm(range(1, epochs)):\n",
    "    print()\n",
    "    print(\"\\nIteration\", epoch)\n",
    "    model.fit(\n",
    "        x_train,\n",
    "        y_train,\n",
    "        batch_size=batch_size,\n",
    "        epochs=1,\n",
    "        validation_data=(x_test, y_test),\n",
    "    )\n",
    "    # Select 10 samples from the validation set at random so we can visualize\n",
    "    # errors.\n",
    "    for i in range(10):\n",
    "        ind = np.random.randint(0, len(x_test))\n",
    "        rowx, rowy = x_test[np.array([ind])], y_test[np.array([ind])]\n",
    "        preds = np.argmax(model.predict(rowx), axis=-1)\n",
    "        q = ctable.decode(rowx[0])\n",
    "        correct = ctable.decode(rowy[0])\n",
    "        guess = ctable.decode(preds[0], calc_argmax=False)\n",
    "        print(\"Q\", q[::-1] if REVERSE else q, end=\" \")\n",
    "        print(\"T\", correct, end=\" \")\n",
    "        if correct == guess:\n",
    "            print(\"☑ \" + guess)\n",
    "        else:\n",
    "            print(\"☒ \" + guess)"
   ]
  },
  {
   "cell_type": "code",
   "execution_count": 18,
   "id": "52cf2e03",
   "metadata": {},
   "outputs": [],
   "source": [
    "# from tqdm import tqdm\n",
    "# for i in tqdm(range(100000)):\n",
    "#     print(i)"
   ]
  },
  {
   "cell_type": "markdown",
   "id": "db77ae3a",
   "metadata": {},
   "source": [
    "# Reference \n",
    "\n",
    "- https://keras.io/examples/nlp/addition_rnn/\n",
    "- https://medium.com/@nutanbhogendrasharma/sequence-to-sequence-learning-with-neural-networks-to-perform-number-addition-7ef0df7afaa4"
   ]
  },
  {
   "cell_type": "code",
   "execution_count": null,
   "id": "18975ca6",
   "metadata": {},
   "outputs": [],
   "source": []
  }
 ],
 "metadata": {
  "kernelspec": {
   "display_name": "ml_dl_env",
   "language": "python",
   "name": "python3"
  },
  "language_info": {
   "codemirror_mode": {
    "name": "ipython",
    "version": 3
   },
   "file_extension": ".py",
   "mimetype": "text/x-python",
   "name": "python",
   "nbconvert_exporter": "python",
   "pygments_lexer": "ipython3",
   "version": "3.8.20"
  }
 },
 "nbformat": 4,
 "nbformat_minor": 5
}
