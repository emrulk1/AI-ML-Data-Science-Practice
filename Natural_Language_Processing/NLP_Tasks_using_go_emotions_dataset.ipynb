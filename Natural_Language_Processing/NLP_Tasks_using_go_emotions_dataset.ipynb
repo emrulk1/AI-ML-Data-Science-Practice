{
 "cells": [
  {
   "cell_type": "markdown",
   "metadata": {},
   "source": [
    "# NLP Tasks on GoEmotions\n",
    "This notebook demonstrates multiple NLP tasks on the [GoEmotions dataset](https://huggingface.co/datasets/google-research-datasets/go_emotions) (simplified config). You will find:\n",
    "\n",
    "1. **Data Exploration** (EDA) + SQL\n",
    "2. **Visualization** of basic stats\n",
    "3. **Preprocessing** (stemming, lemmatization, normalization, removing HTML, regex searching)\n",
    "4. **Small subset + tokenization** demonstration\n",
    "5. **Text Classification** (multi-label) with both scikit-learn + Keras\n",
    "6. **Sentiment Analysis** (Transformer pipeline)\n",
    "7. **Named Entity Recognition** (NER pipeline)\n",
    "8. **Question Answering** (QA pipeline)\n",
    "9. **Topic Modeling** (LDA)\n",
    "10. **Word2Vec** (CBOW/Skip-gram) for word/sentence similarity and visualization\n",
    "\n",
    "> **Important**: Some tasks (NER, QA) do not directly use the GoEmotions labels. We show them with **pretrained pipelines** for demonstration.\n",
    "\n",
    "**Let's begin!**"
   ]
  },
  {
   "cell_type": "code",
   "execution_count": 2,
   "metadata": {
    "tags": []
   },
   "outputs": [],
   "source": [
    "%%capture\n",
    "!pip install datasets nltk transformers sklearn matplotlib seaborn gensim sqlite3-bro\n"
   ]
  },
  {
   "cell_type": "code",
   "execution_count": 1,
   "metadata": {
    "tags": []
   },
   "outputs": [
    {
     "name": "stdout",
     "output_type": "stream",
     "text": [
      "All packages imported!\n"
     ]
    }
   ],
   "source": [
    "import warnings\n",
    "warnings.filterwarnings('ignore')\n",
    "\n",
    "import os\n",
    "os.environ[\"TF_CPP_MIN_LOG_LEVEL\"] = \"2\"  # Suppresses INFO and WARNING logs\n",
    "\n",
    "import pandas as pd\n",
    "import numpy as np\n",
    "import re\n",
    "import sqlite3\n",
    "\n",
    "# Visualization\n",
    "import matplotlib.pyplot as plt\n",
    "import seaborn as sns\n",
    "\n",
    "# NLP\n",
    "import nltk\n",
    "from nltk.stem import PorterStemmer, WordNetLemmatizer\n",
    "# If needed, uncomment:\n",
    "# nltk.download('wordnet')\n",
    "# nltk.download('omw-1.4')\n",
    "# nltk.download('punkt')\n",
    "\n",
    "from sklearn.model_selection import train_test_split\n",
    "from sklearn.preprocessing import MultiLabelBinarizer\n",
    "from sklearn.feature_extraction.text import TfidfVectorizer, CountVectorizer\n",
    "from sklearn.linear_model import LogisticRegression\n",
    "from sklearn.ensemble import RandomForestClassifier \n",
    "from sklearn.multiclass import OneVsRestClassifier\n",
    "from sklearn.metrics import classification_report, f1_score\n",
    "\n",
    "from skmultilearn.adapt import MLkNN\n",
    "\n",
    "# Hugging Face Transformers\n",
    "from transformers import pipeline\n",
    "\n",
    "# TensorFlow / Keras\n",
    "import tensorflow as tf\n",
    "from tensorflow.keras.preprocessing.text import Tokenizer\n",
    "from tensorflow.keras.preprocessing.sequence import pad_sequences\n",
    "from tensorflow.keras.models import Sequential\n",
    "from tensorflow.keras.layers import Embedding, LSTM, Dense, GlobalMaxPooling1D\n",
    "\n",
    "# Topic Modeling\n",
    "from sklearn.decomposition import LatentDirichletAllocation\n",
    "\n",
    "# Word2Vec\n",
    "import gensim\n",
    "from gensim.models import Word2Vec\n",
    "\n",
    "print(\"All packages imported!\")"
   ]
  },
  {
   "cell_type": "markdown",
   "metadata": {},
   "source": [
    "## 1. Load GoEmotions (Simplified) + Basic EDA"
   ]
  },
  {
   "cell_type": "code",
   "execution_count": 2,
   "metadata": {},
   "outputs": [
    {
     "name": "stdout",
     "output_type": "stream",
     "text": [
      "DatasetDict({\n",
      "    train: Dataset({\n",
      "        features: ['text', 'labels', 'id'],\n",
      "        num_rows: 43410\n",
      "    })\n",
      "    validation: Dataset({\n",
      "        features: ['text', 'labels', 'id'],\n",
      "        num_rows: 5426\n",
      "    })\n",
      "    test: Dataset({\n",
      "        features: ['text', 'labels', 'id'],\n",
      "        num_rows: 5427\n",
      "    })\n",
      "})\n",
      "\n",
      "Train DataFrame:\n"
     ]
    },
    {
     "data": {
      "text/html": [
       "<div>\n",
       "<style scoped>\n",
       "    .dataframe tbody tr th:only-of-type {\n",
       "        vertical-align: middle;\n",
       "    }\n",
       "\n",
       "    .dataframe tbody tr th {\n",
       "        vertical-align: top;\n",
       "    }\n",
       "\n",
       "    .dataframe thead th {\n",
       "        text-align: right;\n",
       "    }\n",
       "</style>\n",
       "<table border=\"1\" class=\"dataframe\">\n",
       "  <thead>\n",
       "    <tr style=\"text-align: right;\">\n",
       "      <th></th>\n",
       "      <th>text</th>\n",
       "      <th>labels</th>\n",
       "      <th>id</th>\n",
       "    </tr>\n",
       "  </thead>\n",
       "  <tbody>\n",
       "    <tr>\n",
       "      <th>0</th>\n",
       "      <td>My favourite food is anything I didn't have to...</td>\n",
       "      <td>[27]</td>\n",
       "      <td>eebbqej</td>\n",
       "    </tr>\n",
       "    <tr>\n",
       "      <th>1</th>\n",
       "      <td>Now if he does off himself, everyone will thin...</td>\n",
       "      <td>[27]</td>\n",
       "      <td>ed00q6i</td>\n",
       "    </tr>\n",
       "    <tr>\n",
       "      <th>2</th>\n",
       "      <td>WHY THE FUCK IS BAYLESS ISOING</td>\n",
       "      <td>[2]</td>\n",
       "      <td>eezlygj</td>\n",
       "    </tr>\n",
       "    <tr>\n",
       "      <th>3</th>\n",
       "      <td>To make her feel threatened</td>\n",
       "      <td>[14]</td>\n",
       "      <td>ed7ypvh</td>\n",
       "    </tr>\n",
       "    <tr>\n",
       "      <th>4</th>\n",
       "      <td>Dirty Southern Wankers</td>\n",
       "      <td>[3]</td>\n",
       "      <td>ed0bdzj</td>\n",
       "    </tr>\n",
       "  </tbody>\n",
       "</table>\n",
       "</div>"
      ],
      "text/plain": [
       "                                                text labels       id\n",
       "0  My favourite food is anything I didn't have to...   [27]  eebbqej\n",
       "1  Now if he does off himself, everyone will thin...   [27]  ed00q6i\n",
       "2                     WHY THE FUCK IS BAYLESS ISOING    [2]  eezlygj\n",
       "3                        To make her feel threatened   [14]  ed7ypvh\n",
       "4                             Dirty Southern Wankers    [3]  ed0bdzj"
      ]
     },
     "metadata": {},
     "output_type": "display_data"
    },
    {
     "name": "stdout",
     "output_type": "stream",
     "text": [
      "\n",
      "Validation DataFrame:\n"
     ]
    },
    {
     "data": {
      "text/html": [
       "<div>\n",
       "<style scoped>\n",
       "    .dataframe tbody tr th:only-of-type {\n",
       "        vertical-align: middle;\n",
       "    }\n",
       "\n",
       "    .dataframe tbody tr th {\n",
       "        vertical-align: top;\n",
       "    }\n",
       "\n",
       "    .dataframe thead th {\n",
       "        text-align: right;\n",
       "    }\n",
       "</style>\n",
       "<table border=\"1\" class=\"dataframe\">\n",
       "  <thead>\n",
       "    <tr style=\"text-align: right;\">\n",
       "      <th></th>\n",
       "      <th>text</th>\n",
       "      <th>labels</th>\n",
       "      <th>id</th>\n",
       "    </tr>\n",
       "  </thead>\n",
       "  <tbody>\n",
       "    <tr>\n",
       "      <th>0</th>\n",
       "      <td>Is this in New Orleans?? I really feel like th...</td>\n",
       "      <td>[27]</td>\n",
       "      <td>edgurhb</td>\n",
       "    </tr>\n",
       "    <tr>\n",
       "      <th>1</th>\n",
       "      <td>You know the answer man, you are programmed to...</td>\n",
       "      <td>[4, 27]</td>\n",
       "      <td>ee84bjg</td>\n",
       "    </tr>\n",
       "    <tr>\n",
       "      <th>2</th>\n",
       "      <td>I've never been this sad in my life!</td>\n",
       "      <td>[25]</td>\n",
       "      <td>edcu99z</td>\n",
       "    </tr>\n",
       "    <tr>\n",
       "      <th>3</th>\n",
       "      <td>The economy is heavily controlled and subsidiz...</td>\n",
       "      <td>[4, 27]</td>\n",
       "      <td>edc32e2</td>\n",
       "    </tr>\n",
       "    <tr>\n",
       "      <th>4</th>\n",
       "      <td>He could have easily taken a real camera from ...</td>\n",
       "      <td>[20]</td>\n",
       "      <td>eepig6r</td>\n",
       "    </tr>\n",
       "  </tbody>\n",
       "</table>\n",
       "</div>"
      ],
      "text/plain": [
       "                                                text   labels       id\n",
       "0  Is this in New Orleans?? I really feel like th...     [27]  edgurhb\n",
       "1  You know the answer man, you are programmed to...  [4, 27]  ee84bjg\n",
       "2               I've never been this sad in my life!     [25]  edcu99z\n",
       "3  The economy is heavily controlled and subsidiz...  [4, 27]  edc32e2\n",
       "4  He could have easily taken a real camera from ...     [20]  eepig6r"
      ]
     },
     "metadata": {},
     "output_type": "display_data"
    },
    {
     "name": "stdout",
     "output_type": "stream",
     "text": [
      "\n",
      "Test DataFrame:\n"
     ]
    },
    {
     "data": {
      "text/html": [
       "<div>\n",
       "<style scoped>\n",
       "    .dataframe tbody tr th:only-of-type {\n",
       "        vertical-align: middle;\n",
       "    }\n",
       "\n",
       "    .dataframe tbody tr th {\n",
       "        vertical-align: top;\n",
       "    }\n",
       "\n",
       "    .dataframe thead th {\n",
       "        text-align: right;\n",
       "    }\n",
       "</style>\n",
       "<table border=\"1\" class=\"dataframe\">\n",
       "  <thead>\n",
       "    <tr style=\"text-align: right;\">\n",
       "      <th></th>\n",
       "      <th>text</th>\n",
       "      <th>labels</th>\n",
       "      <th>id</th>\n",
       "    </tr>\n",
       "  </thead>\n",
       "  <tbody>\n",
       "    <tr>\n",
       "      <th>0</th>\n",
       "      <td>I’m really sorry about your situation :( Altho...</td>\n",
       "      <td>[25]</td>\n",
       "      <td>eecwqtt</td>\n",
       "    </tr>\n",
       "    <tr>\n",
       "      <th>1</th>\n",
       "      <td>It's wonderful because it's awful. At not with.</td>\n",
       "      <td>[0]</td>\n",
       "      <td>ed5f85d</td>\n",
       "    </tr>\n",
       "    <tr>\n",
       "      <th>2</th>\n",
       "      <td>Kings fan here, good luck to you guys! Will be...</td>\n",
       "      <td>[13]</td>\n",
       "      <td>een27c3</td>\n",
       "    </tr>\n",
       "    <tr>\n",
       "      <th>3</th>\n",
       "      <td>I didn't know that, thank you for teaching me ...</td>\n",
       "      <td>[15]</td>\n",
       "      <td>eelgwd1</td>\n",
       "    </tr>\n",
       "    <tr>\n",
       "      <th>4</th>\n",
       "      <td>They got bored from haunting earth for thousan...</td>\n",
       "      <td>[27]</td>\n",
       "      <td>eem5uti</td>\n",
       "    </tr>\n",
       "  </tbody>\n",
       "</table>\n",
       "</div>"
      ],
      "text/plain": [
       "                                                text labels       id\n",
       "0  I’m really sorry about your situation :( Altho...   [25]  eecwqtt\n",
       "1    It's wonderful because it's awful. At not with.    [0]  ed5f85d\n",
       "2  Kings fan here, good luck to you guys! Will be...   [13]  een27c3\n",
       "3  I didn't know that, thank you for teaching me ...   [15]  eelgwd1\n",
       "4  They got bored from haunting earth for thousan...   [27]  eem5uti"
      ]
     },
     "metadata": {},
     "output_type": "display_data"
    }
   ],
   "source": [
    "from datasets import load_dataset\n",
    "\n",
    "# Load the simplified GoEmotions dataset\n",
    "dataset = load_dataset(\"google-research-datasets/go_emotions\", \"simplified\")\n",
    "print(dataset)\n",
    "\n",
    "# Convert to pandas DataFrame for easier handling\n",
    "train_df = pd.DataFrame(dataset['train'])\n",
    "validation_df = pd.DataFrame(dataset['validation'])\n",
    "test_df = pd.DataFrame(dataset['test'])\n",
    "\n",
    "print(\"\\nTrain DataFrame:\")\n",
    "display(train_df.head())\n",
    "print(\"\\nValidation DataFrame:\")\n",
    "display(validation_df.head())\n",
    "print(\"\\nTest DataFrame:\")\n",
    "display(test_df.head())"
   ]
  },
  {
   "cell_type": "markdown",
   "metadata": {},
   "source": [
    "### 1.1 Basic SQL Exploration"
   ]
  },
  {
   "cell_type": "code",
   "execution_count": 24,
   "metadata": {},
   "outputs": [
    {
     "name": "stdout",
     "output_type": "stream",
     "text": [
      "Label Distribution (Top 5):\n"
     ]
    },
    {
     "data": {
      "text/html": [
       "<div>\n",
       "<style scoped>\n",
       "    .dataframe tbody tr th:only-of-type {\n",
       "        vertical-align: middle;\n",
       "    }\n",
       "\n",
       "    .dataframe tbody tr th {\n",
       "        vertical-align: top;\n",
       "    }\n",
       "\n",
       "    .dataframe thead th {\n",
       "        text-align: right;\n",
       "    }\n",
       "</style>\n",
       "<table border=\"1\" class=\"dataframe\">\n",
       "  <thead>\n",
       "    <tr style=\"text-align: right;\">\n",
       "      <th></th>\n",
       "      <th>labels</th>\n",
       "      <th>count_labels</th>\n",
       "    </tr>\n",
       "  </thead>\n",
       "  <tbody>\n",
       "    <tr>\n",
       "      <th>0</th>\n",
       "      <td>[27]</td>\n",
       "      <td>12823</td>\n",
       "    </tr>\n",
       "    <tr>\n",
       "      <th>1</th>\n",
       "      <td>[0]</td>\n",
       "      <td>2710</td>\n",
       "    </tr>\n",
       "    <tr>\n",
       "      <th>2</th>\n",
       "      <td>[4]</td>\n",
       "      <td>1873</td>\n",
       "    </tr>\n",
       "    <tr>\n",
       "      <th>3</th>\n",
       "      <td>[15]</td>\n",
       "      <td>1857</td>\n",
       "    </tr>\n",
       "    <tr>\n",
       "      <th>4</th>\n",
       "      <td>[1]</td>\n",
       "      <td>1652</td>\n",
       "    </tr>\n",
       "  </tbody>\n",
       "</table>\n",
       "</div>"
      ],
      "text/plain": [
       "  labels  count_labels\n",
       "0   [27]         12823\n",
       "1    [0]          2710\n",
       "2    [4]          1873\n",
       "3   [15]          1857\n",
       "4    [1]          1652"
      ]
     },
     "metadata": {},
     "output_type": "display_data"
    },
    {
     "name": "stdout",
     "output_type": "stream",
     "text": [
      "query : \n",
      "SELECT text\n",
      "FROM emotions\n",
      "WHERE text LIKE '%sad%'\n",
      "LIMIT 5;\n",
      "\n",
      "\n",
      "Texts containing query pattern (first 5):\n"
     ]
    },
    {
     "data": {
      "text/html": [
       "<div>\n",
       "<style scoped>\n",
       "    .dataframe tbody tr th:only-of-type {\n",
       "        vertical-align: middle;\n",
       "    }\n",
       "\n",
       "    .dataframe tbody tr th {\n",
       "        vertical-align: top;\n",
       "    }\n",
       "\n",
       "    .dataframe thead th {\n",
       "        text-align: right;\n",
       "    }\n",
       "</style>\n",
       "<table border=\"1\" class=\"dataframe\">\n",
       "  <thead>\n",
       "    <tr style=\"text-align: right;\">\n",
       "      <th></th>\n",
       "      <th>text</th>\n",
       "    </tr>\n",
       "  </thead>\n",
       "  <tbody>\n",
       "    <tr>\n",
       "      <th>0</th>\n",
       "      <td>Go pursue that education. Let [NAME] wallow in...</td>\n",
       "    </tr>\n",
       "    <tr>\n",
       "      <th>1</th>\n",
       "      <td>Sad. My condolences to her family.</td>\n",
       "    </tr>\n",
       "    <tr>\n",
       "      <th>2</th>\n",
       "      <td>I'm curious to see the difference, but sadly t...</td>\n",
       "    </tr>\n",
       "    <tr>\n",
       "      <th>3</th>\n",
       "      <td>Emotes have a ridiculous amount of effort put ...</td>\n",
       "    </tr>\n",
       "    <tr>\n",
       "      <th>4</th>\n",
       "      <td>The sad thing is, relatively speaking these ar...</td>\n",
       "    </tr>\n",
       "  </tbody>\n",
       "</table>\n",
       "</div>"
      ],
      "text/plain": [
       "                                                text\n",
       "0  Go pursue that education. Let [NAME] wallow in...\n",
       "1                 Sad. My condolences to her family.\n",
       "2  I'm curious to see the difference, but sadly t...\n",
       "3  Emotes have a ridiculous amount of effort put ...\n",
       "4  The sad thing is, relatively speaking these ar..."
      ]
     },
     "metadata": {},
     "output_type": "display_data"
    },
    {
     "name": "stdout",
     "output_type": "stream",
     "text": [
      "First value of response: Go pursue that education. Let [NAME] wallow in her own sadness.\n"
     ]
    }
   ],
   "source": [
    "# Create in-memory SQLite for train_df\n",
    "conn = sqlite3.connect(':memory:')\n",
    "train_df_str = train_df.applymap(str)\n",
    "train_df_str.to_sql('emotions', conn, if_exists='replace', index=False)\n",
    "\n",
    "# 1) Label distribution (top 5)\n",
    "query_label_distribution = \"\"\"\n",
    "SELECT \n",
    "    labels, COUNT(*) as count_labels \n",
    "FROM emotions \n",
    "GROUP BY labels \n",
    "ORDER BY count_labels DESC \n",
    "LIMIT 5;\n",
    "\"\"\"\n",
    "result_df = pd.read_sql_query(query_label_distribution, conn)\n",
    "print(\"Label Distribution (Top 5):\")\n",
    "display(result_df)\n",
    "\n",
    "# 2) Find texts containing a digit\n",
    "# query_numbers = \"\"\"\n",
    "# SELECT text\n",
    "# FROM emotions\n",
    "# WHERE text LIKE '%[0-9]%'\n",
    "# LIMIT 5;\n",
    "# \"\"\"\n",
    "query = \"\"\"\n",
    "SELECT text\n",
    "FROM emotions\n",
    "WHERE text LIKE '%sad%'\n",
    "LIMIT 5;\n",
    "\"\"\"\n",
    "\n",
    "# numbers_df = pd.read_sql_query(query_numbers, conn)\n",
    "response_df = pd.read_sql_query(query, conn)\n",
    "# print(\"\\nTexts containing digits (first 5):\")\n",
    "print(f\"query : {query}\")\n",
    "print(\"\\nTexts containing query pattern (first 5):\")\n",
    "display(response_df)\n",
    "print(f\"First value of response: {response_df['text'][0]}\")"
   ]
  },
  {
   "cell_type": "markdown",
   "metadata": {},
   "source": [
    "## 2. Data Visualization\n",
    "Let's see how many labels each sample has."
   ]
  },
  {
   "cell_type": "code",
   "execution_count": 4,
   "metadata": {},
   "outputs": [
    {
     "data": {
      "image/png": "[encoded data removed]",
      "text/plain": [
       "<Figure size 640x480 with 1 Axes>"
      ]
     },
     "metadata": {},
     "output_type": "display_data"
    }
   ],
   "source": [
    "train_label_counts = train_df['labels'].apply(len)\n",
    "sns.histplot(train_label_counts, bins=range(1,8), kde=False)\n",
    "plt.title(\"Number of Labels per Sample (Train Set)\")\n",
    "plt.xlabel(\"Count of Labels\")\n",
    "plt.ylabel(\"Number of Samples\")\n",
    "plt.show()"
   ]
  },
  {
   "cell_type": "markdown",
   "metadata": {},
   "source": [
    "## 3. Preprocessing the Text\n",
    "We'll demonstrate several steps:\n",
    "1. Stemming\n",
    "2. Lemmatization\n",
    "3. Normalization\n",
    "4. Removing HTML tags\n",
    "5. Finding patterns with regex (numbers, emails)"
   ]
  },
  {
   "cell_type": "code",
   "execution_count": 5,
   "metadata": {},
   "outputs": [
    {
     "data": {
      "text/html": [
       "<div>\n",
       "<style scoped>\n",
       "    .dataframe tbody tr th:only-of-type {\n",
       "        vertical-align: middle;\n",
       "    }\n",
       "\n",
       "    .dataframe tbody tr th {\n",
       "        vertical-align: top;\n",
       "    }\n",
       "\n",
       "    .dataframe thead th {\n",
       "        text-align: right;\n",
       "    }\n",
       "</style>\n",
       "<table border=\"1\" class=\"dataframe\">\n",
       "  <thead>\n",
       "    <tr style=\"text-align: right;\">\n",
       "      <th></th>\n",
       "      <th>text</th>\n",
       "      <th>labels</th>\n",
       "      <th>id</th>\n",
       "      <th>stemmed</th>\n",
       "      <th>lemmatized</th>\n",
       "      <th>html_example</th>\n",
       "      <th>cleaned_html</th>\n",
       "      <th>contains_numbers</th>\n",
       "      <th>contains_email</th>\n",
       "    </tr>\n",
       "  </thead>\n",
       "  <tbody>\n",
       "    <tr>\n",
       "      <th>25759</th>\n",
       "      <td>The only way this works is if [NAME] is doing ...</td>\n",
       "      <td>[27]</td>\n",
       "      <td>edupnyh</td>\n",
       "      <td>the onli way thi work is if [name] is do the b...</td>\n",
       "      <td>The only way this work is if [NAME] is doing t...</td>\n",
       "      <td>&lt;p&gt;I am &lt;strong&gt;Happy&lt;/strong&gt; 123!&lt;/p&gt;</td>\n",
       "      <td>i am happy 123</td>\n",
       "      <td>False</td>\n",
       "      <td>False</td>\n",
       "    </tr>\n",
       "    <tr>\n",
       "      <th>22531</th>\n",
       "      <td>Access should be hindered it's getting destroyed.</td>\n",
       "      <td>[3]</td>\n",
       "      <td>ediy7lp</td>\n",
       "      <td>access should be hinder it' get destroyed.</td>\n",
       "      <td>Access should be hindered it's getting destroyed.</td>\n",
       "      <td>&lt;p&gt;I am &lt;strong&gt;Happy&lt;/strong&gt; 123!&lt;/p&gt;</td>\n",
       "      <td>i am happy 123</td>\n",
       "      <td>False</td>\n",
       "      <td>False</td>\n",
       "    </tr>\n",
       "    <tr>\n",
       "      <th>18418</th>\n",
       "      <td>Totally fair. All I was trying to remind every...</td>\n",
       "      <td>[4]</td>\n",
       "      <td>edv791a</td>\n",
       "      <td>total fair. all i wa tri to remind everyon is ...</td>\n",
       "      <td>Totally fair. All I wa trying to remind everyo...</td>\n",
       "      <td>&lt;p&gt;I am &lt;strong&gt;Happy&lt;/strong&gt; 123!&lt;/p&gt;</td>\n",
       "      <td>i am happy 123</td>\n",
       "      <td>False</td>\n",
       "      <td>False</td>\n",
       "    </tr>\n",
       "    <tr>\n",
       "      <th>31117</th>\n",
       "      <td>I'm poly and jn the Raleigh area too, moved he...</td>\n",
       "      <td>[26]</td>\n",
       "      <td>ed8lzbw</td>\n",
       "      <td>i'm poli and jn the raleigh area too, move her...</td>\n",
       "      <td>I'm poly and jn the Raleigh area too, moved he...</td>\n",
       "      <td>&lt;p&gt;I am &lt;strong&gt;Happy&lt;/strong&gt; 123!&lt;/p&gt;</td>\n",
       "      <td>i am happy 123</td>\n",
       "      <td>False</td>\n",
       "      <td>False</td>\n",
       "    </tr>\n",
       "    <tr>\n",
       "      <th>5733</th>\n",
       "      <td>Naw man Asain men have an easier time. Most of...</td>\n",
       "      <td>[1]</td>\n",
       "      <td>edlvvfv</td>\n",
       "      <td>naw man asain men have an easier time. most of...</td>\n",
       "      <td>Naw man Asain men have an easier time. Most of...</td>\n",
       "      <td>&lt;p&gt;I am &lt;strong&gt;Happy&lt;/strong&gt; 123!&lt;/p&gt;</td>\n",
       "      <td>i am happy 123</td>\n",
       "      <td>False</td>\n",
       "      <td>False</td>\n",
       "    </tr>\n",
       "  </tbody>\n",
       "</table>\n",
       "</div>"
      ],
      "text/plain": [
       "                                                    text labels       id  \\\n",
       "25759  The only way this works is if [NAME] is doing ...   [27]  edupnyh   \n",
       "22531  Access should be hindered it's getting destroyed.    [3]  ediy7lp   \n",
       "18418  Totally fair. All I was trying to remind every...    [4]  edv791a   \n",
       "31117  I'm poly and jn the Raleigh area too, moved he...   [26]  ed8lzbw   \n",
       "5733   Naw man Asain men have an easier time. Most of...    [1]  edlvvfv   \n",
       "\n",
       "                                                 stemmed  \\\n",
       "25759  the onli way thi work is if [name] is do the b...   \n",
       "22531         access should be hinder it' get destroyed.   \n",
       "18418  total fair. all i wa tri to remind everyon is ...   \n",
       "31117  i'm poli and jn the raleigh area too, move her...   \n",
       "5733   naw man asain men have an easier time. most of...   \n",
       "\n",
       "                                              lemmatized  \\\n",
       "25759  The only way this work is if [NAME] is doing t...   \n",
       "22531  Access should be hindered it's getting destroyed.   \n",
       "18418  Totally fair. All I wa trying to remind everyo...   \n",
       "31117  I'm poly and jn the Raleigh area too, moved he...   \n",
       "5733   Naw man Asain men have an easier time. Most of...   \n",
       "\n",
       "                                  html_example    cleaned_html  \\\n",
       "25759  <p>I am <strong>Happy</strong> 123!</p>  i am happy 123   \n",
       "22531  <p>I am <strong>Happy</strong> 123!</p>  i am happy 123   \n",
       "18418  <p>I am <strong>Happy</strong> 123!</p>  i am happy 123   \n",
       "31117  <p>I am <strong>Happy</strong> 123!</p>  i am happy 123   \n",
       "5733   <p>I am <strong>Happy</strong> 123!</p>  i am happy 123   \n",
       "\n",
       "       contains_numbers  contains_email  \n",
       "25759             False           False  \n",
       "22531             False           False  \n",
       "18418             False           False  \n",
       "31117             False           False  \n",
       "5733              False           False  "
      ]
     },
     "execution_count": 5,
     "metadata": {},
     "output_type": "execute_result"
    }
   ],
   "source": [
    "stemmer = PorterStemmer()\n",
    "lemmatizer = WordNetLemmatizer()\n",
    "\n",
    "def normalize_text(text):\n",
    "    text = text.lower()\n",
    "    text = re.sub(r'[^\\w\\s]', '', text)  # remove punctuation\n",
    "    return text\n",
    "\n",
    "def remove_html_tags(text):\n",
    "    clean = re.compile('<.*?>')\n",
    "    return re.sub(clean, '', text)\n",
    "\n",
    "# We'll create a small demonstration subset\n",
    "demo_df = train_df.sample(5, random_state=42).copy()\n",
    "\n",
    "# Stemming\n",
    "demo_df['stemmed'] = demo_df['text'].apply(\n",
    "    lambda x: ' '.join(stemmer.stem(word) for word in x.split())\n",
    ")\n",
    "\n",
    "# Lemmatization\n",
    "demo_df['lemmatized'] = demo_df['text'].apply(\n",
    "    lambda x: ' '.join(lemmatizer.lemmatize(word) for word in x.split())\n",
    ")\n",
    "\n",
    "# Normalization + HTML removal example\n",
    "demo_df['html_example'] = \"<p>I am <strong>Happy</strong> 123!</p>\"\n",
    "demo_df['cleaned_html'] = demo_df['html_example'].apply(remove_html_tags).apply(normalize_text)\n",
    "\n",
    "# Pattern searching\n",
    "demo_df['contains_numbers'] = demo_df['text'].str.contains(r'\\d', na=False)\n",
    "demo_df['contains_email'] = demo_df['text'].str.contains(r'[a-zA-Z0-9._%+-]+@[a-zA-Z0-9.-]+\\\\.[a-zA-Z]{2,}', na=False)\n",
    "\n",
    "demo_df"
   ]
  },
  {
   "cell_type": "markdown",
   "metadata": {},
   "source": [
    "## 4. Show a Small Subset & Tokenize"
   ]
  },
  {
   "cell_type": "code",
   "execution_count": 6,
   "metadata": {},
   "outputs": [
    {
     "name": "stdout",
     "output_type": "stream",
     "text": [
      "Subset of original text:\n",
      " 40694                                    You are unhinged.\n",
      "25582    People need to want democracy in its raw form ...\n",
      "29683    Underrated comment, my friend! Know that you m...\n",
      "26227                                    Are you ghosting?\n",
      "6247                                              ~ [NAME]\n",
      "Name: text, dtype: object\n",
      "\n",
      "Subset with tokenized texts:\n",
      "                                                     text  \\\n",
      "40694                                  You are unhinged.   \n",
      "25582  People need to want democracy in its raw form ...   \n",
      "29683  Underrated comment, my friend! Know that you m...   \n",
      "26227                                  Are you ghosting?   \n",
      "6247                                            ~ [NAME]   \n",
      "\n",
      "                                               tokenized  \n",
      "40694                            [You, are, unhinged, .]  \n",
      "25582  [People, need, to, want, democracy, in, its, r...  \n",
      "29683  [Underrated, comment, ,, my, friend, !, Know, ...  \n",
      "26227                            [Are, you, ghosting, ?]  \n",
      "6247                                     [~, [, NAME, ]]  \n"
     ]
    }
   ],
   "source": [
    "subset_df = train_df.sample(5, random_state=123).copy()\n",
    "print(\"Subset of original text:\\n\", subset_df['text'])\n",
    "\n",
    "# Tokenize using NLTK\n",
    "subset_df['tokenized'] = subset_df['text'].apply(nltk.word_tokenize)\n",
    "print(\"\\nSubset with tokenized texts:\\n\", subset_df[['text', 'tokenized']])"
   ]
  },
  {
   "cell_type": "markdown",
   "metadata": {},
   "source": [
    "## 5. Text Classification\n",
    "We have 28 possible emotion labels, meaning multi-label classification."
   ]
  },
  {
   "cell_type": "markdown",
   "metadata": {},
   "source": [
    "### 5.1 Multi-Label with scikit-learn (Logistic Regression)"
   ]
  },
  {
   "cell_type": "markdown",
   "id": "e485067f",
   "metadata": {},
   "source": [
    "#### 5.1.1 Data Preprocessing"
   ]
  },
  {
   "cell_type": "code",
   "execution_count": 7,
   "id": "f10e1294",
   "metadata": {},
   "outputs": [
    {
     "name": "stdout",
     "output_type": "stream",
     "text": [
      "Number of classes: 28\n",
      "Classes: [ 0  1  2  3  4  5  6  7  8  9 10 11 12 13 14 15 16 17 18 19 20 21 22 23\n",
      " 24 25 26 27]\n"
     ]
    }
   ],
   "source": [
    "# 1) Binarize the labels\n",
    "mlb = MultiLabelBinarizer()\n",
    "y_train = mlb.fit_transform(train_df['labels'])\n",
    "y_val   = mlb.transform(validation_df['labels'])\n",
    "y_test  = mlb.transform(test_df['labels'])\n",
    "\n",
    "print(\"Number of classes:\", len(mlb.classes_))\n",
    "print(\"Classes:\", mlb.classes_)\n",
    "\n",
    "# 2) TF-IDF vectorize the text\n",
    "vectorizer = TfidfVectorizer(max_features=5000)\n",
    "X_train_tfidf = vectorizer.fit_transform(train_df['text'])\n",
    "X_val_tfidf   = vectorizer.transform(validation_df['text'])\n",
    "X_test_tfidf  = vectorizer.transform(test_df['text'])"
   ]
  },
  {
   "cell_type": "markdown",
   "id": "3dddd7ad",
   "metadata": {},
   "source": [
    "#### 5.1.2 Classification using a binary/multiclass model with OneVsRest technique "
   ]
  },
  {
   "cell_type": "markdown",
   "id": "b76113f5",
   "metadata": {},
   "source": [
    "##### Using Logistic Regression:"
   ]
  },
  {
   "cell_type": "code",
   "execution_count": 8,
   "id": "6b3785f5",
   "metadata": {},
   "outputs": [
    {
     "name": "stdout",
     "output_type": "stream",
     "text": [
      "======== Performance Evaluation of LogisticRegression ========\n",
      "Classification Report on Validation Data:\n",
      "              precision    recall  f1-score  support\n",
      "micro avg      0.711908  0.301724  0.423822   6380.0\n",
      "macro avg      0.611302  0.180607  0.247914   6380.0\n",
      "weighted avg   0.667053  0.301724  0.374989   6380.0\n",
      "samples avg    0.340183  0.322752  0.326662   6380.0\n",
      "\n",
      "Classification Report on Test Data:\n",
      "              precision    recall  f1-score  support\n",
      "micro avg      0.706574  0.303997  0.425099   6329.0\n",
      "macro avg      0.592282  0.173867  0.237783   6329.0\n",
      "weighted avg   0.678376  0.303997  0.375844   6329.0\n",
      "samples avg    0.342669  0.325011  0.328985   6329.0\n"
     ]
    }
   ],
   "source": [
    "\n",
    "# LogisticRegression in a OneVsRest scheme\n",
    "model = LogisticRegression()\n",
    "model_sklearn = OneVsRestClassifier(model)\n",
    "model_sklearn.fit(X_train_tfidf, y_train)\n",
    "\n",
    "# Evaluate on Validation\n",
    "print(f\"======== Performance Evaluation of {type(model).__name__} ========\")\n",
    "y_val_pred = model_sklearn.predict(X_val_tfidf)\n",
    "print(\"Classification Report on Validation Data:\")\n",
    "# print(classification_report(y_val, y_val_pred, zero_division=0))\n",
    "report_dict = classification_report(y_val, y_val_pred, zero_division=0, \n",
    "                                    target_names=mlb.classes_, output_dict=True)\n",
    "report_df = pd.DataFrame(report_dict).transpose()\n",
    "print(report_df[-4:])\n",
    "\n",
    "# Evaluate on Test\n",
    "y_test_pred = model_sklearn.predict(X_test_tfidf)\n",
    "print(\"\\nClassification Report on Test Data:\")\n",
    "# print(classification_report(y_test, y_test_pred, zero_division=0))\n",
    "report_dict = classification_report(y_test, y_test_pred, zero_division=0, \n",
    "                                    target_names=mlb.classes_, output_dict=True)\n",
    "report_df = pd.DataFrame(report_dict).transpose()\n",
    "print(report_df[-4:])"
   ]
  },
  {
   "cell_type": "markdown",
   "id": "06447a35",
   "metadata": {},
   "source": [
    "#### 5.1.2 Classification directly with a multilabel classifier"
   ]
  },
  {
   "cell_type": "markdown",
   "id": "bb505af7",
   "metadata": {},
   "source": [
    "#### 5.1.2.1 Using a scikit learn model that directly supports multilabel classification: "
   ]
  },
  {
   "cell_type": "code",
   "execution_count": 9,
   "id": "51830c25",
   "metadata": {},
   "outputs": [
    {
     "name": "stdout",
     "output_type": "stream",
     "text": [
      "======== Performance Evaluation of RandomForestClassifier ========\n",
      "Classification Report on Validation Data:\n",
      "              precision    recall  f1-score  support\n",
      "micro avg      0.687718  0.339655  0.454727   6380.0\n",
      "macro avg      0.595954  0.174312  0.229670   6380.0\n",
      "weighted avg   0.666008  0.339655  0.383856   6380.0\n",
      "samples avg    0.395780  0.368980  0.377264   6380.0\n",
      "\n",
      "Classification Report on Test Data:\n",
      "              precision    recall  f1-score  support\n",
      "micro avg      0.675763  0.328646  0.442224   6329.0\n",
      "macro avg      0.639603  0.169536  0.223173   6329.0\n",
      "weighted avg   0.691945  0.328646  0.370529   6329.0\n",
      "samples avg    0.379737  0.354969  0.362742   6329.0\n"
     ]
    }
   ],
   "source": [
    "model_sklearn = RandomForestClassifier(n_estimators = 100, random_state=42)  \n",
    "# model_sklearn = OneVsRestClassifier(model)\n",
    "model_sklearn.fit(X_train_tfidf, y_train)\n",
    "\n",
    "# Evaluate on Validation\n",
    "print(f\"======== Performance Evaluation of {type(model_sklearn).__name__} ========\")\n",
    "y_val_pred = model_sklearn.predict(X_val_tfidf)\n",
    "print(\"Classification Report on Validation Data:\")\n",
    "# print(classification_report(y_val, y_val_pred, zero_division=0))\n",
    "report_dict = classification_report(y_val, y_val_pred, zero_division=0, \n",
    "                                    target_names=mlb.classes_, output_dict=True)\n",
    "report_df = pd.DataFrame(report_dict).transpose()\n",
    "print(report_df[-4:])\n",
    "\n",
    "# Evaluate on Test\n",
    "y_test_pred = model_sklearn.predict(X_test_tfidf)\n",
    "print(\"\\nClassification Report on Test Data:\")\n",
    "# print(classification_report(y_test, y_test_pred, zero_division=0))\n",
    "report_dict = classification_report(y_test, y_test_pred, zero_division=0, \n",
    "                                    target_names=mlb.classes_, output_dict=True)\n",
    "report_df = pd.DataFrame(report_dict).transpose()\n",
    "print(report_df[-4:])"
   ]
  },
  {
   "cell_type": "markdown",
   "id": "d281b6fd",
   "metadata": {},
   "source": [
    "#### 5.1.2.2 Using a scikit learn model that directly supports multilabel classification: "
   ]
  },
  {
   "cell_type": "markdown",
   "id": "3c2a81fb",
   "metadata": {},
   "source": [
    "##### Using a Scikit Multilearn model:"
   ]
  },
  {
   "cell_type": "code",
   "execution_count": 10,
   "id": "22829fc4",
   "metadata": {},
   "outputs": [
    {
     "name": "stdout",
     "output_type": "stream",
     "text": [
      "======== Performance Evaluation of MLkNN ========\n",
      "Classification Report on Validation Data:\n",
      "              precision    recall  f1-score  support\n",
      "micro avg      0.355248  0.140596  0.201460   6380.0\n",
      "macro avg      0.294990  0.115196  0.156705   6380.0\n",
      "weighted avg   0.362593  0.140596  0.196347   6380.0\n",
      "samples avg    0.142723  0.149189  0.141299   6380.0\n",
      "\n",
      "Classification Report on Test Data:\n",
      "              precision    recall  f1-score  support\n",
      "micro avg      0.362385  0.137304  0.199152   6329.0\n",
      "macro avg      0.325017  0.124963  0.164640   6329.0\n",
      "weighted avg   0.374172  0.137304  0.193777   6329.0\n",
      "samples avg    0.138769  0.144202  0.137406   6329.0\n"
     ]
    }
   ],
   "source": [
    "# multilabel k nearest neighbor\n",
    "model = MLkNN(k=5)\n",
    "model.fit(X_train_tfidf, y_train)\n",
    "\n",
    "# Evaluate on Validation\n",
    "print(f\"======== Performance Evaluation of {type(model).__name__} ========\")\n",
    "y_val_pred = model.predict(X_val_tfidf)\n",
    "print(\"Classification Report on Validation Data:\")\n",
    "# print(classification_report(y_val, y_val_pred, zero_division=0))\n",
    "report_dict = classification_report(y_val, y_val_pred, zero_division=0, \n",
    "                                    target_names=mlb.classes_, output_dict=True)\n",
    "report_df = pd.DataFrame(report_dict).transpose()\n",
    "print(report_df[-4:])\n",
    "\n",
    "# Evaluate on Test\n",
    "y_test_pred = model.predict(X_test_tfidf)\n",
    "print(\"\\nClassification Report on Test Data:\")\n",
    "# print(classification_report(y_test, y_test_pred, zero_division=0))\n",
    "report_dict = classification_report(y_test, y_test_pred, zero_division=0, \n",
    "                                    target_names=mlb.classes_, output_dict=True)\n",
    "report_df = pd.DataFrame(report_dict).transpose()\n",
    "print(report_df[-4:])"
   ]
  },
  {
   "cell_type": "markdown",
   "metadata": {},
   "source": [
    "### 5.2 Multi-Label with Deep Learning (Keras + LSTM)"
   ]
  },
  {
   "cell_type": "code",
   "execution_count": 11,
   "metadata": {},
   "outputs": [
    {
     "name": "stdout",
     "output_type": "stream",
     "text": [
      "Epoch 1/5\n",
      "1357/1357 [==============================] - 90s 54ms/step - loss: 0.1375 - accuracy: 0.3859 - val_loss: 0.1142 - val_accuracy: 0.4847\n",
      "Epoch 2/5\n",
      "1357/1357 [==============================] - 70s 51ms/step - loss: 0.1050 - accuracy: 0.5060 - val_loss: 0.1003 - val_accuracy: 0.5252\n",
      "Epoch 3/5\n",
      "1357/1357 [==============================] - 73s 54ms/step - loss: 0.0938 - accuracy: 0.5426 - val_loss: 0.0969 - val_accuracy: 0.5381\n",
      "Epoch 4/5\n",
      "1357/1357 [==============================] - 72s 53ms/step - loss: 0.0871 - accuracy: 0.5704 - val_loss: 0.0964 - val_accuracy: 0.5363\n",
      "Epoch 5/5\n",
      "1357/1357 [==============================] - 74s 55ms/step - loss: 0.0818 - accuracy: 0.5939 - val_loss: 0.0978 - val_accuracy: 0.5311\n",
      "170/170 [==============================] - 4s 23ms/step - loss: 0.0975 - accuracy: 0.5292\n",
      "\n",
      "Test Loss: 0.0975\n",
      "Test Accuracy: 0.5292\n",
      "170/170 [==============================] - 4s 17ms/step\n",
      "\n",
      "Test Classification Report (threshold=0.5):\n",
      "              precision    recall  f1-score   support\n",
      "\n",
      "           0       0.70      0.47      0.56       504\n",
      "           1       0.82      0.71      0.76       264\n",
      "           2       0.61      0.23      0.34       198\n",
      "           3       0.52      0.12      0.19       320\n",
      "           4       0.65      0.17      0.26       351\n",
      "           5       0.43      0.19      0.27       135\n",
      "           6       0.82      0.12      0.21       153\n",
      "           7       0.44      0.17      0.24       284\n",
      "           8       0.77      0.24      0.37        83\n",
      "           9       0.75      0.02      0.04       151\n",
      "          10       0.40      0.13      0.19       267\n",
      "          11       0.70      0.27      0.39       123\n",
      "          12       0.67      0.16      0.26        37\n",
      "          13       0.88      0.14      0.24       103\n",
      "          14       0.80      0.41      0.54        78\n",
      "          15       0.93      0.90      0.91       352\n",
      "          16       0.00      0.00      0.00         6\n",
      "          17       0.65      0.40      0.50       161\n",
      "          18       0.84      0.67      0.74       238\n",
      "          19       0.50      0.04      0.08        23\n",
      "          20       0.71      0.39      0.50       186\n",
      "          21       0.00      0.00      0.00        16\n",
      "          22       0.85      0.08      0.14       145\n",
      "          23       0.00      0.00      0.00        11\n",
      "          24       0.53      0.54      0.53        56\n",
      "          25       0.74      0.38      0.51       156\n",
      "          26       0.61      0.30      0.40       141\n",
      "          27       0.61      0.66      0.63      1787\n",
      "\n",
      "   micro avg       0.66      0.43      0.52      6329\n",
      "   macro avg       0.60      0.28      0.35      6329\n",
      "weighted avg       0.66      0.43      0.48      6329\n",
      " samples avg       0.49      0.46      0.47      6329\n",
      "\n"
     ]
    }
   ],
   "source": [
    "# Tokenize + pad sequences\n",
    "tokenizer = Tokenizer(num_words=5000, oov_token='<UNK>')\n",
    "tokenizer.fit_on_texts(train_df['text'])\n",
    "\n",
    "X_train_seq = tokenizer.texts_to_sequences(train_df['text'])\n",
    "X_val_seq   = tokenizer.texts_to_sequences(validation_df['text'])\n",
    "X_test_seq  = tokenizer.texts_to_sequences(test_df['text'])\n",
    "\n",
    "max_len = 50\n",
    "X_train_pad = pad_sequences(X_train_seq, maxlen=max_len, padding='post')\n",
    "X_val_pad   = pad_sequences(X_val_seq,   maxlen=max_len, padding='post')\n",
    "X_test_pad  = pad_sequences(X_test_seq,  maxlen=max_len, padding='post')\n",
    "\n",
    "num_classes = y_train.shape[1]\n",
    "vocab_size  = 5000\n",
    "\n",
    "model_keras = Sequential()\n",
    "model_keras.add(Embedding(input_dim=vocab_size, output_dim=128, input_length=max_len))\n",
    "model_keras.add(LSTM(128, return_sequences=True))\n",
    "model_keras.add(GlobalMaxPooling1D())\n",
    "model_keras.add(Dense(128, activation='relu'))\n",
    "model_keras.add(Dense(num_classes, activation='sigmoid'))  # multi-label -> sigmoid\n",
    "\n",
    "model_keras.compile(optimizer='adam',\n",
    "                   loss='binary_crossentropy',\n",
    "                   metrics=['accuracy'])\n",
    "\n",
    "history = model_keras.fit(\n",
    "    X_train_pad, y_train,\n",
    "    validation_data=(X_val_pad, y_val),\n",
    "    # epochs=3,\n",
    "    epochs=5,\n",
    "    batch_size=32\n",
    ")\n",
    "\n",
    "# Evaluate on test\n",
    "test_loss, test_acc = model_keras.evaluate(X_test_pad, y_test)\n",
    "print(f\"\\nTest Loss: {test_loss:.4f}\")\n",
    "print(f\"Test Accuracy: {test_acc:.4f}\")\n",
    "\n",
    "# More detailed metrics\n",
    "y_test_pred_proba = model_keras.predict(X_test_pad)\n",
    "y_test_pred_bin = (y_test_pred_proba >= 0.5).astype(int)\n",
    "\n",
    "print(\"\\nTest Classification Report (threshold=0.5):\")\n",
    "print(classification_report(y_test, y_test_pred_bin, zero_division=0))"
   ]
  },
  {
   "cell_type": "markdown",
   "metadata": {},
   "source": [
    "## 6. Sentiment Analysis (Transformers Pipeline)\n",
    "Although GoEmotions is multi-label, we can show a pretrained **sentiment-analysis** pipeline (e.g., DistilBERT on SST-2)."
   ]
  },
  {
   "cell_type": "code",
   "execution_count": 12,
   "metadata": {},
   "outputs": [
    {
     "name": "stderr",
     "output_type": "stream",
     "text": [
      "No model was supplied, defaulted to distilbert/distilbert-base-uncased-finetuned-sst-2-english and revision 714eb0f (https://huggingface.co/distilbert/distilbert-base-uncased-finetuned-sst-2-english).\n",
      "Using a pipeline without specifying a model name and revision in production is not recommended.\n"
     ]
    },
    {
     "name": "stdout",
     "output_type": "stream",
     "text": [
      "\n",
      "Sample Texts: ['The only way this works is if [NAME] is doing the Bird Box challenge and cant see the terms of the contract.', \"Access should be hindered it's getting destroyed.\", \"Totally fair. All I was trying to remind everyone is don't fall in love with your crushes.\"]\n"
     ]
    },
    {
     "name": "stderr",
     "output_type": "stream",
     "text": [
      "Hardware accelerator e.g. GPU is available in the environment, but no `device` argument is passed to the `Pipeline` object. Model will be on CPU.\n"
     ]
    },
    {
     "name": "stdout",
     "output_type": "stream",
     "text": [
      "\n",
      "Sentiment Analysis Result with default pipeline:\n",
      "The only way this works is if [NAME] is doing the Bird Box challenge and cant see the terms of the contract. -> [{'label': 'NEGATIVE', 'score': 0.9993564486503601}]\n",
      "Access should be hindered it's getting destroyed. -> [{'label': 'NEGATIVE', 'score': 0.9996906518936157}]\n",
      "Totally fair. All I was trying to remind everyone is don't fall in love with your crushes. -> [{'label': 'POSITIVE', 'score': 0.9991602897644043}]\n",
      "\n"
     ]
    },
    {
     "name": "stderr",
     "output_type": "stream",
     "text": [
      "emoji is not installed, thus not converting emoticons or emojis into text. Install emoji: pip3 install emoji==0.6.0\n",
      "Hardware accelerator e.g. GPU is available in the environment, but no `device` argument is passed to the `Pipeline` object. Model will be on CPU.\n"
     ]
    },
    {
     "name": "stdout",
     "output_type": "stream",
     "text": [
      "\n",
      "Sentiment Analysis Result with finiteautomata/bertweet-base-sentiment-analysis:\n",
      "The only way this works is if [NAME] is doing the Bird Box challenge and cant see the terms of the contract. -> [{'label': 'NEG', 'score': 0.5374358296394348}]\n",
      "Access should be hindered it's getting destroyed. -> [{'label': 'NEG', 'score': 0.9623880386352539}]\n",
      "Totally fair. All I was trying to remind everyone is don't fall in love with your crushes. -> [{'label': 'NEU', 'score': 0.871118426322937}]\n"
     ]
    }
   ],
   "source": [
    "# sample_texts = [\n",
    "#     \"I love this! It's absolutely fantastic.\",\n",
    "#     \"I hate everything about this situation.\",\n",
    "#     \"I'm feeling okay, nothing special.\"\n",
    "# ]\n",
    "\n",
    "sample_texts = train_df['text'].sample(3, random_state=42).tolist()\n",
    "print(f\"\\nSample Texts: {sample_texts}\")\n",
    "\n",
    "sentiment_pipeline = pipeline(\"sentiment-analysis\")\n",
    "print(\"\\nSentiment Analysis Result with default pipeline:\")\n",
    "for txt in sample_texts:\n",
    "    result = sentiment_pipeline(txt)\n",
    "    print(txt, \"->\", result)\n",
    "print()\n",
    "\n",
    "model_name = \"finiteautomata/bertweet-base-sentiment-analysis\"\n",
    "sentiment_pipeline = pipeline(model=model_name)\n",
    "print(f\"\\nSentiment Analysis Result with {model_name}:\")\n",
    "for txt in sample_texts:\n",
    "    result = sentiment_pipeline(txt)\n",
    "    print(txt, \"->\", result)"
   ]
  },
  {
   "cell_type": "markdown",
   "metadata": {},
   "source": [
    "## 7. Named Entity Recognition"
   ]
  },
  {
   "cell_type": "code",
   "execution_count": 16,
   "metadata": {},
   "outputs": [
    {
     "name": "stderr",
     "output_type": "stream",
     "text": [
      "No model was supplied, defaulted to dbmdz/bert-large-cased-finetuned-conll03-english and revision 4c53496 (https://huggingface.co/dbmdz/bert-large-cased-finetuned-conll03-english).\n",
      "Using a pipeline without specifying a model name and revision in production is not recommended.\n"
     ]
    },
    {
     "name": "stderr",
     "output_type": "stream",
     "text": [
      "Some weights of the model checkpoint at dbmdz/bert-large-cased-finetuned-conll03-english were not used when initializing BertForTokenClassification: ['bert.pooler.dense.bias', 'bert.pooler.dense.weight']\n",
      "- This IS expected if you are initializing BertForTokenClassification from the checkpoint of a model trained on another task or with another architecture (e.g. initializing a BertForSequenceClassification model from a BertForPreTraining model).\n",
      "- This IS NOT expected if you are initializing BertForTokenClassification from the checkpoint of a model that you expect to be exactly identical (initializing a BertForSequenceClassification model from a BertForSequenceClassification model).\n",
      "Hardware accelerator e.g. GPU is available in the environment, but no `device` argument is passed to the `Pipeline` object. Model will be on CPU.\n"
     ]
    },
    {
     "name": "stdout",
     "output_type": "stream",
     "text": [
      "\n",
      "Given sentence: The only way this works is if [NAME] is doing the Bird Box challenge and cant see the terms of the contract.\n",
      "Named Entity REcognition Results with default model: [{'entity_group': 'ORG', 'score': 0.9922839, 'word': 'NAME', 'start': 31, 'end': 35}, {'entity_group': 'MISC', 'score': 0.942708, 'word': 'Bird Box', 'start': 50, 'end': 58}]\n"
     ]
    },
    {
     "data": {
      "application/vnd.jupyter.widget-view+json": {
       "model_id": "81fa8d5cbef04b089a1885791ffb91cf",
       "version_major": 2,
       "version_minor": 0
      },
      "text/plain": [
       "config.json:   0%|          | 0.00/829 [00:00<?, ?B/s]"
      ]
     },
     "metadata": {},
     "output_type": "display_data"
    },
    {
     "data": {
      "application/vnd.jupyter.widget-view+json": {
       "model_id": "5c2ff1982ab14563b23f1e76f01db8b3",
       "version_major": 2,
       "version_minor": 0
      },
      "text/plain": [
       "model.safetensors:   0%|          | 0.00/433M [00:00<?, ?B/s]"
      ]
     },
     "metadata": {},
     "output_type": "display_data"
    },
    {
     "name": "stderr",
     "output_type": "stream",
     "text": [
      "Some weights of the model checkpoint at dslim/bert-base-NER were not used when initializing BertForTokenClassification: ['bert.pooler.dense.bias', 'bert.pooler.dense.weight']\n",
      "- This IS expected if you are initializing BertForTokenClassification from the checkpoint of a model trained on another task or with another architecture (e.g. initializing a BertForSequenceClassification model from a BertForPreTraining model).\n",
      "- This IS NOT expected if you are initializing BertForTokenClassification from the checkpoint of a model that you expect to be exactly identical (initializing a BertForSequenceClassification model from a BertForSequenceClassification model).\n"
     ]
    },
    {
     "data": {
      "application/vnd.jupyter.widget-view+json": {
       "model_id": "14651af04bbc404fa873ab1118121afe",
       "version_major": 2,
       "version_minor": 0
      },
      "text/plain": [
       "tokenizer_config.json:   0%|          | 0.00/59.0 [00:00<?, ?B/s]"
      ]
     },
     "metadata": {},
     "output_type": "display_data"
    },
    {
     "data": {
      "application/vnd.jupyter.widget-view+json": {
       "model_id": "edaf9252c40c4d97a8f8416dde0244b8",
       "version_major": 2,
       "version_minor": 0
      },
      "text/plain": [
       "vocab.txt:   0%|          | 0.00/213k [00:00<?, ?B/s]"
      ]
     },
     "metadata": {},
     "output_type": "display_data"
    },
    {
     "data": {
      "application/vnd.jupyter.widget-view+json": {
       "model_id": "2ed085c157fd404387d170a2ef1de07b",
       "version_major": 2,
       "version_minor": 0
      },
      "text/plain": [
       "added_tokens.json:   0%|          | 0.00/2.00 [00:00<?, ?B/s]"
      ]
     },
     "metadata": {},
     "output_type": "display_data"
    },
    {
     "data": {
      "application/vnd.jupyter.widget-view+json": {
       "model_id": "8340b5d159bf4567b6f5989ff7f0cae6",
       "version_major": 2,
       "version_minor": 0
      },
      "text/plain": [
       "special_tokens_map.json:   0%|          | 0.00/112 [00:00<?, ?B/s]"
      ]
     },
     "metadata": {},
     "output_type": "display_data"
    },
    {
     "name": "stderr",
     "output_type": "stream",
     "text": [
      "Hardware accelerator e.g. GPU is available in the environment, but no `device` argument is passed to the `Pipeline` object. Model will be on CPU.\n"
     ]
    },
    {
     "name": "stdout",
     "output_type": "stream",
     "text": [
      "\n",
      "Named Entity REcognition Results with with dslim/bert-base-NER: [{'entity_group': 'ORG', 'score': 0.839247, 'word': 'NAME', 'start': 31, 'end': 35}, {'entity_group': 'ORG', 'score': 0.66656935, 'word': 'Bird Box', 'start': 50, 'end': 58}]\n"
     ]
    }
   ],
   "source": [
    "ner_pipeline = pipeline(\"ner\", grouped_entities=True)\n",
    "# demo_sentence = \"Barack Obama was born in Hawaii and became the President of the United States.\"\n",
    "demo_sentence = train_df['text'].sample(1, random_state=42).tolist()[0]\n",
    "ner_results = ner_pipeline(demo_sentence)\n",
    "print()\n",
    "print(\"Given sentence:\", demo_sentence)\n",
    "print(\"Named Entity REcognition Results with default model:\", ner_results)\n",
    "model_name = \"dslim/bert-base-NER\"\n",
    "ner_pipeline = pipeline(\"ner\", model_name, grouped_entities=True)\n",
    "ner_results = ner_pipeline(demo_sentence)\n",
    "print(f\"\\nNamed Entity REcognition Results with with {model_name}:\", ner_results)"
   ]
  },
  {
   "cell_type": "markdown",
   "metadata": {},
   "source": [
    "## 8. Question Answering"
   ]
  },
  {
   "cell_type": "code",
   "execution_count": 17,
   "metadata": {},
   "outputs": [
    {
     "name": "stderr",
     "output_type": "stream",
     "text": [
      "No model was supplied, defaulted to distilbert/distilbert-base-cased-distilled-squad and revision 564e9b5 (https://huggingface.co/distilbert/distilbert-base-cased-distilled-squad).\n",
      "Using a pipeline without specifying a model name and revision in production is not recommended.\n",
      "Hardware accelerator e.g. GPU is available in the environment, but no `device` argument is passed to the `Pipeline` object. Model will be on CPU.\n"
     ]
    },
    {
     "name": "stdout",
     "output_type": "stream",
     "text": [
      "\n",
      "Question: Where is Hugging Face Inc. based?\n",
      "Answer: New York City | Score: 0.9869067668914795\n"
     ]
    }
   ],
   "source": [
    "qa_pipeline = pipeline(\"question-answering\")\n",
    "\n",
    "context = \"\"\"Hugging Face Inc. is a company based in New York City.\\n\\\n",
    "It is famous for its transformers library that provides \\n\\\n",
    "state-of-the-art machine learning models.\"\"\"\n",
    "\n",
    "question = \"Where is Hugging Face Inc. based?\"\n",
    "qa_result = qa_pipeline(question=question, context=context)\n",
    "print()\n",
    "print(\"Question:\", question)\n",
    "print(\"Answer:\", qa_result['answer'], \"| Score:\", qa_result['score'])"
   ]
  },
  {
   "cell_type": "markdown",
   "metadata": {},
   "source": [
    "## 9. Topic Modeling with LDA\n",
    "We'll use a **CountVectorizer** and **LatentDirichletAllocation** on a subset of the data to discover topics."
   ]
  },
  {
   "cell_type": "code",
   "execution_count": 18,
   "metadata": {},
   "outputs": [
    {
     "name": "stdout",
     "output_type": "stream",
     "text": [
      "Topic 0: time great sounds wow damn people just hope really like\n",
      "Topic 1: just thanks feel really like ve thank people think don\n",
      "Topic 2: happy man thanks luck work did nice bad years good\n",
      "Topic 3: little comment yeah oh yes know ll right lol love\n",
      "Topic 4: game lol fucking going got don hate love great just\n"
     ]
    }
   ],
   "source": [
    "# Use a subset for demonstration\n",
    "small_corpus = train_df['text'].sample(2000, random_state=42).tolist()\n",
    "\n",
    "count_vec = CountVectorizer(max_df=0.95, min_df=2, stop_words='english')\n",
    "X_counts = count_vec.fit_transform(small_corpus)\n",
    "\n",
    "lda = LatentDirichletAllocation(n_components=5, random_state=42)\n",
    "lda.fit(X_counts)\n",
    "\n",
    "# feature_names = count_vec.get_feature_names_out()\n",
    "feature_names = count_vec.get_feature_names()\n",
    "\n",
    "def display_topics(model, feature_names, num_top_words=10):\n",
    "    for idx, topic in enumerate(model.components_):\n",
    "        top_features_idx = topic.argsort()[-num_top_words:]\n",
    "        top_features = [feature_names[i] for i in top_features_idx]\n",
    "        print(f\"Topic {idx}: {' '.join(top_features)}\")\n",
    "\n",
    "display_topics(lda, feature_names)"
   ]
  },
  {
   "cell_type": "markdown",
   "metadata": {},
   "source": [
    "## 10. Word2Vec (CBOW/Skip-gram)\n",
    "Train a small model or load a pretrained one, then compute **word similarity** and **sentence similarity**, plus a **t-SNE** visualization."
   ]
  },
  {
   "cell_type": "markdown",
   "id": "a5abb84c",
   "metadata": {},
   "source": [
    "### 10.1 Word Similarity:"
   ]
  },
  {
   "cell_type": "code",
   "execution_count": 19,
   "metadata": {},
   "outputs": [
    {
     "name": "stdout",
     "output_type": "stream",
     "text": [
      "Most similar words to 'happy':\n",
      "your: 0.9993\n",
      "been: 0.9992\n",
      "enough: 0.9992\n",
      "need: 0.9991\n",
      "work: 0.9991\n"
     ]
    }
   ],
   "source": [
    "# Sample a subset for training a small Word2Vec model\n",
    "train_corpus = [nltk.word_tokenize(t.lower()) for t in train_df['text'].sample(5000, random_state=42)]\n",
    "\n",
    "# Train Word2Vec (CBOW if sg=0)\n",
    "w2v_model = Word2Vec(sentences=train_corpus, vector_size=100, window=5, min_count=2, workers=4, sg=0)\n",
    "\n",
    "# Example: most similar to \"happy\"\n",
    "if \"happy\" in w2v_model.wv:\n",
    "    similar_to_happy = w2v_model.wv.most_similar(\"happy\", topn=5)\n",
    "    print(\"Most similar words to 'happy':\")\n",
    "    for word, score in similar_to_happy:\n",
    "        print(f\"{word}: {score:.4f}\")\n",
    "else:\n",
    "    print(\"'happy' not in vocabulary.\")"
   ]
  },
  {
   "cell_type": "markdown",
   "id": "14816b60",
   "metadata": {},
   "source": [
    "### 10.2 Sentence Similarity:"
   ]
  },
  {
   "cell_type": "code",
   "execution_count": 22,
   "metadata": {},
   "outputs": [
    {
     "name": "stdout",
     "output_type": "stream",
     "text": [
      "Sentence 1: I am very happy today!\n",
      "Sentence 2: What a wonderful day!\n",
      "Similarity between them: 0.9993\n"
     ]
    }
   ],
   "source": [
    "def sentence_embedding(sentence, model):\n",
    "    tokens = nltk.word_tokenize(sentence.lower())\n",
    "    vecs = []\n",
    "    for w in tokens:\n",
    "        if w in model.wv:\n",
    "            vecs.append(model.wv[w])\n",
    "    if len(vecs) == 0:\n",
    "        return np.zeros(model.vector_size)\n",
    "    return np.mean(vecs, axis=0)\n",
    "\n",
    "def cosine_similarity(v1, v2):\n",
    "    dot = np.dot(v1, v2)\n",
    "    norm1 = np.linalg.norm(v1)\n",
    "    norm2 = np.linalg.norm(v2)\n",
    "    return dot / (norm1 * norm2)\n",
    "\n",
    "s1 = \"I am very happy today!\"\n",
    "s2 = \"What a wonderful day!\"\n",
    "v1 = sentence_embedding(s1, w2v_model)\n",
    "v2 = sentence_embedding(s2, w2v_model)\n",
    "print(f\"Sentence 1: {s1}\")\n",
    "print(f\"Sentence 2: {s2}\")\n",
    "print(f\"Similarity between them: {cosine_similarity(v1, v2):.4f}\")\n",
    "print()\n",
    "s1 = \"I am very happy today!\"\n",
    "s2 = \"What a wonderful day!\"\n",
    "v1 = sentence_embedding(s1, w2v_model)\n",
    "v2 = sentence_embedding(s2, w2v_model)\n",
    "print(f\"Sentence 1: {s1}\")\n",
    "print(f\"Sentence 2: {s2}\")\n",
    "print(f\"Similarity between them: {cosine_similarity(v1, v2):.4f}\")"
   ]
  },
  {
   "cell_type": "markdown",
   "id": "1afffb1d",
   "metadata": {},
   "source": [
    "#### 10.2.1 SQL Query two distinct sentences and then find sentence similarity:"
   ]
  },
  {
   "cell_type": "code",
   "execution_count": 27,
   "id": "f6ebca98",
   "metadata": {},
   "outputs": [
    {
     "name": "stdout",
     "output_type": "stream",
     "text": [
      "query for finding two distinct sentences: \n",
      "SELECT text \n",
      "FROM emotions \n",
      "LIMIT 2;\n",
      "\n",
      "Sentence 1: My favourite food is anything I didn't have to cook myself.\n",
      "Sentence 2: Now if he does off himself, everyone will think hes having a laugh screwing with people instead of actually dead\n",
      "Similarity between them: 0.9997\n"
     ]
    }
   ],
   "source": [
    "\"\"\" Query two distinct sentences from the dataset (e.g., from 'emotions' table in the SQLite db).\n",
    "    Let's assume we still have 'conn' for  SQLite connection and 'w2v_model' already trained.\n",
    "\"\"\"\n",
    "\n",
    "query = \"\"\"\n",
    "SELECT text \n",
    "FROM emotions \n",
    "LIMIT 2;\n",
    "\"\"\"\n",
    "response_df = pd.read_sql_query(query, conn)\n",
    "\n",
    "# 2) Extract those two sentences\n",
    "s1 = response_df.loc[0, 'text']\n",
    "s2 = response_df.loc[1, 'text']\n",
    "\n",
    "# 3) Embed and calculate similarity\n",
    "v1 = sentence_embedding(s1, w2v_model)\n",
    "v2 = sentence_embedding(s2, w2v_model)\n",
    "\n",
    "print(f\"query for finding two distinct sentences: {query}\")\n",
    "print(f\"Sentence 1: {s1}\")\n",
    "print(f\"Sentence 2: {s2}\")\n",
    "print(f\"Similarity between them: {cosine_similarity(v1, v2):.4f}\")\n"
   ]
  },
  {
   "cell_type": "markdown",
   "id": "4ed5d36a",
   "metadata": {},
   "source": [
    "### 10.3 t-SNE visualization of some selected words:"
   ]
  },
  {
   "cell_type": "code",
   "execution_count": 28,
   "metadata": {},
   "outputs": [
    {
     "data": {
      "image/png": "[encoded data removed]",
      "text/plain": [
       "<Figure size 800x600 with 1 Axes>"
      ]
     },
     "metadata": {},
     "output_type": "display_data"
    }
   ],
   "source": [
    "# t-SNE visualization of some selected words\n",
    "from sklearn.manifold import TSNE\n",
    "\n",
    "words_to_plot = [\"happy\", \"sad\", \"angry\", \"love\", \"hate\", \"excited\", \"joy\", \"bored\"]\n",
    "available_words = [w for w in words_to_plot if w in w2v_model.wv]\n",
    "\n",
    "if len(available_words) < 2:\n",
    "    print(\"Not enough words in vocabulary for visualization.\")\n",
    "else:\n",
    "    word_vectors = [w2v_model.wv[w] for w in available_words]\n",
    "    tsne = TSNE(n_components=2, random_state=42)\n",
    "    embeds_2d = tsne.fit_transform(word_vectors)\n",
    "\n",
    "    plt.figure(figsize=(8,6))\n",
    "    for i, word in enumerate(available_words):\n",
    "        x, y = embeds_2d[i,0], embeds_2d[i,1]\n",
    "        plt.scatter(x, y, marker='o')\n",
    "        plt.text(x+0.01, y+0.01, word, fontsize=12)\n",
    "    plt.title(\"t-SNE visualization of selected word embeddings\")\n",
    "    plt.show()"
   ]
  },
  {
   "cell_type": "code",
   "execution_count": 29,
   "id": "aac2138e",
   "metadata": {},
   "outputs": [],
   "source": [
    "# Close the database connection\n",
    "conn.close()"
   ]
  },
  {
   "cell_type": "markdown",
   "id": "628f8a68",
   "metadata": {},
   "source": [
    "# 11. Conclusion\n",
    "In this notebook We have:\n",
    "1. Explored GoEmotions data with **SQL** and visualizations.\n",
    "2. Demonstrated **preprocessing** (stemming, lemmatization, normalization, HTML removal, regex pattern search).\n",
    "3. Shown a **subset** and **tokenized** texts.\n",
    "4. Built **multi-label classification** models using **Logistic Regression** (scikit-learn) and **Keras** (LSTM).\n",
    "5. Demonstrated **sentiment analysis**, **NER**, and **QA** with pretrained **Transformers pipelines**.\n",
    "6. Performed **topic modeling** (LDA).\n",
    "7. Showed **Word2Vec** training and embeddings for word/sentence similarity and 2D visualization.\n"
   ]
  },
  {
   "cell_type": "markdown",
   "id": "8574c616",
   "metadata": {},
   "source": [
    "# 12. References:\n",
    "\n",
    "- https://github.com/tatsath/fin-ml/blob/master/Chapter%2010%20-%20Natural%20Language%20Processing/NLP-MasterTemplate.ipynb\n",
    "\n",
    "- https://github.com/TirendazAcademy/Hugging-Face-Tutorials/blob/main/Emotion-Analysis-with-Hugging-Face.ipynb\n",
    "\n",
    "- https://github.com/odenipinedo/Python/blob/master/datacamp/introduction%20to%20natural%20language%20processing%20in%20Python.ipynb\n",
    "\n",
    "- https://github.com/emrulk1/AI-ML-Data-Science-Practice/blob/main/Natural_Language_Processing/nlp_libraries.ipynb\n",
    "\n",
    "- https://cocalc.com/github/YStrano/DataScience_GA/blob/master/lessons/lesson_13/natural-language-processing%20NLP%20(done).ipynb\n",
    "\n",
    "- https://github.com/emrulk1/AI-ML-Data-Science-Practice/blob/main/MSCSE_Coursework/Machine_Learning/StackOverflow_Question_Tag_classification.ipynb\n",
    "\n",
    "- https://github.com/emrulk1/AI-ML-Data-Science-Practice/blob/main/Natural_Language_Processing/Text_Preprocessing_and_Vectorization/Text_Preprocessing.ipynb"
   ]
  }
 ],
 "metadata": {
  "kernelspec": {
   "display_name": "ml_dl_env",
   "language": "python",
   "name": "python3"
  },
  "language_info": {
   "codemirror_mode": {
    "name": "ipython",
    "version": 3
   },
   "file_extension": ".py",
   "mimetype": "text/x-python",
   "name": "python",
   "nbconvert_exporter": "python",
   "pygments_lexer": "ipython3",
   "version": "3.8.20"
  }
 },
 "nbformat": 4,
 "nbformat_minor": 5
}
