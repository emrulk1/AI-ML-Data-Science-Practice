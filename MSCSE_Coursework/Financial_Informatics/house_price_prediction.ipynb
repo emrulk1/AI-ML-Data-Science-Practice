{
  "nbformat": 4,
  "nbformat_minor": 0,
  "metadata": {
    "colab": {
      "name": "house_price_prediction.ipynb",
      "provenance": [],
      "collapsed_sections": []
    },
    "kernelspec": {
      "name": "python3",
      "display_name": "Python 3"
    }
  },
  "cells": [
    {
      "cell_type": "code",
      "metadata": {
        "id": "Erhwzx_ZiPg8"
      },
      "source": [
        "import pandas as pd\n",
        "import numpy as np\n",
        "import matplotlib.pyplot as plt\n",
        "import seaborn as sns\n",
        "\n",
        "%matplotlib inline\n"
      ],
      "execution_count": null,
      "outputs": []
    },
    {
      "cell_type": "code",
      "metadata": {
        "id": "hs3c_uEMqANr"
      },
      "source": [
        "from sklearn.datasets import load_boston\n",
        "dataset = load_boston()"
      ],
      "execution_count": null,
      "outputs": []
    },
    {
      "cell_type": "code",
      "metadata": {
        "id": "Dti3KHrJqj94",
        "colab": {
          "base_uri": "https://localhost:8080/"
        },
        "outputId": "1891cb45-309b-4cb9-e531-328349040574"
      },
      "source": [
        "print(\"features shape : {}\".format(dataset.data.shape))\n",
        "print(\"target shape   : {}\\n\".format(dataset.target.shape))\n",
        "\n",
        "print(\"feature names\")\n",
        "print(dataset.feature_names)\n"
      ],
      "execution_count": null,
      "outputs": [
        {
          "output_type": "stream",
          "text": [
            "features shape : (506, 13)\n",
            "target shape   : (506,)\n",
            "\n",
            "feature names\n",
            "['CRIM' 'ZN' 'INDUS' 'CHAS' 'NOX' 'RM' 'AGE' 'DIS' 'RAD' 'TAX' 'PTRATIO'\n",
            " 'B' 'LSTAT']\n"
          ],
          "name": "stdout"
        }
      ]
    },
    {
      "cell_type": "code",
      "metadata": {
        "id": "sWJ2VwFIq_ND",
        "colab": {
          "base_uri": "https://localhost:8080/"
        },
        "outputId": "43f5ba91-6389-4483-e3d5-cd900f8e09b3"
      },
      "source": [
        "print(\"[INFO] dataset summary\")\n",
        "print(dataset.DESCR)"
      ],
      "execution_count": null,
      "outputs": [
        {
          "output_type": "stream",
          "text": [
            "[INFO] dataset summary\n",
            ".. _boston_dataset:\n",
            "\n",
            "Boston house prices dataset\n",
            "---------------------------\n",
            "\n",
            "**Data Set Characteristics:**  \n",
            "\n",
            "    :Number of Instances: 506 \n",
            "\n",
            "    :Number of Attributes: 13 numeric/categorical predictive. Median Value (attribute 14) is usually the target.\n",
            "\n",
            "    :Attribute Information (in order):\n",
            "        - CRIM     per capita crime rate by town\n",
            "        - ZN       proportion of residential land zoned for lots over 25,000 sq.ft.\n",
            "        - INDUS    proportion of non-retail business acres per town\n",
            "        - CHAS     Charles River dummy variable (= 1 if tract bounds river; 0 otherwise)\n",
            "        - NOX      nitric oxides concentration (parts per 10 million)\n",
            "        - RM       average number of rooms per dwelling\n",
            "        - AGE      proportion of owner-occupied units built prior to 1940\n",
            "        - DIS      weighted distances to five Boston employment centres\n",
            "        - RAD      index of accessibility to radial highways\n",
            "        - TAX      full-value property-tax rate per $10,000\n",
            "        - PTRATIO  pupil-teacher ratio by town\n",
            "        - B        1000(Bk - 0.63)^2 where Bk is the proportion of blacks by town\n",
            "        - LSTAT    % lower status of the population\n",
            "        - MEDV     Median value of owner-occupied homes in $1000's\n",
            "\n",
            "    :Missing Attribute Values: None\n",
            "\n",
            "    :Creator: Harrison, D. and Rubinfeld, D.L.\n",
            "\n",
            "This is a copy of UCI ML housing dataset.\n",
            "https://archive.ics.uci.edu/ml/machine-learning-databases/housing/\n",
            "\n",
            "\n",
            "This dataset was taken from the StatLib library which is maintained at Carnegie Mellon University.\n",
            "\n",
            "The Boston house-price data of Harrison, D. and Rubinfeld, D.L. 'Hedonic\n",
            "prices and the demand for clean air', J. Environ. Economics & Management,\n",
            "vol.5, 81-102, 1978.   Used in Belsley, Kuh & Welsch, 'Regression diagnostics\n",
            "...', Wiley, 1980.   N.B. Various transformations are used in the table on\n",
            "pages 244-261 of the latter.\n",
            "\n",
            "The Boston house-price data has been used in many machine learning papers that address regression\n",
            "problems.   \n",
            "     \n",
            ".. topic:: References\n",
            "\n",
            "   - Belsley, Kuh & Welsch, 'Regression diagnostics: Identifying Influential Data and Sources of Collinearity', Wiley, 1980. 244-261.\n",
            "   - Quinlan,R. (1993). Combining Instance-Based and Model-Based Learning. In Proceedings on the Tenth International Conference of Machine Learning, 236-243, University of Massachusetts, Amherst. Morgan Kaufmann.\n",
            "\n"
          ],
          "name": "stdout"
        }
      ]
    },
    {
      "cell_type": "code",
      "metadata": {
        "id": "_mcd-YQvrMbm",
        "colab": {
          "base_uri": "https://localhost:8080/"
        },
        "outputId": "e750b3d4-b964-420b-d199-3f8ce3fabf0c"
      },
      "source": [
        "df = pd.DataFrame(dataset.data)\n",
        "#print(\"[INFO] df type : {}\".format(type(df)))\n",
        "print(\"[INFO] df shape: {}\\n\".format(df.shape))\n",
        "\n",
        "print(df.dtypes)\n",
        "print(\"\")\n",
        "\n",
        "df.columns = dataset.feature_names\n",
        "print(df.head())"
      ],
      "execution_count": null,
      "outputs": [
        {
          "output_type": "stream",
          "text": [
            "[INFO] df shape: (506, 13)\n",
            "\n",
            "0     float64\n",
            "1     float64\n",
            "2     float64\n",
            "3     float64\n",
            "4     float64\n",
            "5     float64\n",
            "6     float64\n",
            "7     float64\n",
            "8     float64\n",
            "9     float64\n",
            "10    float64\n",
            "11    float64\n",
            "12    float64\n",
            "dtype: object\n",
            "\n",
            "      CRIM    ZN  INDUS  CHAS    NOX  ...  RAD    TAX  PTRATIO       B  LSTAT\n",
            "0  0.00632  18.0   2.31   0.0  0.538  ...  1.0  296.0     15.3  396.90   4.98\n",
            "1  0.02731   0.0   7.07   0.0  0.469  ...  2.0  242.0     17.8  396.90   9.14\n",
            "2  0.02729   0.0   7.07   0.0  0.469  ...  2.0  242.0     17.8  392.83   4.03\n",
            "3  0.03237   0.0   2.18   0.0  0.458  ...  3.0  222.0     18.7  394.63   2.94\n",
            "4  0.06905   0.0   2.18   0.0  0.458  ...  3.0  222.0     18.7  396.90   5.33\n",
            "\n",
            "[5 rows x 13 columns]\n"
          ],
          "name": "stdout"
        }
      ]
    },
    {
      "cell_type": "code",
      "metadata": {
        "id": "3zLNYYJoryBE"
      },
      "source": [
        "df[\"PRICE\"] = dataset.target\n"
      ],
      "execution_count": null,
      "outputs": []
    },
    {
      "cell_type": "code",
      "metadata": {
        "id": "mVu1R46IrbXq",
        "colab": {
          "base_uri": "https://localhost:8080/"
        },
        "outputId": "33a82bdc-660a-48ed-9741-a86be6c1527d"
      },
      "source": [
        "#ow, we will understand the statistical summary of the dataset using the describe() function. \n",
        "print(df.describe())"
      ],
      "execution_count": null,
      "outputs": [
        {
          "output_type": "stream",
          "text": [
            "             CRIM          ZN       INDUS  ...           B       LSTAT       PRICE\n",
            "count  506.000000  506.000000  506.000000  ...  506.000000  506.000000  506.000000\n",
            "mean     3.613524   11.363636   11.136779  ...  356.674032   12.653063   22.532806\n",
            "std      8.601545   23.322453    6.860353  ...   91.294864    7.141062    9.197104\n",
            "min      0.006320    0.000000    0.460000  ...    0.320000    1.730000    5.000000\n",
            "25%      0.082045    0.000000    5.190000  ...  375.377500    6.950000   17.025000\n",
            "50%      0.256510    0.000000    9.690000  ...  391.440000   11.360000   21.200000\n",
            "75%      3.677083   12.500000   18.100000  ...  396.225000   16.955000   25.000000\n",
            "max     88.976200  100.000000   27.740000  ...  396.900000   37.970000   50.000000\n",
            "\n",
            "[8 rows x 14 columns]\n"
          ],
          "name": "stdout"
        }
      ]
    },
    {
      "cell_type": "markdown",
      "metadata": {
        "id": "EZMkqkKTs6-i"
      },
      "source": [
        "Finding correlation between attributes is a highly useful way to check for patterns in the dataset\n"
      ]
    },
    {
      "cell_type": "code",
      "metadata": {
        "id": "PybaQw6ys9sO",
        "colab": {
          "base_uri": "https://localhost:8080/",
          "height": 631
        },
        "outputId": "98ac3dc3-bcd6-438e-9463-6ae0b81d2e57"
      },
      "source": [
        "# correlation between attributes\n",
        "print(\"PEARSON CORRELATION\")\n",
        "print(df.corr(method=\"pearson\"))\n",
        "sns.heatmap(df.corr(method=\"pearson\"))\n"
      ],
      "execution_count": null,
      "outputs": [
        {
          "output_type": "stream",
          "text": [
            "PEARSON CORRELATION\n",
            "             CRIM        ZN     INDUS  ...         B     LSTAT     PRICE\n",
            "CRIM     1.000000 -0.200469  0.406583  ... -0.385064  0.455621 -0.388305\n",
            "ZN      -0.200469  1.000000 -0.533828  ...  0.175520 -0.412995  0.360445\n",
            "INDUS    0.406583 -0.533828  1.000000  ... -0.356977  0.603800 -0.483725\n",
            "CHAS    -0.055892 -0.042697  0.062938  ...  0.048788 -0.053929  0.175260\n",
            "NOX      0.420972 -0.516604  0.763651  ... -0.380051  0.590879 -0.427321\n",
            "RM      -0.219247  0.311991 -0.391676  ...  0.128069 -0.613808  0.695360\n",
            "AGE      0.352734 -0.569537  0.644779  ... -0.273534  0.602339 -0.376955\n",
            "DIS     -0.379670  0.664408 -0.708027  ...  0.291512 -0.496996  0.249929\n",
            "RAD      0.625505 -0.311948  0.595129  ... -0.444413  0.488676 -0.381626\n",
            "TAX      0.582764 -0.314563  0.720760  ... -0.441808  0.543993 -0.468536\n",
            "PTRATIO  0.289946 -0.391679  0.383248  ... -0.177383  0.374044 -0.507787\n",
            "B       -0.385064  0.175520 -0.356977  ...  1.000000 -0.366087  0.333461\n",
            "LSTAT    0.455621 -0.412995  0.603800  ... -0.366087  1.000000 -0.737663\n",
            "PRICE   -0.388305  0.360445 -0.483725  ...  0.333461 -0.737663  1.000000\n",
            "\n",
            "[14 rows x 14 columns]\n"
          ],
          "name": "stdout"
        },
        {
          "output_type": "execute_result",
          "data": {
            "text/plain": [
              "<matplotlib.axes._subplots.AxesSubplot at 0x7f9ba201bf28>"
            ]
          },
          "metadata": {
            "tags": []
          },
          "execution_count": 37
        },
        {
          "output_type": "display_data",
          "data": {
            "image/png": "[encoded data removed]",
            "text/plain": [
              "<Figure size 432x288 with 2 Axes>"
            ]
          },
          "metadata": {
            "tags": [],
            "needs_background": "light"
          }
        }
      ]
    },
    {
      "cell_type": "code",
      "metadata": {
        "id": "wHn6zQaktbaV",
        "colab": {
          "base_uri": "https://localhost:8080/",
          "height": 631
        },
        "outputId": "2afdf32b-208c-41ab-cd46-72ec118fc726"
      },
      "source": [
        "print(\"SPEARMAN CORRELATION\")\n",
        "print(df.corr(method=\"spearman\"))\n",
        "sns.heatmap(df.corr(method=\"spearman\"))\n"
      ],
      "execution_count": null,
      "outputs": [
        {
          "output_type": "stream",
          "text": [
            "SPEARMAN CORRELATION\n",
            "             CRIM        ZN     INDUS  ...         B     LSTAT     PRICE\n",
            "CRIM     1.000000 -0.571660  0.735524  ... -0.360555  0.634760 -0.558891\n",
            "ZN      -0.571660  1.000000 -0.642811  ...  0.163135 -0.490074  0.438179\n",
            "INDUS    0.735524 -0.642811  1.000000  ... -0.285840  0.638747 -0.578255\n",
            "CHAS     0.041537 -0.041937  0.089841  ... -0.039810 -0.050575  0.140612\n",
            "NOX      0.821465 -0.634828  0.791189  ... -0.296662  0.636828 -0.562609\n",
            "RM      -0.309116  0.361074 -0.415301  ...  0.053660 -0.640832  0.633576\n",
            "AGE      0.704140 -0.544423  0.679487  ... -0.228022  0.657071 -0.547562\n",
            "DIS     -0.744986  0.614627 -0.757080  ...  0.249595 -0.564262  0.445857\n",
            "RAD      0.727807 -0.278767  0.455507  ... -0.282533  0.394322 -0.346776\n",
            "TAX      0.729045 -0.371394  0.664361  ... -0.329843  0.534423 -0.562411\n",
            "PTRATIO  0.465283 -0.448475  0.433710  ... -0.072027  0.467259 -0.555905\n",
            "B       -0.360555  0.163135 -0.285840  ...  1.000000 -0.210562  0.185664\n",
            "LSTAT    0.634760 -0.490074  0.638747  ... -0.210562  1.000000 -0.852914\n",
            "PRICE   -0.558891  0.438179 -0.578255  ...  0.185664 -0.852914  1.000000\n",
            "\n",
            "[14 rows x 14 columns]\n"
          ],
          "name": "stdout"
        },
        {
          "output_type": "execute_result",
          "data": {
            "text/plain": [
              "<matplotlib.axes._subplots.AxesSubplot at 0x7f9ba2021470>"
            ]
          },
          "metadata": {
            "tags": []
          },
          "execution_count": 38
        },
        {
          "output_type": "display_data",
          "data": {
            "image/png": "[encoded data removed]",
            "text/plain": [
              "<Figure size 432x288 with 2 Axes>"
            ]
          },
          "metadata": {
            "tags": [],
            "needs_background": "light"
          }
        }
      ]
    },
    {
      "cell_type": "code",
      "metadata": {
        "id": "bJue7IGAthUv",
        "colab": {
          "base_uri": "https://localhost:8080/",
          "height": 631
        },
        "outputId": "a4f5e9c4-ba90-4e96-bc51-f1acb638bd35"
      },
      "source": [
        "print(\"KENDALL CORRELATION\")\n",
        "print(df.corr(method=\"kendall\"))\n",
        "sns.heatmap(df.corr(method=\"kendall\"))"
      ],
      "execution_count": null,
      "outputs": [
        {
          "output_type": "stream",
          "text": [
            "KENDALL CORRELATION\n",
            "             CRIM        ZN     INDUS  ...         B     LSTAT     PRICE\n",
            "CRIM     1.000000 -0.462057  0.521014  ... -0.264378  0.454837 -0.403964\n",
            "ZN      -0.462057  1.000000 -0.535468  ...  0.128177 -0.386818  0.339989\n",
            "INDUS    0.521014 -0.535468  1.000000  ... -0.192017  0.465980 -0.418430\n",
            "CHAS     0.033948 -0.039419  0.075889  ... -0.033277 -0.041344  0.115202\n",
            "NOX      0.603361 -0.511464  0.612030  ... -0.202430  0.452005 -0.394995\n",
            "RM      -0.211718  0.278134 -0.291318  ...  0.032951 -0.468231  0.482829\n",
            "AGE      0.497297 -0.429389  0.489070  ... -0.154056  0.485359 -0.387758\n",
            "DIS     -0.539878  0.478524 -0.565137  ...  0.168631 -0.409347  0.313115\n",
            "RAD      0.563969 -0.234663  0.353967  ... -0.214364  0.287943 -0.248115\n",
            "TAX      0.544956 -0.289911  0.483228  ... -0.241606  0.384191 -0.414650\n",
            "PTRATIO  0.312768 -0.361607  0.336612  ... -0.042152  0.330335 -0.398789\n",
            "B       -0.264378  0.128177 -0.192017  ...  1.000000 -0.145430  0.126955\n",
            "LSTAT    0.454837 -0.386818  0.465980  ... -0.145430  1.000000 -0.668656\n",
            "PRICE   -0.403964  0.339989 -0.418430  ...  0.126955 -0.668656  1.000000\n",
            "\n",
            "[14 rows x 14 columns]\n"
          ],
          "name": "stdout"
        },
        {
          "output_type": "execute_result",
          "data": {
            "text/plain": [
              "<matplotlib.axes._subplots.AxesSubplot at 0x7f9ba1e53d30>"
            ]
          },
          "metadata": {
            "tags": []
          },
          "execution_count": 39
        },
        {
          "output_type": "display_data",
          "data": {
            "image/png": "[encoded data removed]",
            "text/plain": [
              "<Figure size 432x288 with 2 Axes>"
            ]
          },
          "metadata": {
            "tags": [],
            "needs_background": "light"
          }
        }
      ]
    },
    {
      "cell_type": "code",
      "metadata": {
        "id": "nioTLrSnuDE3",
        "colab": {
          "base_uri": "https://localhost:8080/"
        },
        "outputId": "c39a1c71-28cc-47fc-d4c0-7769ee4d3f86"
      },
      "source": [
        "print(pd.isnull(df).any())"
      ],
      "execution_count": null,
      "outputs": [
        {
          "output_type": "stream",
          "text": [
            "CRIM       False\n",
            "ZN         False\n",
            "INDUS      False\n",
            "CHAS       False\n",
            "NOX        False\n",
            "RM         False\n",
            "AGE        False\n",
            "DIS        False\n",
            "RAD        False\n",
            "TAX        False\n",
            "PTRATIO    False\n",
            "B          False\n",
            "LSTAT      False\n",
            "PRICE      False\n",
            "dtype: bool\n"
          ],
          "name": "stdout"
        }
      ]
    },
    {
      "cell_type": "code",
      "metadata": {
        "id": "V5_ctMxg29Wp",
        "colab": {
          "base_uri": "https://localhost:8080/"
        },
        "outputId": "eb9e8878-4975-4513-df55-2bb759955323"
      },
      "source": [
        "X = df.drop(\"PRICE\", axis=1)\n",
        "Y = df[\"PRICE\"]\n",
        "print(X.shape)\n",
        "print(Y.shape)"
      ],
      "execution_count": null,
      "outputs": [
        {
          "output_type": "stream",
          "text": [
            "(506, 13)\n",
            "(506,)\n"
          ],
          "name": "stdout"
        }
      ]
    },
    {
      "cell_type": "code",
      "metadata": {
        "id": "LH3krk2R3Frs"
      },
      "source": [
        "from sklearn.preprocessing import StandardScaler, MinMaxScaler\n",
        "scaler = MinMaxScaler().fit(X)\n",
        "scaled_X = scaler.transform(X)"
      ],
      "execution_count": null,
      "outputs": []
    },
    {
      "cell_type": "code",
      "metadata": {
        "id": "XSlqi6sp3ML8",
        "colab": {
          "base_uri": "https://localhost:8080/"
        },
        "outputId": "41fe1ed7-4ec9-4fb7-d951-7f8164e6f7a0"
      },
      "source": [
        "from sklearn.model_selection import train_test_split\n",
        "\n",
        "seed      = 9\n",
        "test_size = 0.20\n",
        "\n",
        "X_train, X_test, Y_train, Y_test = train_test_split(scaled_X, Y, test_size = test_size, random_state = seed)\n",
        "\n",
        "print(\"X_train : \",X_train.shape)\n",
        "print(\"X_test : \",X_test.shape)\n",
        "print(\"Y_train : \", Y_train.shape)\n",
        "print(\"Y_test : \",Y_test.shape)\n",
        "\n"
      ],
      "execution_count": null,
      "outputs": [
        {
          "output_type": "stream",
          "text": [
            "X_train :  (404, 13)\n",
            "X_test :  (102, 13)\n",
            "Y_train :  (404,)\n",
            "Y_test :  (102,)\n"
          ],
          "name": "stdout"
        }
      ]
    },
    {
      "cell_type": "code",
      "metadata": {
        "id": "bnIYlzuX39wL",
        "colab": {
          "base_uri": "https://localhost:8080/"
        },
        "outputId": "dc826e10-ade8-4944-ce75-d661eb5bbd64"
      },
      "source": [
        "from sklearn.model_selection import KFold\n",
        "from sklearn.model_selection import cross_val_score\n",
        "from sklearn.linear_model import LinearRegression, Lasso\n",
        "from sklearn.tree import DecisionTreeRegressor\n",
        "from sklearn.neighbors import KNeighborsRegressor\n",
        "from sklearn.svm import SVR\n",
        "from sklearn.ensemble import GradientBoostingRegressor\n",
        "from sklearn.ensemble import RandomForestRegressor\n",
        "from sklearn.metrics import mean_squared_error as MSE\n",
        "\n",
        "# user variables to tune\n",
        "folds   = 10\n",
        "metric  = \"neg_mean_squared_error\"\n",
        "\n",
        "# hold different regression models in a single dictionary\n",
        "models = {}\n",
        "models[\"Linear\"]        = LinearRegression()\n",
        "models[\"Lasso\"]         = Lasso()\n",
        "models[\"KNN\"]           = KNeighborsRegressor()\n",
        "models[\"DecisionTree\"]  = DecisionTreeRegressor()\n",
        "models[\"SVR\"]           = SVR()\n",
        "models[\"GradientBoost\"] = GradientBoostingRegressor()\n",
        "models[\"RandomForest\"]  = RandomForestRegressor()\n",
        "\n",
        "# 10-fold cross validation for each model\n",
        "model_results = []\n",
        "model_names   = []\n",
        "for model_name in models:\n",
        "\tmodel   = models[model_name]\n",
        "\tk_fold  = KFold(n_splits=folds, random_state=seed)\n",
        "\tresults = cross_val_score(model, X_train, Y_train, cv=k_fold, scoring=metric)\n",
        "\t\n",
        "\tmodel_results.append(results)\n",
        "\tmodel_names.append(model_name)\n",
        "\n",
        "\tprint(\"{}: {}, {}\".format(model_name, round(results.mean(), 3), round(results.std(), 3)))"
      ],
      "execution_count": null,
      "outputs": [
        {
          "output_type": "stream",
          "text": [
            "/usr/local/lib/python3.6/dist-packages/sklearn/model_selection/_split.py:296: FutureWarning: Setting a random_state has no effect since shuffle is False. This will raise an error in 0.24. You should leave random_state to its default (None), or set shuffle=True.\n",
            "  FutureWarning\n",
            "/usr/local/lib/python3.6/dist-packages/sklearn/model_selection/_split.py:296: FutureWarning: Setting a random_state has no effect since shuffle is False. This will raise an error in 0.24. You should leave random_state to its default (None), or set shuffle=True.\n",
            "  FutureWarning\n",
            "/usr/local/lib/python3.6/dist-packages/sklearn/model_selection/_split.py:296: FutureWarning: Setting a random_state has no effect since shuffle is False. This will raise an error in 0.24. You should leave random_state to its default (None), or set shuffle=True.\n",
            "  FutureWarning\n",
            "/usr/local/lib/python3.6/dist-packages/sklearn/model_selection/_split.py:296: FutureWarning: Setting a random_state has no effect since shuffle is False. This will raise an error in 0.24. You should leave random_state to its default (None), or set shuffle=True.\n",
            "  FutureWarning\n",
            "/usr/local/lib/python3.6/dist-packages/sklearn/model_selection/_split.py:296: FutureWarning: Setting a random_state has no effect since shuffle is False. This will raise an error in 0.24. You should leave random_state to its default (None), or set shuffle=True.\n",
            "  FutureWarning\n"
          ],
          "name": "stderr"
        },
        {
          "output_type": "stream",
          "text": [
            "Linear: -23.794, 12.358\n",
            "Lasso: -63.82, 20.646\n",
            "KNN: -26.366, 16.169\n",
            "DecisionTree: -24.605, 13.22\n",
            "SVR: -34.845, 17.408\n"
          ],
          "name": "stdout"
        },
        {
          "output_type": "stream",
          "text": [
            "/usr/local/lib/python3.6/dist-packages/sklearn/model_selection/_split.py:296: FutureWarning: Setting a random_state has no effect since shuffle is False. This will raise an error in 0.24. You should leave random_state to its default (None), or set shuffle=True.\n",
            "  FutureWarning\n"
          ],
          "name": "stderr"
        },
        {
          "output_type": "stream",
          "text": [
            "GradientBoost: -10.291, 5.446\n"
          ],
          "name": "stdout"
        },
        {
          "output_type": "stream",
          "text": [
            "/usr/local/lib/python3.6/dist-packages/sklearn/model_selection/_split.py:296: FutureWarning: Setting a random_state has no effect since shuffle is False. This will raise an error in 0.24. You should leave random_state to its default (None), or set shuffle=True.\n",
            "  FutureWarning\n"
          ],
          "name": "stderr"
        },
        {
          "output_type": "stream",
          "text": [
            "RandomForest: -12.643, 7.05\n"
          ],
          "name": "stdout"
        }
      ]
    },
    {
      "cell_type": "code",
      "metadata": {
        "id": "02xTUPvd_I-y",
        "colab": {
          "base_uri": "https://localhost:8080/"
        },
        "outputId": "3277a4a5-0e01-4a03-c11a-f0a94207da07"
      },
      "source": [
        "accuracy_score = []\n",
        "mse = []\n",
        "for model_name in models:\n",
        "    models[model_name].fit(X_train, Y_train)\n",
        "    Y_pred = models[model_name].predict(X_test)\n",
        "    accuracy_score.append(round(models[model_name].score(X_train, Y_train),3))\n",
        "    mse.append(round(MSE(Y_test, Y_pred), 3) )\n",
        "    print(model_name, \" : \", round(models[model_name].score(X_train, Y_train),3))\n",
        "\n"
      ],
      "execution_count": null,
      "outputs": [
        {
          "output_type": "stream",
          "text": [
            "Linear  :  0.731\n",
            "Lasso  :  0.216\n",
            "KNN  :  0.798\n",
            "DecisionTree  :  1.0\n",
            "SVR  :  0.605\n",
            "GradientBoost  :  0.978\n",
            "RandomForest  :  0.98\n"
          ],
          "name": "stdout"
        }
      ]
    },
    {
      "cell_type": "code",
      "metadata": {
        "id": "e5iNZ7RgEHgz",
        "colab": {
          "base_uri": "https://localhost:8080/",
          "height": 374
        },
        "outputId": "208e482f-b4df-4127-dda9-00bb8ccae1a0"
      },
      "source": [
        "plt.figure()\n",
        "plotdata = pd.DataFrame(accuracy_score, index=model_names)\n",
        "# Plot a bar chart\n",
        "plotdata.plot(kind=\"bar\")\n",
        "plt.xlabel('model name')\n",
        "plt.ylabel('accuracy score')\n",
        "plt.title(\"Accuracy Scores\")\n",
        "plt.show()"
      ],
      "execution_count": null,
      "outputs": [
        {
          "output_type": "display_data",
          "data": {
            "text/plain": [
              "<Figure size 432x288 with 0 Axes>"
            ]
          },
          "metadata": {
            "tags": []
          }
        },
        {
          "output_type": "display_data",
          "data": {
            "image/png": "[encoded data removed]",
            "text/plain": [
              "<Figure size 432x288 with 1 Axes>"
            ]
          },
          "metadata": {
            "tags": [],
            "needs_background": "light"
          }
        }
      ]
    },
    {
      "cell_type": "code",
      "metadata": {
        "id": "5zHo2uEvJHug",
        "colab": {
          "base_uri": "https://localhost:8080/",
          "height": 374
        },
        "outputId": "5148c262-ce9f-46f7-b01f-8990714bec35"
      },
      "source": [
        "plt.figure()\n",
        "plotdata = pd.DataFrame(mse, index=model_names)\n",
        "# Plot a bar chart\n",
        "plotdata.plot(kind=\"bar\")\n",
        "plt.title(\"Mean Squared Error\")\n",
        "plt.xlabel('model name')\n",
        "plt.ylabel('MSE')\n",
        "plt.show()"
      ],
      "execution_count": null,
      "outputs": [
        {
          "output_type": "display_data",
          "data": {
            "text/plain": [
              "<Figure size 432x288 with 0 Axes>"
            ]
          },
          "metadata": {
            "tags": []
          }
        },
        {
          "output_type": "display_data",
          "data": {
            "image/png": "[encoded data removed]",
            "text/plain": [
              "<Figure size 432x288 with 1 Axes>"
            ]
          },
          "metadata": {
            "tags": [],
            "needs_background": "light"
          }
        }
      ]
    },
    {
      "cell_type": "code",
      "metadata": {
        "id": "3joJmUHmXGzk",
        "colab": {
          "base_uri": "https://localhost:8080/"
        },
        "outputId": "aaf69b30-7502-47b6-ea4a-e4bff4bb168b"
      },
      "source": [
        "print(accuracy_score)\n",
        "print(mse)"
      ],
      "execution_count": null,
      "outputs": [
        {
          "output_type": "stream",
          "text": [
            "[0.731, 0.216, 0.798, 1.0, 0.605, 0.978, 0.98]\n",
            "[23.677, 80.077, 21.541, 18.265, 39.583, 10.304, 12.175]\n"
          ],
          "name": "stdout"
        }
      ]
    }
  ]
}