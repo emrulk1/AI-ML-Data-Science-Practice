{
  "cells": [
    {
      "cell_type": "code",
      "execution_count": null,
      "metadata": {
        "colab": {
          "base_uri": "https://localhost:8080/",
          "height": 74
        },
        "id": "ED01EukbgCVR",
        "outputId": "b2e2f5fc-d2a5-499a-9f3e-da262961dbb6"
      },
      "outputs": [
        {
          "name": "stderr",
          "output_type": "stream",
          "text": [
            "/usr/local/lib/python3.6/dist-packages/statsmodels/tools/_testing.py:19: FutureWarning: pandas.util.testing is deprecated. Use the functions in the public API at pandas.testing instead.\n",
            "  import pandas.util.testing as tm\n"
          ]
        }
      ],
      "source": [
        "#imporing necessery modules\n",
        "import numpy as np\n",
        "import pandas as pd\n",
        "import seaborn as sns\n",
        "import matplotlib.pyplot as plt\n",
        "\n",
        "from sklearn.linear_model import LinearRegression\n",
        "from sklearn.model_selection import train_test_split\n",
        "from sklearn.ensemble import RandomForestRegressor\n",
        "from sklearn.metrics import r2_score , mean_squared_error, mean_absolute_error"
      ]
    },
    {
      "cell_type": "markdown",
      "metadata": {
        "id": "KHkhZvuBD0L2"
      },
      "source": [
        "# New Section"
      ]
    },
    {
      "cell_type": "code",
      "execution_count": null,
      "metadata": {
        "colab": {
          "base_uri": "https://localhost:8080/",
          "height": 35
        },
        "id": "RrxUHmOxgRTf",
        "outputId": "6d00e2ae-6cef-4bf8-e08a-b70492a066da"
      },
      "outputs": [
        {
          "name": "stdout",
          "output_type": "stream",
          "text": [
            "Mounted at /content/drive\n"
          ]
        }
      ],
      "source": [
        "from google.colab import drive\n",
        "drive.mount(\"/content/drive\")"
      ]
    },
    {
      "cell_type": "code",
      "execution_count": null,
      "metadata": {
        "colab": {
          "base_uri": "https://localhost:8080/",
          "height": 1000
        },
        "id": "kUUgjEFPgczp",
        "outputId": "830cf24e-539f-4e20-8049-e8d87c3b5d95"
      },
      "outputs": [
        {
          "name": "stdout",
          "output_type": "stream",
          "text": [
            "                 SUBDIVISION  YEAR   JAN  ...  Mar-May  Jun-Sep  Oct-Dec\n",
            "0  ANDAMAN & NICOBAR ISLANDS  1901  49.2  ...    560.3   1696.3    980.3\n",
            "1  ANDAMAN & NICOBAR ISLANDS  1902   0.0  ...    458.3   2185.9    716.7\n",
            "2  ANDAMAN & NICOBAR ISLANDS  1903  12.7  ...    236.1   1874.0    690.6\n",
            "3  ANDAMAN & NICOBAR ISLANDS  1904   9.4  ...    506.9   1977.6    571.0\n",
            "4  ANDAMAN & NICOBAR ISLANDS  1905   1.3  ...    309.7   1624.9    630.8\n",
            "\n",
            "[5 rows x 19 columns]\n",
            "Null values in dataset before preprocessing :\n",
            "SUBDIVISION     0\n",
            "YEAR            0\n",
            "JAN             4\n",
            "FEB             3\n",
            "MAR             6\n",
            "APR             4\n",
            "MAY             3\n",
            "JUN             5\n",
            "JUL             7\n",
            "AUG             4\n",
            "SEP             6\n",
            "OCT             7\n",
            "NOV            11\n",
            "DEC            10\n",
            "ANNUAL         26\n",
            "Jan-Feb         6\n",
            "Mar-May         9\n",
            "Jun-Sep        10\n",
            "Oct-Dec        13\n",
            "dtype: int64\n",
            "\n",
            "Filling null values with mean of that particular column\n",
            "Mean of data :\n",
            "YEAR       1958.218659\n",
            "JAN          18.957320\n",
            "FEB          21.805325\n",
            "MAR          27.359197\n",
            "APR          43.127432\n",
            "MAY          85.745417\n",
            "JUN         230.234444\n",
            "JUL         347.214334\n",
            "AUG         290.263497\n",
            "SEP         197.361922\n",
            "OCT          95.507009\n",
            "NOV          39.866163\n",
            "DEC          18.870580\n",
            "ANNUAL     1411.008900\n",
            "Jan-Feb      40.747786\n",
            "Mar-May     155.901753\n",
            "Jun-Sep    1064.724769\n",
            "Oct-Dec     154.100487\n",
            "dtype: float64\n",
            "\n",
            "Null values in dataset after preprocessing :\n",
            "SUBDIVISION    0\n",
            "YEAR           0\n",
            "JAN            0\n",
            "FEB            0\n",
            "MAR            0\n",
            "APR            0\n",
            "MAY            0\n",
            "JUN            0\n",
            "JUL            0\n",
            "AUG            0\n",
            "SEP            0\n",
            "OCT            0\n",
            "NOV            0\n",
            "DEC            0\n",
            "ANNUAL         0\n",
            "Jan-Feb        0\n",
            "Mar-May        0\n",
            "Jun-Sep        0\n",
            "Oct-Dec        0\n",
            "dtype: int64\n",
            "\n",
            "\n",
            "Shape of data:  (4116, 19)\n"
          ]
        }
      ],
      "source": [
        "filePath = '/content/drive/My Drive/Rainfall_Predict/rainfall_india/rainfall in india 1901-2015.csv'\n",
        "data = pd.read_csv(filePath)\n",
        "print(data.head())\n",
        "#print(data.columns)\n",
        "\n",
        "print(\"Null values in dataset before preprocessing :\")\n",
        "print(data.isnull().sum())\n",
        "print(\"\")\n",
        "\n",
        "print(\"Filling null values with mean of that particular column\")\n",
        "data=data.fillna(np.mean(data))\n",
        "print(\"Mean of data :\")\n",
        "print(np.mean(data))\n",
        "print(\"\")\n",
        "\n",
        "print(\"Null values in dataset after preprocessing :\")\n",
        "print(data.isnull().sum())\n",
        "print(\"\\n\\nShape of data: \",data.shape)\n",
        "\n"
      ]
    },
    {
      "cell_type": "code",
      "execution_count": null,
      "metadata": {
        "colab": {
          "base_uri": "https://localhost:8080/",
          "height": 1000
        },
        "id": "jn1vsFYalExm",
        "outputId": "4891e927-920c-4c44-9fc2-66dd14218c03"
      },
      "outputs": [
        {
          "name": "stdout",
          "output_type": "stream",
          "text": [
            "Understanding the dataset :\n",
            "\n",
            "<class 'pandas.core.frame.DataFrame'>\n",
            "RangeIndex: 4116 entries, 0 to 4115\n",
            "Data columns (total 19 columns):\n",
            " #   Column       Non-Null Count  Dtype  \n",
            "---  ------       --------------  -----  \n",
            " 0   SUBDIVISION  4116 non-null   object \n",
            " 1   YEAR         4116 non-null   int64  \n",
            " 2   JAN          4116 non-null   float64\n",
            " 3   FEB          4116 non-null   float64\n",
            " 4   MAR          4116 non-null   float64\n",
            " 5   APR          4116 non-null   float64\n",
            " 6   MAY          4116 non-null   float64\n",
            " 7   JUN          4116 non-null   float64\n",
            " 8   JUL          4116 non-null   float64\n",
            " 9   AUG          4116 non-null   float64\n",
            " 10  SEP          4116 non-null   float64\n",
            " 11  OCT          4116 non-null   float64\n",
            " 12  NOV          4116 non-null   float64\n",
            " 13  DEC          4116 non-null   float64\n",
            " 14  ANNUAL       4116 non-null   float64\n",
            " 15  Jan-Feb      4116 non-null   float64\n",
            " 16  Mar-May      4116 non-null   float64\n",
            " 17  Jun-Sep      4116 non-null   float64\n",
            " 18  Oct-Dec      4116 non-null   float64\n",
            "dtypes: float64(17), int64(1), object(1)\n",
            "memory usage: 611.1+ KB\n",
            "None\n",
            "\n",
            "Group data by subdivision:\n",
            "\n",
            "Co-Variance :\n",
            "                 YEAR          JAN  ...        Jun-Sep       Oct-Dec\n",
            "YEAR     1098.319127   -62.525455  ...    -220.389375    -56.011703\n",
            "JAN       -62.525455  1126.880700  ...    -537.708253    507.405040\n",
            "FEB       -26.333846   549.299548  ...    1291.239831    130.324910\n",
            "MAR        31.608776   627.375837  ...    5354.542547    702.446620\n",
            "APR        17.985597   475.344306  ...   18800.990715   3611.891111\n",
            "MAY        14.668989   535.377197  ...   43086.245286  10689.487044\n",
            "JUN      -105.646427  -265.334667  ...  147777.656772  15929.294431\n",
            "JUL      -144.815256  -465.128448  ...  172787.647754   8543.095960\n",
            "AUG        40.268753    75.536029  ...  111996.536530   4889.354198\n",
            "SEP       -29.893921   110.216877  ...   67119.849971   7199.381976\n",
            "OCT         7.922814    41.252990  ...   29204.838323  14283.355731\n",
            "NOV       -42.624271   154.517515  ...    6116.134359   9219.400872\n",
            "DEC       -26.804831   311.215537  ...    1265.311019   4279.018309\n",
            "ANNUAL   -239.492392  3182.200682  ...  598334.762240  79154.756536\n",
            "Jan-Feb   -87.619668  1675.112786  ...     756.357901    630.248247\n",
            "Mar-May    70.841300  1632.972340  ...   66774.885424  14946.235220\n",
            "Jun-Sep  -220.389375  -537.708253  ...  499680.824907  36465.214924\n",
            "Oct-Dec   -56.011703   507.405040  ...   36465.214924  27781.806104\n",
            "\n",
            "[18 rows x 18 columns]\n",
            "Co-Relation :\n",
            "              YEAR       JAN       FEB  ...   Mar-May   Jun-Sep   Oct-Dec\n",
            "YEAR     1.000000 -0.056202 -0.022136  ...  0.010630 -0.009408 -0.010140\n",
            "JAN     -0.056202  1.000000  0.455847  ...  0.241899 -0.022660  0.090685\n",
            "FEB     -0.022136  0.455847  1.000000  ...  0.381608  0.050887  0.021782\n",
            "MAR      0.020325  0.398275  0.578410  ...  0.641975  0.161425  0.089811\n",
            "APR      0.008005  0.208858  0.366564  ...  0.861953  0.392298  0.319622\n",
            "MAY      0.003593  0.129463  0.202766  ...  0.913500  0.494785  0.520597\n",
            "JUN     -0.013590 -0.033697  0.033658  ...  0.536289  0.891237  0.407425\n",
            "JUL     -0.016225 -0.051449  0.016191  ...  0.312482  0.907639  0.190319\n",
            "AUG      0.006440  0.011926  0.072109  ...  0.317891  0.839722  0.155471\n",
            "SEP     -0.006666  0.024265  0.079993  ...  0.468689  0.701740  0.319217\n",
            "OCT      0.002404  0.012359 -0.004574  ...  0.466282  0.415501  0.861813\n",
            "NOV     -0.018750  0.067105 -0.023288  ...  0.270758  0.126138  0.806379\n",
            "DEC     -0.019113  0.219077  0.132250  ...  0.226786  0.042298  0.606649\n",
            "ANNUAL  -0.008021  0.105213  0.180311  ...  0.691419  0.939463  0.527082\n",
            "Jan-Feb -0.044611  0.841989  0.863589  ...  0.367937  0.018054  0.063802\n",
            "Mar-May  0.010630  0.241899  0.381608  ...  1.000000  0.469745  0.445909\n",
            "Jun-Sep -0.009408 -0.022660  0.050887  ...  0.469745  1.000000  0.309494\n",
            "Oct-Dec -0.010140  0.090685  0.021782  ...  0.445909  0.309494  1.000000\n",
            "\n",
            "[18 rows x 18 columns]\n",
            "Index of correlation columns: Index(['ANNUAL', 'Jun-Sep', 'JUN', 'JUL', 'AUG', 'SEP', 'MAY', 'Mar-May',\n",
            "       'OCT', 'APR', 'Oct-Dec', 'MAR', 'NOV', 'DEC', 'FEB', 'Jan-Feb', 'JAN',\n",
            "       'YEAR'],\n",
            "      dtype='object')\n"
          ]
        }
      ],
      "source": [
        "print(\"Understanding the dataset :\\n\")\n",
        "print(data.info())\n",
        "print(\"\")\n",
        "\n",
        "print(\"Group data by subdivision:\\n\")\n",
        "data.groupby('SUBDIVISION').size()\n",
        "\n",
        "print(\"Co-Variance :\\n\",data.cov())\n",
        "print(\"Co-Relation :\\n\",data.corr())\n",
        "\n",
        "corr_cols=data.corr()['ANNUAL'].sort_values()[::-1]\n",
        "print(\"Index of correlation columns:\",corr_cols.index)\n",
        "\n"
      ]
    },
    {
      "cell_type": "code",
      "execution_count": null,
      "metadata": {
        "colab": {
          "base_uri": "https://localhost:8080/",
          "height": 302
        },
        "id": "3bXc5Y7loT3d",
        "outputId": "442be7b2-bb60-4984-ba56-9706da8c0777"
      },
      "outputs": [
        {
          "name": "stdout",
          "output_type": "stream",
          "text": [
            "Scatter plot of annual and january attributes\n"
          ]
        },
        {
          "data": {
            "text/plain": [
              "<matplotlib.collections.PathCollection at 0x7f0e2118dbe0>"
            ]
          },
          "execution_count": 6,
          "metadata": {
            "tags": []
          },
          "output_type": "execute_result"
        },
        {
          "data": {
            "image/png": "[encoded data removed]",
            "text/plain": [
              "<Figure size 432x288 with 1 Axes>"
            ]
          },
          "metadata": {
            "needs_background": "light",
            "tags": []
          },
          "output_type": "display_data"
        }
      ],
      "source": [
        "print(\"Scatter plot of annual and january attributes\")\n",
        "plt.scatter(data.ANNUAL,data.JAN)"
      ]
    },
    {
      "cell_type": "code",
      "execution_count": null,
      "metadata": {
        "colab": {
          "base_uri": "https://localhost:8080/",
          "height": 302
        },
        "id": "skYTYvyvok9Z",
        "outputId": "591c4920-a32e-4ef0-8c4d-2002a8b1dcc4"
      },
      "outputs": [
        {
          "name": "stdout",
          "output_type": "stream",
          "text": [
            "Box Plot of annual rainfall data in years 1901-2015\n"
          ]
        },
        {
          "data": {
            "text/plain": [
              "<matplotlib.axes._subplots.AxesSubplot at 0x7f0e2123d048>"
            ]
          },
          "execution_count": 7,
          "metadata": {
            "tags": []
          },
          "output_type": "execute_result"
        },
        {
          "data": {
            "image/png": "[encoded data removed]",
            "text/plain": [
              "<Figure size 432x288 with 1 Axes>"
            ]
          },
          "metadata": {
            "needs_background": "light",
            "tags": []
          },
          "output_type": "display_data"
        }
      ],
      "source": [
        "\n",
        "print(\"Box Plot of annual rainfall data in years 1901-2015\")\n",
        "data['ANNUAL'].plot(kind='box',sharex=False,sharey=False)"
      ]
    },
    {
      "cell_type": "markdown",
      "metadata": {
        "id": "a8nL6ZWAnJre"
      },
      "source": [
        "# New Section"
      ]
    },
    {
      "cell_type": "code",
      "execution_count": null,
      "metadata": {
        "colab": {
          "base_uri": "https://localhost:8080/",
          "height": 283
        },
        "id": "_j3-5YJgop3X",
        "outputId": "05189730-be95-44a1-815a-a4136f6287a6"
      },
      "outputs": [
        {
          "name": "stdout",
          "output_type": "stream",
          "text": [
            "Histograms showing the data from attributes (JANUARY to DECEMBER) of the years 1901-2015:\n"
          ]
        },
        {
          "data": {
            "image/png": "[encoded data removed]",
            "text/plain": [
              "<Figure size 432x288 with 1 Axes>"
            ]
          },
          "metadata": {
            "needs_background": "light",
            "tags": []
          },
          "output_type": "display_data"
        }
      ],
      "source": [
        "month = ['JAN' , 'FEB', 'MAR', 'APR', 'MAY', 'JUN', 'JUL', 'AUG', 'SEP', 'OCT', 'NOV', 'DEC']\n",
        "\n",
        "# for i in range(12):\n",
        "#     print(month[i], \"\")\n",
        "\n",
        "print(\"Histograms showing the data from attributes (JANUARY to DECEMBER) of the years 1901-2015:\")\n",
        "\n",
        "for i in range(12):\n",
        "    data[month[i]].hist(bins=10)"
      ]
    },
    {
      "cell_type": "code",
      "execution_count": null,
      "metadata": {
        "colab": {
          "base_uri": "https://localhost:8080/",
          "height": 302
        },
        "id": "Q0ErO9nUqrr7",
        "outputId": "b171d0ad-2543-4ad0-a2de-f769052e1d1d"
      },
      "outputs": [
        {
          "name": "stdout",
          "output_type": "stream",
          "text": [
            "Histogram showing the annual rainfall of the all states:\n"
          ]
        },
        {
          "data": {
            "text/plain": [
              "<matplotlib.axes._subplots.AxesSubplot at 0x7f0e20addf60>"
            ]
          },
          "execution_count": 9,
          "metadata": {
            "tags": []
          },
          "output_type": "execute_result"
        },
        {
          "data": {
            "image/png": "[encoded data removed]",
            "text/plain": [
              "<Figure size 432x288 with 1 Axes>"
            ]
          },
          "metadata": {
            "needs_background": "light",
            "tags": []
          },
          "output_type": "display_data"
        }
      ],
      "source": [
        "print(\"Histogram showing the annual rainfall of the all states:\")\n",
        "data['ANNUAL'].hist(bins=20)"
      ]
    },
    {
      "cell_type": "code",
      "execution_count": null,
      "metadata": {
        "colab": {
          "base_uri": "https://localhost:8080/",
          "height": 1000
        },
        "id": "LORdyBMj_mnj",
        "outputId": "4738944b-c536-434d-ea4e-6a403473a508"
      },
      "outputs": [
        {
          "name": "stdout",
          "output_type": "stream",
          "text": [
            "Multiple Linear regression model between annual rainfall and the periodic rainfall:\n",
            "Intercept :  12.201188343547301\n",
            "coeeficients:\n",
            " [0.92765219 0.9740892  0.98846825 1.01416244]\n",
            "predicted y value :\n",
            " [ 818.72918293 1047.16621832 1271.31385053 ...  435.60665911  709.94185334\n",
            " 1240.17501331]\n",
            "\n",
            "Test data (input) :\n",
            "       Jan-Feb  Mar-May  Jun-Sep  Oct-Dec\n",
            "3452     90.2    125.5    303.2    296.7\n",
            "1708    295.4    340.2    416.3     17.8\n",
            "576      25.5    213.5    847.0    187.6\n",
            "3835      0.1     75.2    890.3    203.7\n",
            "491       7.4    326.6   2596.9     62.0\n",
            "...       ...      ...      ...      ...\n",
            "980      62.5     78.1   1265.8     19.9\n",
            "3111     32.9    147.1    571.6    471.1\n",
            "1476     93.3     27.0    303.2     10.7\n",
            "1158      4.2     20.1    665.1     16.6\n",
            "2859     19.6     20.7   1191.4     11.8\n",
            "\n",
            "[1647 rows x 4 columns]\n",
            "Test data (output):\n",
            " 3452     815.6\n",
            "1708    1069.6\n",
            "576     1273.6\n",
            "3835    1169.4\n",
            "491     2992.9\n",
            "         ...  \n",
            "980     1426.2\n",
            "3111    1222.7\n",
            "1476     434.3\n",
            "1158     706.0\n",
            "2859    1243.4\n",
            "Name: ANNUAL, Length: 1647, dtype: float64\n",
            "\n",
            "comparison between actual and predicted Rainfall(mm) (in ascending order) : \n",
            "\n",
            "      Actual   Predicted\n",
            "1918    92.4  103.476031\n",
            "2478    92.7  103.895741\n",
            "2409   117.6  128.378299\n",
            "1855   137.4  146.358734\n",
            "1831   147.2  156.648951\n",
            "1907   179.0  188.729028\n",
            "2430   179.4  189.130468\n",
            "1867   179.8  189.877673\n",
            "1888   185.9  195.825787\n",
            "1818   195.6  205.428276\n",
            "\n",
            "      Actual    Predicted\n",
            "141   4369.1  4316.893374\n",
            "119   4439.8  4379.430051\n",
            "118   4450.5  4401.221185\n",
            "113   4693.9  4661.231759\n",
            "149   5063.5  5012.411764\n",
            "121   5253.2  5194.318820\n",
            "122   5272.7  5226.019298\n",
            "3602  5553.9  5500.791952\n",
            "132   6129.0  6046.677837\n",
            "142   6331.1  6241.517675\n",
            "\n",
            "Mean Squared Error = 4517.3227773922745\n",
            "Root Mean Squared Error = 67.21103166439475\n",
            "Mean Absolute Error = 13.037617289019183\n",
            "r2_score = 0.9945566863312397\n",
            "\n"
          ]
        },
        {
          "data": {
            "image/png": "[encoded data removed]",
            "text/plain": [
              "<Figure size 432x288 with 1 Axes>"
            ]
          },
          "metadata": {
            "needs_background": "light",
            "tags": []
          },
          "output_type": "display_data"
        }
      ],
      "source": [
        "print(\"Multiple Linear regression model between annual rainfall and the periodic rainfall:\")\n",
        "\n",
        "model = LinearRegression()\n",
        "X = data[['Jan-Feb', 'Mar-May', 'Jun-Sep', 'Oct-Dec']]\n",
        "Y = data['ANNUAL']\n",
        "X_train, X_test, Y_train, Y_test = train_test_split(X, Y, test_size=0.4, random_state=0)\n",
        "model.fit(X_train, Y_train)\n",
        "y_pred= model.predict(X_test)\n",
        "score = model.score(X_test,Y_test)\n",
        "\n",
        "print(\"Intercept : \", model.intercept_)\n",
        "print(\"coeeficients:\\n\", model.coef_)\n",
        "print(\"predicted y value :\\n\", y_pred)\n",
        "print(\"\")\n",
        "\n",
        "\n",
        "print(\"Test data (input) :\\n\", X_test)\n",
        "print(\"Test data (output):\\n\", Y_test)\n",
        "#print(score)\n",
        "print(\"\")\n",
        "\n",
        "comparison_table = pd.DataFrame({'Actual': Y_test, 'Predicted': y_pred})\n",
        "# sort comparison_table  ascending order of Y_test\n",
        "comparison_table.sort_values(by=['Actual'], inplace=True)\n",
        "\n",
        "print(\"comparison between actual and predicted Rainfall(mm) (in ascending order) : \\n\")\n",
        "print(comparison_table.head(10))\n",
        "print(\"\")\n",
        "\n",
        "print(comparison_table.tail(10))\n",
        "print(\"\")\n",
        "\n",
        "print(\"Mean Squared Error =\",mean_squared_error(Y_test,y_pred))\n",
        "print(\"Root Mean Squared Error =\",np.sqrt(mean_squared_error(Y_test,y_pred)))\n",
        "print(\"Mean Absolute Error =\",mean_absolute_error(Y_test,y_pred))\n",
        "print(\"r2_score =\",r2_score(Y_test,y_pred))\n",
        "print(\"\")\n",
        "plt.scatter(y_pred ,Y_test)\n",
        "plt.xlabel('TRAIN_X')\n",
        "plt.ylabel('TRAIN_Y')\n",
        "plt.show()\n"
      ]
    },
    {
      "cell_type": "code",
      "execution_count": null,
      "metadata": {
        "colab": {
          "base_uri": "https://localhost:8080/",
          "height": 697
        },
        "id": "ZI8UvyVTrWvB",
        "outputId": "3ba9f4ae-5ebe-495c-95d4-78afbe305676"
      },
      "outputs": [
        {
          "name": "stdout",
          "output_type": "stream",
          "text": [
            "Months are:  ['JAN', 'FEB', 'MAR', 'APR', 'MAY', 'JUN', 'JUL', 'AUG', 'SEP', 'OCT', 'NOV', 'DEC']\n",
            "    JAN    FEB   MAR    APR    MAY  ...    AUG    SEP    OCT    NOV    DEC\n",
            "0  49.2   87.1  29.2    2.3  528.8  ...  481.1  332.6  388.5  558.2   33.6\n",
            "1   0.0  159.8  12.2    0.0  446.1  ...  753.7  666.2  197.2  359.0  160.5\n",
            "2  12.7  144.0   0.0    1.0  235.1  ...  326.7  339.0  181.2  284.4  225.0\n",
            "3   9.4   14.7   0.0  202.4  304.5  ...  160.1  820.4  222.2  308.7   40.1\n",
            "4   1.3    0.0   3.3   26.9  279.5  ...  330.5  297.0  260.7   25.4  344.7\n",
            "\n",
            "[5 rows x 12 columns]\n",
            "JAN      72.6\n",
            "FEB     405.6\n",
            "MAR      44.7\n",
            "APR     232.6\n",
            "MAY    1794.0\n",
            "JUN    2658.3\n",
            "JUL    2193.1\n",
            "AUG    2052.1\n",
            "SEP    2455.2\n",
            "OCT    1249.8\n",
            "NOV    1535.7\n",
            "DEC     803.9\n",
            "dtype: float64\n",
            "Total recorded rainfall in these 12 months 5829542.827152476\n",
            "Ranfall probability in  JAN :  1.2e-05\n",
            "Ranfall probability in  FEB :  7e-05\n",
            "Ranfall probability in  MAR :  8e-06\n",
            "Ranfall probability in  APR :  4e-05\n",
            "Ranfall probability in  MAY :  0.000308\n",
            "Ranfall probability in  JUN :  0.000456\n",
            "Ranfall probability in  JUL :  0.000376\n",
            "Ranfall probability in  AUG :  0.000352\n",
            "Ranfall probability in  SEP :  0.000421\n",
            "Ranfall probability in  OCT :  0.000214\n",
            "Ranfall probability in  NOV :  0.000263\n",
            "Ranfall probability in  DEC :  0.000138\n",
            "Maximum Rainfall will be in the month of JUN\n",
            "Minimum Rainfall will be in the month of MAR\n"
          ]
        }
      ],
      "source": [
        "d2=data.drop(['SUBDIVISION','YEAR','ANNUAL','Jan-Feb','Mar-May','Jun-Sep','Oct-Dec'],axis=1)\n",
        "k=((d2.head().sum()))\n",
        "month=list(d2.head())\n",
        "print(\"Months are: \",month)\n",
        "print(d2.head())\n",
        "print(k)\n",
        "\n",
        "total_rainfall=0\n",
        "for value in d2.sum():\n",
        "    total_rainfall = total_rainfall+value\n",
        "\n",
        "print(\"Total recorded rainfall in these 12 months\",total_rainfall)\n",
        "#print(\"\")\n",
        "\n",
        "probability = list(k/total_rainfall)\n",
        "\n",
        "for i in range(len(probability)):\n",
        "    print(\"Ranfall probability in \", month[i], \": \" , round(probability[i],6))\n",
        "\n",
        "max_rainfall=max(probability)\n",
        "\n",
        "for i in range(len(month)):\n",
        "    if probability[i]== max_rainfall:\n",
        "        print(\"Maximum Rainfall will be in the month of\",month[i])\n",
        "\n",
        "min_rainfall=min(probability)\n",
        "for i in range(len(month)):\n",
        "    if probability[i]==min_rainfall:\n",
        "        print(\"Minimum Rainfall will be in the month of\",month[i])"
      ]
    },
    {
      "cell_type": "code",
      "execution_count": null,
      "metadata": {
        "id": "5ZNtQ8BjAB1h"
      },
      "outputs": [],
      "source": [
        "from math import sqrt\n",
        "from math import pi\n",
        "from math import exp\n",
        "\n",
        "def Gaussian_Naive_Bayes(x, x_given):\n",
        "    x_m = sum(x)/len(x)\n",
        "    print(x_m)\n",
        "    sigma_sqr = 0;\n",
        "\n",
        "    for i in range(len(x)):\n",
        "        sigma_sqr += (x[i] - x_m)**2\n",
        "    sigma_sqr/=(len(x)-1)\n",
        "    print(sigma_sqr)\n",
        "\n",
        "    ans = 1.0/sqrt(2.0*pi*sigma_sqr)*exp(-((x_given-x_m)**2)/(2.0*sigma_sqr))\n",
        "    return ans"
      ]
    },
    {
      "cell_type": "code",
      "execution_count": null,
      "metadata": {
        "colab": {
          "base_uri": "https://localhost:8080/"
        },
        "id": "1dpBbUa_Maaq",
        "outputId": "a8be72f5-4035-4851-d21a-721e98e5aeaa"
      },
      "outputs": [
        {
          "name": "stdout",
          "output_type": "stream",
          "text": [
            "9.666666666666666\n",
            "17.46666666666667\n",
            "15.0\n",
            "17.333333333333332\n",
            "0.04228448485961988 0.09582283625320921 0.13810732111282908\n"
          ]
        }
      ],
      "source": [
        "p1 = Gaussian_Naive_Bayes([15,12,13,6,7,5], 15)\n",
        "p2 = Gaussian_Naive_Bayes([10,14,16,20], 15)\n",
        "print(p1, p2, p1+p2)"
      ]
    },
    {
      "cell_type": "code",
      "execution_count": null,
      "metadata": {
        "colab": {
          "base_uri": "https://localhost:8080/",
          "height": 382
        },
        "id": "STUVKqavpz6T",
        "outputId": "3bd5e8ab-b5a9-459d-90c9-646a65169889"
      },
      "outputs": [
        {
          "ename": "ValueError",
          "evalue": "ignored",
          "output_type": "error",
          "traceback": [
            "\u001b[0;31m---------------------------------------------------------------------------\u001b[0m",
            "\u001b[0;31mValueError\u001b[0m                                Traceback (most recent call last)",
            "\u001b[0;32m<ipython-input-6-ea9488000779>\u001b[0m in \u001b[0;36m<module>\u001b[0;34m()\u001b[0m\n\u001b[1;32m      5\u001b[0m \u001b[0;32mfrom\u001b[0m \u001b[0msklearn\u001b[0m\u001b[0;34m.\u001b[0m\u001b[0mnaive_bayes\u001b[0m \u001b[0;32mimport\u001b[0m \u001b[0mGaussianNB\u001b[0m\u001b[0;34m\u001b[0m\u001b[0;34m\u001b[0m\u001b[0m\n\u001b[1;32m      6\u001b[0m \u001b[0mclf\u001b[0m \u001b[0;34m=\u001b[0m \u001b[0mGaussianNB\u001b[0m\u001b[0;34m(\u001b[0m\u001b[0;34m)\u001b[0m\u001b[0;34m\u001b[0m\u001b[0;34m\u001b[0m\u001b[0m\n\u001b[0;32m----> 7\u001b[0;31m \u001b[0mclf\u001b[0m\u001b[0;34m.\u001b[0m\u001b[0mfit\u001b[0m\u001b[0;34m(\u001b[0m\u001b[0mX\u001b[0m\u001b[0;34m,\u001b[0m \u001b[0mY\u001b[0m\u001b[0;34m)\u001b[0m\u001b[0;34m\u001b[0m\u001b[0;34m\u001b[0m\u001b[0m\n\u001b[0m\u001b[1;32m      8\u001b[0m \u001b[0mGaussianNB\u001b[0m\u001b[0;34m(\u001b[0m\u001b[0;34m)\u001b[0m\u001b[0;34m\u001b[0m\u001b[0;34m\u001b[0m\u001b[0m\n\u001b[1;32m      9\u001b[0m \u001b[0mprint\u001b[0m\u001b[0;34m(\u001b[0m\u001b[0mclf\u001b[0m\u001b[0;34m.\u001b[0m\u001b[0mpredict\u001b[0m\u001b[0;34m(\u001b[0m\u001b[0;34m[\u001b[0m\u001b[0;36m15\u001b[0m\u001b[0;34m]\u001b[0m\u001b[0;34m)\u001b[0m\u001b[0;34m)\u001b[0m\u001b[0;34m\u001b[0m\u001b[0;34m\u001b[0m\u001b[0m\n",
            "\u001b[0;32m/usr/local/lib/python3.6/dist-packages/sklearn/naive_bayes.py\u001b[0m in \u001b[0;36mfit\u001b[0;34m(self, X, y, sample_weight)\u001b[0m\n\u001b[1;32m    206\u001b[0m         \u001b[0my\u001b[0m \u001b[0;34m=\u001b[0m \u001b[0mcolumn_or_1d\u001b[0m\u001b[0;34m(\u001b[0m\u001b[0my\u001b[0m\u001b[0;34m,\u001b[0m \u001b[0mwarn\u001b[0m\u001b[0;34m=\u001b[0m\u001b[0;32mTrue\u001b[0m\u001b[0;34m)\u001b[0m\u001b[0;34m\u001b[0m\u001b[0;34m\u001b[0m\u001b[0m\n\u001b[1;32m    207\u001b[0m         return self._partial_fit(X, y, np.unique(y), _refit=True,\n\u001b[0;32m--> 208\u001b[0;31m                                  sample_weight=sample_weight)\n\u001b[0m\u001b[1;32m    209\u001b[0m \u001b[0;34m\u001b[0m\u001b[0m\n\u001b[1;32m    210\u001b[0m     \u001b[0;32mdef\u001b[0m \u001b[0m_check_X\u001b[0m\u001b[0;34m(\u001b[0m\u001b[0mself\u001b[0m\u001b[0;34m,\u001b[0m \u001b[0mX\u001b[0m\u001b[0;34m)\u001b[0m\u001b[0;34m:\u001b[0m\u001b[0;34m\u001b[0m\u001b[0;34m\u001b[0m\u001b[0m\n",
            "\u001b[0;32m/usr/local/lib/python3.6/dist-packages/sklearn/naive_bayes.py\u001b[0m in \u001b[0;36m_partial_fit\u001b[0;34m(self, X, y, classes, _refit, sample_weight)\u001b[0m\n\u001b[1;32m    357\u001b[0m         \u001b[0mself\u001b[0m \u001b[0;34m:\u001b[0m \u001b[0mobject\u001b[0m\u001b[0;34m\u001b[0m\u001b[0;34m\u001b[0m\u001b[0m\n\u001b[1;32m    358\u001b[0m         \"\"\"\n\u001b[0;32m--> 359\u001b[0;31m         \u001b[0mX\u001b[0m\u001b[0;34m,\u001b[0m \u001b[0my\u001b[0m \u001b[0;34m=\u001b[0m \u001b[0mcheck_X_y\u001b[0m\u001b[0;34m(\u001b[0m\u001b[0mX\u001b[0m\u001b[0;34m,\u001b[0m \u001b[0my\u001b[0m\u001b[0;34m)\u001b[0m\u001b[0;34m\u001b[0m\u001b[0;34m\u001b[0m\u001b[0m\n\u001b[0m\u001b[1;32m    360\u001b[0m         \u001b[0;32mif\u001b[0m \u001b[0msample_weight\u001b[0m \u001b[0;32mis\u001b[0m \u001b[0;32mnot\u001b[0m \u001b[0;32mNone\u001b[0m\u001b[0;34m:\u001b[0m\u001b[0;34m\u001b[0m\u001b[0;34m\u001b[0m\u001b[0m\n\u001b[1;32m    361\u001b[0m             \u001b[0msample_weight\u001b[0m \u001b[0;34m=\u001b[0m \u001b[0m_check_sample_weight\u001b[0m\u001b[0;34m(\u001b[0m\u001b[0msample_weight\u001b[0m\u001b[0;34m,\u001b[0m \u001b[0mX\u001b[0m\u001b[0;34m)\u001b[0m\u001b[0;34m\u001b[0m\u001b[0;34m\u001b[0m\u001b[0m\n",
            "\u001b[0;32m/usr/local/lib/python3.6/dist-packages/sklearn/utils/validation.py\u001b[0m in \u001b[0;36mcheck_X_y\u001b[0;34m(X, y, accept_sparse, accept_large_sparse, dtype, order, copy, force_all_finite, ensure_2d, allow_nd, multi_output, ensure_min_samples, ensure_min_features, y_numeric, warn_on_dtype, estimator)\u001b[0m\n\u001b[1;32m    763\u001b[0m         \u001b[0my\u001b[0m \u001b[0;34m=\u001b[0m \u001b[0my\u001b[0m\u001b[0;34m.\u001b[0m\u001b[0mastype\u001b[0m\u001b[0;34m(\u001b[0m\u001b[0mnp\u001b[0m\u001b[0;34m.\u001b[0m\u001b[0mfloat64\u001b[0m\u001b[0;34m)\u001b[0m\u001b[0;34m\u001b[0m\u001b[0;34m\u001b[0m\u001b[0m\n\u001b[1;32m    764\u001b[0m \u001b[0;34m\u001b[0m\u001b[0m\n\u001b[0;32m--> 765\u001b[0;31m     \u001b[0mcheck_consistent_length\u001b[0m\u001b[0;34m(\u001b[0m\u001b[0mX\u001b[0m\u001b[0;34m,\u001b[0m \u001b[0my\u001b[0m\u001b[0;34m)\u001b[0m\u001b[0;34m\u001b[0m\u001b[0;34m\u001b[0m\u001b[0m\n\u001b[0m\u001b[1;32m    766\u001b[0m \u001b[0;34m\u001b[0m\u001b[0m\n\u001b[1;32m    767\u001b[0m     \u001b[0;32mreturn\u001b[0m \u001b[0mX\u001b[0m\u001b[0;34m,\u001b[0m \u001b[0my\u001b[0m\u001b[0;34m\u001b[0m\u001b[0;34m\u001b[0m\u001b[0m\n",
            "\u001b[0;32m/usr/local/lib/python3.6/dist-packages/sklearn/utils/validation.py\u001b[0m in \u001b[0;36mcheck_consistent_length\u001b[0;34m(*arrays)\u001b[0m\n\u001b[1;32m    210\u001b[0m     \u001b[0;32mif\u001b[0m \u001b[0mlen\u001b[0m\u001b[0;34m(\u001b[0m\u001b[0muniques\u001b[0m\u001b[0;34m)\u001b[0m \u001b[0;34m>\u001b[0m \u001b[0;36m1\u001b[0m\u001b[0;34m:\u001b[0m\u001b[0;34m\u001b[0m\u001b[0;34m\u001b[0m\u001b[0m\n\u001b[1;32m    211\u001b[0m         raise ValueError(\"Found input variables with inconsistent numbers of\"\n\u001b[0;32m--> 212\u001b[0;31m                          \" samples: %r\" % [int(l) for l in lengths])\n\u001b[0m\u001b[1;32m    213\u001b[0m \u001b[0;34m\u001b[0m\u001b[0m\n\u001b[1;32m    214\u001b[0m \u001b[0;34m\u001b[0m\u001b[0m\n",
            "\u001b[0;31mValueError\u001b[0m: Found input variables with inconsistent numbers of samples: [1, 10]"
          ]
        }
      ],
      "source": [
        "import numpy as np\n",
        "X = np.array([15,10,12,14,13,16,6,7,5,20])\n",
        "X = X.reshape(1,-1)\n",
        "Y = np.array([1, 0, 1, 0, 1, 0, 1,1,1,0])\n",
        "from sklearn.naive_bayes import GaussianNB\n",
        "clf = GaussianNB()\n",
        "clf.fit(X, Y)\n",
        "GaussianNB()\n",
        "print(clf.predict([15]))"
      ]
    },
    {
      "cell_type": "code",
      "execution_count": null,
      "metadata": {
        "id": "G1lGQMXTwckY"
      },
      "outputs": [],
      "source": [
        "clf_pf = GaussianNB()\n",
        "clf_pf.partial_fit(X, Y, np.unique(Y))\n",
        "GaussianNB()\n",
        "print(clf_pf.predict([[-0.8, -1]]))"
      ]
    }
  ],
  "metadata": {
    "colab": {
      "provenance": [],
      "toc_visible": true
    },
    "kernelspec": {
      "display_name": "Python 3",
      "name": "python3"
    }
  },
  "nbformat": 4,
  "nbformat_minor": 0
}
