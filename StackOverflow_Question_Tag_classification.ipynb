{
 "cells": [
  {
   "cell_type": "markdown",
   "metadata": {
    "id": "dQyYRMY_QQNQ"
   },
   "source": [
    "data is read from https://raw.githubusercontent.com/laxmimerit/All-CSV-ML-Data-Files-Download/master/stackoverflow.csv\n",
    "\n",
    "original data source : https://www.kaggle.com/stackoverflow/stacksample?select=Answers.csv"
   ]
  },
  {
   "cell_type": "markdown",
   "metadata": {
    "id": "Bhu_HgAy7eDX"
   },
   "source": [
    "1. importing the libraries"
   ]
  },
  {
   "cell_type": "code",
   "execution_count": 1,
   "metadata": {},
   "outputs": [],
   "source": [
    "import warnings\n",
    "warnings.filterwarnings('ignore')"
   ]
  },
  {
   "cell_type": "code",
   "execution_count": 2,
   "metadata": {
    "colab": {
     "base_uri": "https://localhost:8080/"
    },
    "id": "ufmAN9y-MQOT",
    "outputId": "d99569b5-70fe-4a8f-b581-29c0ea140168"
   },
   "outputs": [
    {
     "name": "stdout",
     "output_type": "stream",
     "text": [
      "Requirement already satisfied: scikit-multilearn in c:\\programdata\\anaconda3\\lib\\site-packages (0.2.0)"
     ]
    },
    {
     "name": "stderr",
     "output_type": "stream",
     "text": [
      "WARNING: You are using pip version 21.3.1; however, version 22.0.3 is available.\n",
      "You should consider upgrading via the 'c:\\programdata\\anaconda3\\python.exe -m pip install --upgrade pip' command.\n"
     ]
    },
    {
     "name": "stdout",
     "output_type": "stream",
     "text": [
      "\n"
     ]
    }
   ],
   "source": [
    "!pip install scikit-multilearn"
   ]
  },
  {
   "cell_type": "code",
   "execution_count": 3,
   "metadata": {},
   "outputs": [],
   "source": [
    "import numpy as np\n",
    "import pandas as pd\n",
    "\n",
    "import ast\n",
    "\n",
    "import matplotlib\n",
    "import matplotlib.pyplot as plt\n",
    "import seaborn as sns\n",
    "\n",
    "import time"
   ]
  },
  {
   "cell_type": "code",
   "execution_count": 33,
   "metadata": {
    "id": "qrfF4VxhQQkK"
   },
   "outputs": [],
   "source": [
    "from wordcloud import WordCloud\n",
    "from sklearn.feature_extraction.text import TfidfVectorizer, CountVectorizer\n",
    "from sklearn.preprocessing import MultiLabelBinarizer\n",
    "from sklearn.model_selection import train_test_split, KFold, cross_val_score, GridSearchCV\n",
    "\n",
    "from sklearn.linear_model import SGDClassifier\n",
    "from sklearn.linear_model import LogisticRegression\n",
    "from sklearn.svm import LinearSVC\n",
    "\n",
    "from sklearn.multiclass import OneVsRestClassifier\n",
    "from skmultilearn.adapt import MLkNN\n",
    "from sklearn.model_selection import GridSearchCV\n",
    "from skmultilearn.problem_transform import LabelPowerset\n",
    "\n",
    "from sklearn import metrics\n",
    "from sklearn.metrics import hamming_loss, jaccard_score, f1_score, classification_report"
   ]
  },
  {
   "cell_type": "code",
   "execution_count": 5,
   "metadata": {
    "id": "YW1AfZdhBUpf"
   },
   "outputs": [],
   "source": [
    "# from google.colab import drive\n",
    "# drive.mount('/content/drive')"
   ]
  },
  {
   "cell_type": "markdown",
   "metadata": {
    "id": "_os_ZsYd7jmX"
   },
   "source": [
    "2. Read data"
   ]
  },
  {
   "cell_type": "code",
   "execution_count": 6,
   "metadata": {
    "id": "Uvmtq8KGM7V3"
   },
   "outputs": [
    {
     "data": {
      "text/html": [
       "<div>\n",
       "<style scoped>\n",
       "    .dataframe tbody tr th:only-of-type {\n",
       "        vertical-align: middle;\n",
       "    }\n",
       "\n",
       "    .dataframe tbody tr th {\n",
       "        vertical-align: top;\n",
       "    }\n",
       "\n",
       "    .dataframe thead th {\n",
       "        text-align: right;\n",
       "    }\n",
       "</style>\n",
       "<table border=\"1\" class=\"dataframe\">\n",
       "  <thead>\n",
       "    <tr style=\"text-align: right;\">\n",
       "      <th></th>\n",
       "      <th>Unnamed: 0</th>\n",
       "      <th>Text</th>\n",
       "      <th>Tags</th>\n",
       "    </tr>\n",
       "  </thead>\n",
       "  <tbody>\n",
       "    <tr>\n",
       "      <th>0</th>\n",
       "      <td>2</td>\n",
       "      <td>aspnet site maps has anyone got experience cre...</td>\n",
       "      <td>['sql', 'asp.net']</td>\n",
       "    </tr>\n",
       "    <tr>\n",
       "      <th>1</th>\n",
       "      <td>4</td>\n",
       "      <td>adding scripting functionality to net applicat...</td>\n",
       "      <td>['c#', '.net']</td>\n",
       "    </tr>\n",
       "    <tr>\n",
       "      <th>2</th>\n",
       "      <td>5</td>\n",
       "      <td>should i use nested classes in this case i am ...</td>\n",
       "      <td>['c++']</td>\n",
       "    </tr>\n",
       "    <tr>\n",
       "      <th>3</th>\n",
       "      <td>6</td>\n",
       "      <td>homegrown consumption of web services i have b...</td>\n",
       "      <td>['.net']</td>\n",
       "    </tr>\n",
       "    <tr>\n",
       "      <th>4</th>\n",
       "      <td>8</td>\n",
       "      <td>automatically update version number i would li...</td>\n",
       "      <td>['c#']</td>\n",
       "    </tr>\n",
       "    <tr>\n",
       "      <th>...</th>\n",
       "      <td>...</td>\n",
       "      <td>...</td>\n",
       "      <td>...</td>\n",
       "    </tr>\n",
       "    <tr>\n",
       "      <th>48971</th>\n",
       "      <td>1262668</td>\n",
       "      <td>using lambda in default initializer gcc vs cla...</td>\n",
       "      <td>['c++']</td>\n",
       "    </tr>\n",
       "    <tr>\n",
       "      <th>48972</th>\n",
       "      <td>1262834</td>\n",
       "      <td>stl list very bad performance it is supposed t...</td>\n",
       "      <td>['c++']</td>\n",
       "    </tr>\n",
       "    <tr>\n",
       "      <th>48973</th>\n",
       "      <td>1262915</td>\n",
       "      <td>how to use a dict to subset a dataframe say i ...</td>\n",
       "      <td>['python']</td>\n",
       "    </tr>\n",
       "    <tr>\n",
       "      <th>48974</th>\n",
       "      <td>1263065</td>\n",
       "      <td>is there a way to use itertools in python to c...</td>\n",
       "      <td>['python']</td>\n",
       "    </tr>\n",
       "    <tr>\n",
       "      <th>48975</th>\n",
       "      <td>1263454</td>\n",
       "      <td>why does my result data returned as void gets ...</td>\n",
       "      <td>['c++']</td>\n",
       "    </tr>\n",
       "  </tbody>\n",
       "</table>\n",
       "<p>48976 rows × 3 columns</p>\n",
       "</div>"
      ],
      "text/plain": [
       "       Unnamed: 0                                               Text  \\\n",
       "0               2  aspnet site maps has anyone got experience cre...   \n",
       "1               4  adding scripting functionality to net applicat...   \n",
       "2               5  should i use nested classes in this case i am ...   \n",
       "3               6  homegrown consumption of web services i have b...   \n",
       "4               8  automatically update version number i would li...   \n",
       "...           ...                                                ...   \n",
       "48971     1262668  using lambda in default initializer gcc vs cla...   \n",
       "48972     1262834  stl list very bad performance it is supposed t...   \n",
       "48973     1262915  how to use a dict to subset a dataframe say i ...   \n",
       "48974     1263065  is there a way to use itertools in python to c...   \n",
       "48975     1263454  why does my result data returned as void gets ...   \n",
       "\n",
       "                     Tags  \n",
       "0      ['sql', 'asp.net']  \n",
       "1          ['c#', '.net']  \n",
       "2                 ['c++']  \n",
       "3                ['.net']  \n",
       "4                  ['c#']  \n",
       "...                   ...  \n",
       "48971             ['c++']  \n",
       "48972             ['c++']  \n",
       "48973          ['python']  \n",
       "48974          ['python']  \n",
       "48975             ['c++']  \n",
       "\n",
       "[48976 rows x 3 columns]"
      ]
     },
     "execution_count": 6,
     "metadata": {},
     "output_type": "execute_result"
    }
   ],
   "source": [
    "# data = pd.read_csv('https://raw.githubusercontent.com/laxmimerit/All-CSV-ML-Data-Files-Download/master/stackoverflow.csv')\n",
    "# data = pd.read_csv('https://www.kaggle.com/stackoverflow/stacksample?select=Answers.csv')\n",
    "data = pd.read_csv('stackoverflow.csv')\n",
    "data"
   ]
  },
  {
   "cell_type": "code",
   "execution_count": 7,
   "metadata": {
    "id": "5v1ELNhdjNuL"
   },
   "outputs": [],
   "source": [
    "data.rename(columns = {'Unnamed: 0':'Initial ID'}, inplace = True)"
   ]
  },
  {
   "cell_type": "code",
   "execution_count": 8,
   "metadata": {
    "colab": {
     "base_uri": "https://localhost:8080/",
     "height": 424
    },
    "id": "LJCLqzNYRCR7",
    "outputId": "7acb6b94-50aa-41c5-edf0-914faa809c73"
   },
   "outputs": [
    {
     "data": {
      "text/html": [
       "<div>\n",
       "<style scoped>\n",
       "    .dataframe tbody tr th:only-of-type {\n",
       "        vertical-align: middle;\n",
       "    }\n",
       "\n",
       "    .dataframe tbody tr th {\n",
       "        vertical-align: top;\n",
       "    }\n",
       "\n",
       "    .dataframe thead th {\n",
       "        text-align: right;\n",
       "    }\n",
       "</style>\n",
       "<table border=\"1\" class=\"dataframe\">\n",
       "  <thead>\n",
       "    <tr style=\"text-align: right;\">\n",
       "      <th></th>\n",
       "      <th>Initial ID</th>\n",
       "      <th>Text</th>\n",
       "      <th>Tags</th>\n",
       "    </tr>\n",
       "  </thead>\n",
       "  <tbody>\n",
       "    <tr>\n",
       "      <th>0</th>\n",
       "      <td>2</td>\n",
       "      <td>aspnet site maps has anyone got experience cre...</td>\n",
       "      <td>['sql', 'asp.net']</td>\n",
       "    </tr>\n",
       "    <tr>\n",
       "      <th>1</th>\n",
       "      <td>4</td>\n",
       "      <td>adding scripting functionality to net applicat...</td>\n",
       "      <td>['c#', '.net']</td>\n",
       "    </tr>\n",
       "    <tr>\n",
       "      <th>2</th>\n",
       "      <td>5</td>\n",
       "      <td>should i use nested classes in this case i am ...</td>\n",
       "      <td>['c++']</td>\n",
       "    </tr>\n",
       "    <tr>\n",
       "      <th>3</th>\n",
       "      <td>6</td>\n",
       "      <td>homegrown consumption of web services i have b...</td>\n",
       "      <td>['.net']</td>\n",
       "    </tr>\n",
       "    <tr>\n",
       "      <th>4</th>\n",
       "      <td>8</td>\n",
       "      <td>automatically update version number i would li...</td>\n",
       "      <td>['c#']</td>\n",
       "    </tr>\n",
       "    <tr>\n",
       "      <th>...</th>\n",
       "      <td>...</td>\n",
       "      <td>...</td>\n",
       "      <td>...</td>\n",
       "    </tr>\n",
       "    <tr>\n",
       "      <th>48971</th>\n",
       "      <td>1262668</td>\n",
       "      <td>using lambda in default initializer gcc vs cla...</td>\n",
       "      <td>['c++']</td>\n",
       "    </tr>\n",
       "    <tr>\n",
       "      <th>48972</th>\n",
       "      <td>1262834</td>\n",
       "      <td>stl list very bad performance it is supposed t...</td>\n",
       "      <td>['c++']</td>\n",
       "    </tr>\n",
       "    <tr>\n",
       "      <th>48973</th>\n",
       "      <td>1262915</td>\n",
       "      <td>how to use a dict to subset a dataframe say i ...</td>\n",
       "      <td>['python']</td>\n",
       "    </tr>\n",
       "    <tr>\n",
       "      <th>48974</th>\n",
       "      <td>1263065</td>\n",
       "      <td>is there a way to use itertools in python to c...</td>\n",
       "      <td>['python']</td>\n",
       "    </tr>\n",
       "    <tr>\n",
       "      <th>48975</th>\n",
       "      <td>1263454</td>\n",
       "      <td>why does my result data returned as void gets ...</td>\n",
       "      <td>['c++']</td>\n",
       "    </tr>\n",
       "  </tbody>\n",
       "</table>\n",
       "<p>48976 rows × 3 columns</p>\n",
       "</div>"
      ],
      "text/plain": [
       "       Initial ID                                               Text  \\\n",
       "0               2  aspnet site maps has anyone got experience cre...   \n",
       "1               4  adding scripting functionality to net applicat...   \n",
       "2               5  should i use nested classes in this case i am ...   \n",
       "3               6  homegrown consumption of web services i have b...   \n",
       "4               8  automatically update version number i would li...   \n",
       "...           ...                                                ...   \n",
       "48971     1262668  using lambda in default initializer gcc vs cla...   \n",
       "48972     1262834  stl list very bad performance it is supposed t...   \n",
       "48973     1262915  how to use a dict to subset a dataframe say i ...   \n",
       "48974     1263065  is there a way to use itertools in python to c...   \n",
       "48975     1263454  why does my result data returned as void gets ...   \n",
       "\n",
       "                     Tags  \n",
       "0      ['sql', 'asp.net']  \n",
       "1          ['c#', '.net']  \n",
       "2                 ['c++']  \n",
       "3                ['.net']  \n",
       "4                  ['c#']  \n",
       "...                   ...  \n",
       "48971             ['c++']  \n",
       "48972             ['c++']  \n",
       "48973          ['python']  \n",
       "48974          ['python']  \n",
       "48975             ['c++']  \n",
       "\n",
       "[48976 rows x 3 columns]"
      ]
     },
     "execution_count": 8,
     "metadata": {},
     "output_type": "execute_result"
    }
   ],
   "source": [
    "# data.head(10)\n",
    "data"
   ]
  },
  {
   "cell_type": "code",
   "execution_count": 9,
   "metadata": {
    "colab": {
     "base_uri": "https://localhost:8080/"
    },
    "id": "c3TC1lfhS7o4",
    "outputId": "a930c62c-221c-495e-f523-2135e273d68f"
   },
   "outputs": [
    {
     "name": "stdout",
     "output_type": "stream",
     "text": [
      "Shape of the dataset :  (48976, 3)\n"
     ]
    }
   ],
   "source": [
    "print('Shape of the dataset : ', data.shape)"
   ]
  },
  {
   "cell_type": "code",
   "execution_count": 10,
   "metadata": {
    "colab": {
     "base_uri": "https://localhost:8080/"
    },
    "id": "uNZD8nQxkaQr",
    "outputId": "e71a41b4-d972-4ae1-c29b-88457bec592e"
   },
   "outputs": [
    {
     "data": {
      "text/plain": [
       "Initial ID     int64\n",
       "Text          object\n",
       "Tags          object\n",
       "dtype: object"
      ]
     },
     "execution_count": 10,
     "metadata": {},
     "output_type": "execute_result"
    }
   ],
   "source": [
    "data.dtypes"
   ]
  },
  {
   "cell_type": "markdown",
   "metadata": {
    "id": "RTesC4K75wKt"
   },
   "source": [
    "3. Data Preprocessing : **bold text**"
   ]
  },
  {
   "cell_type": "markdown",
   "metadata": {
    "id": "1vuO3rer50uM"
   },
   "source": [
    "count number of tags in a question and frequency of  each tag:"
   ]
  },
  {
   "cell_type": "code",
   "execution_count": 11,
   "metadata": {
    "colab": {
     "base_uri": "https://localhost:8080/",
     "height": 424
    },
    "id": "VR-qawwM549o",
    "outputId": "349b238d-c112-45d6-9eec-ba9da6a79026"
   },
   "outputs": [
    {
     "data": {
      "text/html": [
       "<div>\n",
       "<style scoped>\n",
       "    .dataframe tbody tr th:only-of-type {\n",
       "        vertical-align: middle;\n",
       "    }\n",
       "\n",
       "    .dataframe tbody tr th {\n",
       "        vertical-align: top;\n",
       "    }\n",
       "\n",
       "    .dataframe thead th {\n",
       "        text-align: right;\n",
       "    }\n",
       "</style>\n",
       "<table border=\"1\" class=\"dataframe\">\n",
       "  <thead>\n",
       "    <tr style=\"text-align: right;\">\n",
       "      <th></th>\n",
       "      <th>Initial ID</th>\n",
       "      <th>Text</th>\n",
       "      <th>Tags</th>\n",
       "      <th>tag_count</th>\n",
       "    </tr>\n",
       "  </thead>\n",
       "  <tbody>\n",
       "    <tr>\n",
       "      <th>0</th>\n",
       "      <td>2</td>\n",
       "      <td>aspnet site maps has anyone got experience cre...</td>\n",
       "      <td>['sql', 'asp.net']</td>\n",
       "      <td>2</td>\n",
       "    </tr>\n",
       "    <tr>\n",
       "      <th>1</th>\n",
       "      <td>4</td>\n",
       "      <td>adding scripting functionality to net applicat...</td>\n",
       "      <td>['c#', '.net']</td>\n",
       "      <td>2</td>\n",
       "    </tr>\n",
       "    <tr>\n",
       "      <th>2</th>\n",
       "      <td>5</td>\n",
       "      <td>should i use nested classes in this case i am ...</td>\n",
       "      <td>['c++']</td>\n",
       "      <td>1</td>\n",
       "    </tr>\n",
       "    <tr>\n",
       "      <th>3</th>\n",
       "      <td>6</td>\n",
       "      <td>homegrown consumption of web services i have b...</td>\n",
       "      <td>['.net']</td>\n",
       "      <td>1</td>\n",
       "    </tr>\n",
       "    <tr>\n",
       "      <th>4</th>\n",
       "      <td>8</td>\n",
       "      <td>automatically update version number i would li...</td>\n",
       "      <td>['c#']</td>\n",
       "      <td>1</td>\n",
       "    </tr>\n",
       "    <tr>\n",
       "      <th>...</th>\n",
       "      <td>...</td>\n",
       "      <td>...</td>\n",
       "      <td>...</td>\n",
       "      <td>...</td>\n",
       "    </tr>\n",
       "    <tr>\n",
       "      <th>48971</th>\n",
       "      <td>1262668</td>\n",
       "      <td>using lambda in default initializer gcc vs cla...</td>\n",
       "      <td>['c++']</td>\n",
       "      <td>1</td>\n",
       "    </tr>\n",
       "    <tr>\n",
       "      <th>48972</th>\n",
       "      <td>1262834</td>\n",
       "      <td>stl list very bad performance it is supposed t...</td>\n",
       "      <td>['c++']</td>\n",
       "      <td>1</td>\n",
       "    </tr>\n",
       "    <tr>\n",
       "      <th>48973</th>\n",
       "      <td>1262915</td>\n",
       "      <td>how to use a dict to subset a dataframe say i ...</td>\n",
       "      <td>['python']</td>\n",
       "      <td>1</td>\n",
       "    </tr>\n",
       "    <tr>\n",
       "      <th>48974</th>\n",
       "      <td>1263065</td>\n",
       "      <td>is there a way to use itertools in python to c...</td>\n",
       "      <td>['python']</td>\n",
       "      <td>1</td>\n",
       "    </tr>\n",
       "    <tr>\n",
       "      <th>48975</th>\n",
       "      <td>1263454</td>\n",
       "      <td>why does my result data returned as void gets ...</td>\n",
       "      <td>['c++']</td>\n",
       "      <td>1</td>\n",
       "    </tr>\n",
       "  </tbody>\n",
       "</table>\n",
       "<p>48976 rows × 4 columns</p>\n",
       "</div>"
      ],
      "text/plain": [
       "       Initial ID                                               Text  \\\n",
       "0               2  aspnet site maps has anyone got experience cre...   \n",
       "1               4  adding scripting functionality to net applicat...   \n",
       "2               5  should i use nested classes in this case i am ...   \n",
       "3               6  homegrown consumption of web services i have b...   \n",
       "4               8  automatically update version number i would li...   \n",
       "...           ...                                                ...   \n",
       "48971     1262668  using lambda in default initializer gcc vs cla...   \n",
       "48972     1262834  stl list very bad performance it is supposed t...   \n",
       "48973     1262915  how to use a dict to subset a dataframe say i ...   \n",
       "48974     1263065  is there a way to use itertools in python to c...   \n",
       "48975     1263454  why does my result data returned as void gets ...   \n",
       "\n",
       "                     Tags  tag_count  \n",
       "0      ['sql', 'asp.net']          2  \n",
       "1          ['c#', '.net']          2  \n",
       "2                 ['c++']          1  \n",
       "3                ['.net']          1  \n",
       "4                  ['c#']          1  \n",
       "...                   ...        ...  \n",
       "48971             ['c++']          1  \n",
       "48972             ['c++']          1  \n",
       "48973          ['python']          1  \n",
       "48974          ['python']          1  \n",
       "48975             ['c++']          1  \n",
       "\n",
       "[48976 rows x 4 columns]"
      ]
     },
     "execution_count": 11,
     "metadata": {},
     "output_type": "execute_result"
    }
   ],
   "source": [
    "data['tag_count'] = data['Tags'].apply(lambda x : len(x.split()))\n",
    "data"
   ]
  },
  {
   "cell_type": "code",
   "execution_count": 12,
   "metadata": {
    "colab": {
     "base_uri": "https://localhost:8080/"
    },
    "id": "MyA8YRov_dRv",
    "outputId": "e50acbd7-8d7e-4adf-ef99-2a8a7c0ba1c4"
   },
   "outputs": [
    {
     "data": {
      "text/plain": [
       "Initial ID     int64\n",
       "Text          object\n",
       "Tags          object\n",
       "tag_count      int64\n",
       "dtype: object"
      ]
     },
     "execution_count": 12,
     "metadata": {},
     "output_type": "execute_result"
    }
   ],
   "source": [
    "data.dtypes"
   ]
  },
  {
   "cell_type": "code",
   "execution_count": 13,
   "metadata": {
    "colab": {
     "base_uri": "https://localhost:8080/"
    },
    "id": "ycf4hhCRT7AV",
    "outputId": "f2724fa6-555e-4e6e-da93-01322c1f0c7f"
   },
   "outputs": [
    {
     "name": "stdout",
     "output_type": "stream",
     "text": [
      "<class 'str'>\n"
     ]
    }
   ],
   "source": [
    "# print(data['Tags'].iloc[0].dtype)\n",
    "print(type(data['Tags'].iloc[0]))"
   ]
  },
  {
   "cell_type": "markdown",
   "metadata": {
    "id": "LbhtCaVNZWmP"
   },
   "source": [
    "converting each tag in data['Tags'] from string to list of strings"
   ]
  },
  {
   "cell_type": "code",
   "execution_count": null,
   "metadata": {
    "id": "VCsCZqgqY0zn"
   },
   "outputs": [],
   "source": [
    "# def stringToList(s):\n",
    "#     # listRes = list(string.split(\",\"))\n",
    "#     listRes = s.split(\",\")\n",
    "#     return listRes\n",
    "\n",
    "# https://appdividend.com/2019/11/12/how-to-convert-python-string-to-list-example/"
   ]
  },
  {
   "cell_type": "code",
   "execution_count": 14,
   "metadata": {
    "colab": {
     "base_uri": "https://localhost:8080/",
     "height": 54
    },
    "id": "Kt3bsQ34Yky7",
    "outputId": "753befc6-0469-4259-d61d-b8d9c39cd362"
   },
   "outputs": [
    {
     "name": "stdout",
     "output_type": "stream",
     "text": [
      "<class 'list'>\n"
     ]
    },
    {
     "data": {
      "text/plain": [
       "'when converting to other type from string \\nits better to use eval() with abstract syntax tree(ast)\\n'"
      ]
     },
     "execution_count": 14,
     "metadata": {},
     "output_type": "execute_result"
    }
   ],
   "source": [
    "data['Tags'] = data['Tags'].apply(lambda x : ast.literal_eval(x))\n",
    "print(type(data['Tags'].iloc[0]))\n",
    "\"\"\"when converting to other type from string \n",
    "its better to use eval() with abstract syntax tree(ast)\n",
    "\"\"\""
   ]
  },
  {
   "cell_type": "markdown",
   "metadata": {
    "id": "ejawfqKU-5LK"
   },
   "source": [
    "![multclassVsmulilabel1.jpeg](data:image/jpeg;base64,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)\n",
    "\n",
    "![multiclass_vs_multiilael.png](data:image/png;base64,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)\n",
    "\n",
    "In a multi class classification, output can take one value form  a set of values at a time.\n",
    "\n",
    "In a multi label classification, output can have multiple values at a time. "
   ]
  },
  {
   "cell_type": "code",
   "execution_count": 15,
   "metadata": {
    "colab": {
     "base_uri": "https://localhost:8080/"
    },
    "id": "ce399jI3kqGQ",
    "outputId": "3ae8bb5d-abda-44a1-e7e2-cc6aa42b74c0"
   },
   "outputs": [
    {
     "data": {
      "text/plain": [
       "Initial ID     int64\n",
       "Text          object\n",
       "Tags          object\n",
       "tag_count      int64\n",
       "dtype: object"
      ]
     },
     "execution_count": 15,
     "metadata": {},
     "output_type": "execute_result"
    }
   ],
   "source": [
    "data.dtypes"
   ]
  },
  {
   "cell_type": "code",
   "execution_count": 16,
   "metadata": {
    "colab": {
     "base_uri": "https://localhost:8080/"
    },
    "id": "ZExA3XfO-9yl",
    "outputId": "8821cb52-b127-4f5e-8714-85b8ff9ac022"
   },
   "outputs": [
    {
     "data": {
      "text/plain": [
       "list"
      ]
     },
     "execution_count": 16,
     "metadata": {},
     "output_type": "execute_result"
    }
   ],
   "source": [
    "y = data['Tags']\n",
    "y\n",
    "type(y[0])"
   ]
  },
  {
   "cell_type": "markdown",
   "metadata": {
    "id": "tbc8TY75SqrP"
   },
   "source": [
    "examples of multi label binarizer :\n",
    "\n",
    "https://scikit-learn.org/stable/modules/generated/sklearn.preprocessing.MultiLabelBinarizer.html\n",
    "\n",
    "https://www.programcreek.com/python/example/85906/sklearn.preprocessing.MultiLabelBinarizer\n"
   ]
  },
  {
   "cell_type": "markdown",
   "metadata": {
    "id": "AYHfm8ZE73Xk"
   },
   "source": [
    "4. basic data analysis on Tag"
   ]
  },
  {
   "cell_type": "code",
   "execution_count": 17,
   "metadata": {
    "colab": {
     "base_uri": "https://localhost:8080/"
    },
    "id": "e9Vj5kGF8Pjk",
    "outputId": "f3aa14d6-7d38-46b0-e8a0-d10012172f28"
   },
   "outputs": [
    {
     "name": "stdout",
     "output_type": "stream",
     "text": [
      "1    38751\n",
      "2     8963\n",
      "3     1099\n",
      "4      160\n",
      "5        3\n",
      "Name: tag_count, dtype: int64\n"
     ]
    }
   ],
   "source": [
    "print(data['tag_count'].value_counts())"
   ]
  },
  {
   "cell_type": "code",
   "execution_count": 18,
   "metadata": {
    "colab": {
     "base_uri": "https://localhost:8080/"
    },
    "id": "i5U0bYyL8myL",
    "outputId": "bd08ae52-d9e9-4f99-b054-5df446f2726a"
   },
   "outputs": [
    {
     "name": "stdout",
     "output_type": "stream",
     "text": [
      "Maximum number of tags in a question:  5\n",
      "Minimum number of tags in a question:  1\n",
      "Average number of tags in a question:  1.238\n"
     ]
    }
   ],
   "source": [
    "print( \"Maximum number of tags in a question: \", data['tag_count'].max())\n",
    "print( \"Minimum number of tags in a question: \", data['tag_count'].min())\n",
    "print( \"Average number of tags in a question: \", round(data['tag_count'].mean(), 3))"
   ]
  },
  {
   "cell_type": "code",
   "execution_count": 19,
   "metadata": {
    "colab": {
     "base_uri": "https://localhost:8080/",
     "height": 370
    },
    "id": "bkmA1Hj0CneO",
    "outputId": "9bc4a60f-e10d-4934-84ee-94cfccdb7684"
   },
   "outputs": [
    {
     "data": {
      "text/plain": [
       "Text(0, 0.5, 'Frequency (log scaled)')"
      ]
     },
     "execution_count": 19,
     "metadata": {},
     "output_type": "execute_result"
    },
    {
     "data": {
      "image/png": "[encoded data removed]",
      "text/plain": [
       "<Figure size 432x288 with 1 Axes>"
      ]
     },
     "metadata": {
      "needs_background": "light"
     },
     "output_type": "display_data"
    }
   ],
   "source": [
    "# fig = plt.gcf()\n",
    "# fig.set_size_inches( 10, 8)\n",
    "fig = sns.countplot(data['tag_count'])\n",
    "plt.yscale('log')\n",
    "plt.title(\"Number of tags in questions \")\n",
    "plt.xlabel(\"Number of Tags\")\n",
    "plt.ylabel(\"Frequency (log scaled)\")"
   ]
  },
  {
   "cell_type": "markdown",
   "metadata": {
    "id": "zeEDTaqlx-2h"
   },
   "source": [
    "convert to multi label binarizer"
   ]
  },
  {
   "cell_type": "code",
   "execution_count": 20,
   "metadata": {
    "id": "EqtoCwd0Kxtb"
   },
   "outputs": [],
   "source": [
    "mlb = MultiLabelBinarizer()\n",
    "y = mlb.fit_transform(data['Tags'])"
   ]
  },
  {
   "cell_type": "code",
   "execution_count": 21,
   "metadata": {
    "colab": {
     "base_uri": "https://localhost:8080/"
    },
    "id": "cLEogsivLfeA",
    "outputId": "c9657aa2-cccf-43d3-ac02-f4bd1ef51cdf"
   },
   "outputs": [
    {
     "data": {
      "text/plain": [
       "array([[0, 0, 1, ..., 0, 0, 1],\n",
       "       [1, 0, 0, ..., 0, 0, 0],\n",
       "       [0, 0, 0, ..., 0, 0, 0],\n",
       "       ...,\n",
       "       [0, 0, 0, ..., 0, 0, 0],\n",
       "       [0, 0, 0, ..., 0, 0, 0],\n",
       "       [0, 0, 0, ..., 0, 0, 0]])"
      ]
     },
     "execution_count": 21,
     "metadata": {},
     "output_type": "execute_result"
    }
   ],
   "source": [
    "y"
   ]
  },
  {
   "cell_type": "code",
   "execution_count": 22,
   "metadata": {
    "colab": {
     "base_uri": "https://localhost:8080/"
    },
    "id": "io_RTmz0MqN-",
    "outputId": "601b5217-c05d-40c7-9ecc-5494614ab0e4"
   },
   "outputs": [
    {
     "data": {
      "text/plain": [
       "array(['.net', 'android', 'asp.net', 'c', 'c#', 'c++', 'css', 'html',\n",
       "       'ios', 'iphone', 'java', 'javascript', 'jquery', 'mysql',\n",
       "       'objective-c', 'php', 'python', 'ruby', 'ruby-on-rails', 'sql'],\n",
       "      dtype=object)"
      ]
     },
     "execution_count": 22,
     "metadata": {},
     "output_type": "execute_result"
    }
   ],
   "source": [
    "mlb.classes_"
   ]
  },
  {
   "cell_type": "markdown",
   "metadata": {
    "id": "Q9nR5FzDNBaa"
   },
   "source": [
    "making another dataframe with y and labels as features/columns"
   ]
  },
  {
   "cell_type": "code",
   "execution_count": 23,
   "metadata": {
    "colab": {
     "base_uri": "https://localhost:8080/"
    },
    "id": "gLbMCLrTNP-E",
    "outputId": "65838303-2990-49f0-882c-b0c991fc2147"
   },
   "outputs": [
    {
     "data": {
      "text/plain": [
       "(48976, 20)"
      ]
     },
     "execution_count": 23,
     "metadata": {},
     "output_type": "execute_result"
    }
   ],
   "source": [
    "tagMatrix = pd.DataFrame(y, columns = mlb.classes_)\n",
    "# tagMatrix\n",
    "tagMatrix.shape"
   ]
  },
  {
   "cell_type": "code",
   "execution_count": null,
   "metadata": {
    "colab": {
     "base_uri": "https://localhost:8080/"
    },
    "id": "9KrmXnZ3yfbi",
    "outputId": "b98dbf32-0035-4576-9b18-ad0e487029af"
   },
   "outputs": [],
   "source": [
    "# count1 = 0;\n",
    "# for val in tagMatrix['sql'] :\n",
    "#     if(val == 1) : count1+=1;\n",
    "# print(count1)\n",
    "\n",
    "# count = tagMatrix['sql'].sum()\n",
    "# print(count)"
   ]
  },
  {
   "cell_type": "code",
   "execution_count": 24,
   "metadata": {
    "colab": {
     "base_uri": "https://localhost:8080/",
     "height": 463
    },
    "id": "xlnnXqQcz0WK",
    "outputId": "cecad44d-fb15-46b9-e04f-a9f404043e2b"
   },
   "outputs": [
    {
     "data": {
      "image/png": "[encoded data removed]",
      "text/plain": [
       "<Figure size 720x432 with 1 Axes>"
      ]
     },
     "metadata": {
      "needs_background": "light"
     },
     "output_type": "display_data"
    }
   ],
   "source": [
    "tag_freq_table = {}\n",
    "for tag in tagMatrix.columns:\n",
    "    # print(tag)\n",
    "    tag_freq_table[tag] = tagMatrix[tag].sum()\n",
    "\n",
    "# tag_freq_table\n",
    "word_cloud = WordCloud(width=1200,height=800,).generate_from_frequencies(tag_freq_table)\n",
    "plt.figure(figsize = (10,6))\n",
    "plt.imshow(word_cloud)\n",
    "plt.axis('off')\n",
    "plt.tight_layout(pad=0)"
   ]
  },
  {
   "cell_type": "code",
   "execution_count": 25,
   "metadata": {
    "colab": {
     "base_uri": "https://localhost:8080/",
     "height": 918
    },
    "id": "V2xPahsr9oM-",
    "outputId": "a7a58160-871a-410c-cb1e-8634d6c46d63"
   },
   "outputs": [
    {
     "data": {
      "image/png": "[encoded data removed]",
      "text/plain": [
       "<Figure size 1440x1152 with 1 Axes>"
      ]
     },
     "metadata": {
      "needs_background": "light"
     },
     "output_type": "display_data"
    }
   ],
   "source": [
    "names = list(tag_freq_table.keys())\n",
    "values = list(tag_freq_table.values())\n",
    "\n",
    "plt.figure(figsize = (20,16))\n",
    "plt.bar(range(len(tag_freq_table)),values,tick_label=names)\n",
    "plt.show()\n"
   ]
  },
  {
   "cell_type": "code",
   "execution_count": null,
   "metadata": {
    "id": "wwAXP7ZR5R7a"
   },
   "outputs": [],
   "source": [
    "# #Bar plot of top 20 tags\n",
    "# tagMatrix.sort().head(20).plot(kind='bar')\n",
    "# plt.title('Frequency of top 20 tags')\n",
    "# plt.xticks(i, tag_df_sorted['Tags'])\n",
    "# plt.xlabel('Tags')\n",
    "# plt.ylabel('Counts')\n",
    "# plt.show()"
   ]
  },
  {
   "cell_type": "code",
   "execution_count": 26,
   "metadata": {
    "colab": {
     "base_uri": "https://localhost:8080/"
    },
    "id": "fbtj2jGWWZeS",
    "outputId": "e336d1e5-a487-468b-cecf-9c509d191d8a"
   },
   "outputs": [
    {
     "data": {
      "text/plain": [
       "<48976x6099568 sparse matrix of type '<class 'numpy.float64'>'\n",
       "\twith 9341919 stored elements in Compressed Sparse Row format>"
      ]
     },
     "execution_count": 26,
     "metadata": {},
     "output_type": "execute_result"
    }
   ],
   "source": [
    "# tfidf = TfidfVectorizer(analyzer='word', max_features=1000, ngram_range=(1,3), stop_words='english')\n",
    "tfidf = TfidfVectorizer(analyzer='word',ngram_range=(1,3), stop_words='english')\n",
    "X = tfidf.fit_transform(data['Text'])\n",
    "X\n",
    "# https://kavita-ganesan.com/tfidftransformer-tfidfvectorizer-usage-differences/"
   ]
  },
  {
   "cell_type": "markdown",
   "metadata": {
    "id": "4_2zBJscYQ15"
   },
   "source": [
    "\n",
    "\n",
    "*   Term Frequency (TF):\n",
    "\n",
    "        Term frequency (TF) often used in Text Mining, NLP and Information Retrieval tells you how frequently a term occurs in a document. In the context natural language, terms correspond to words or phrases. Since every document is different in length, it is possible that a term would appear more often in longer documents than shorter ones. Thus, term frequency is often divided by the  the total number of terms in the document as a way of normalization.\n",
    "\n",
    "        TF(t) = (Number of times term t appears in a document) / (Total number of terms in the document).\n",
    "\n",
    "\n",
    "*   IDF: \n",
    "        Inverse Document Frequency, which    measures how important a term is. While computing TF, all terms are considered equally important. However it is known that certain terms, such as \"is\", \"of\", and \"that\", may appear a lot of times but have little importance. Thus we need to weigh down the frequent terms while scale up the rare ones, by computing the following:\n",
    "\n",
    "        IDF(t) = log_e(Total number of documents / Number of documents with term t in it). \n",
    "\n",
    "\n",
    "Example:\n",
    "\n",
    "Consider a document containing 100 words wherein the word cat appears 3 times. The term frequency (i.e., tf) for cat is then (3 / 100) = 0.03. Now, assume we have 10 million documents and the word cat appears in one thousand of these. Then, the inverse document frequency (i.e., idf) is calculated as log(10,000,000 / 1,000) = 4. Thus, the Tf-idf weight is the product of these quantities: 0.03 * 4 = 0.12.\n",
    "\n",
    "\n",
    "source : \n",
    "http://tfidf.com/\n"
   ]
  },
  {
   "cell_type": "code",
   "execution_count": 27,
   "metadata": {
    "colab": {
     "base_uri": "https://localhost:8080/"
    },
    "id": "9NlJIzHxXi3X",
    "outputId": "c5015be9-911b-4444-b11f-39db40740efb"
   },
   "outputs": [
    {
     "data": {
      "text/plain": [
       "((48976, 6099568), (48976, 20))"
      ]
     },
     "execution_count": 27,
     "metadata": {},
     "output_type": "execute_result"
    }
   ],
   "source": [
    "# tfidf.vocabulary_\n",
    "X.shape, y.shape"
   ]
  },
  {
   "cell_type": "code",
   "execution_count": 30,
   "metadata": {
    "colab": {
     "base_uri": "https://localhost:8080/"
    },
    "id": "qhMAGFlufgzk",
    "outputId": "4e26bd46-6c86-45cf-a4fa-cf7bd2860d9d"
   },
   "outputs": [
    {
     "data": {
      "text/plain": [
       "array([[1, 0, 1, ..., 0, 0, 0],\n",
       "       [0, 0, 0, ..., 0, 0, 0],\n",
       "       [0, 0, 0, ..., 0, 0, 0],\n",
       "       ...,\n",
       "       [0, 0, 0, ..., 0, 0, 0],\n",
       "       [0, 0, 0, ..., 0, 0, 0],\n",
       "       [0, 0, 0, ..., 0, 1, 0]])"
      ]
     },
     "execution_count": 30,
     "metadata": {},
     "output_type": "execute_result"
    }
   ],
   "source": [
    "# X_train, X_test, y_train, y_test = train_test_split(X,y, random_state=0, test_size = 0.2, stratify=y)\n",
    "X_train, X_test, y_train, y_test = train_test_split(X,y, random_state=0, test_size = 0.2)\n",
    "y_train"
   ]
  },
  {
   "cell_type": "markdown",
   "metadata": {
    "id": "SBIzCKUy94QK"
   },
   "source": [
    "multilabel classification metrices :\n",
    "\n",
    "https://en.wikipedia.org/wiki/Multi-label_classification\n",
    "\n",
    "https://scikit-learn.org/stable/modules/multiclass.html#multilabel-classification"
   ]
  },
  {
   "cell_type": "markdown",
   "metadata": {
    "id": "_U19slY9_huw"
   },
   "source": [
    "Jaccard Similarity :\n",
    "\n",
    "![image.png](data:image/png;base64,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)\n",
    "\n"
   ]
  },
  {
   "cell_type": "code",
   "execution_count": 29,
   "metadata": {
    "id": "8WoOCtE3_mij"
   },
   "outputs": [],
   "source": [
    "def j_score(y_true, y_pred) :\n",
    "    J = np.minimum(y_true, y_pred).sum(axis=1)/np.maximum(y_true, y_pred).sum(axis=1)\n",
    "    return J.mean()*100\n",
    "\n",
    "def print_score(y_pred, clf) :\n",
    "    Jaccard_score = j_score(y_test, y_pred)\n",
    "    print('\\n--------------------------------------') \n",
    "    #print(\"classifier : \", clf.__class__.__name__)\n",
    "    print(\"classifier : \", clf)\n",
    "    print('Jaccard Score {}'.format(Jaccard_score))\n",
    "    print('--------------------------------------\\n')\n",
    "    return Jaccard_score\n"
   ]
  },
  {
   "cell_type": "markdown",
   "metadata": {
    "id": "hIb0TZBsErw4"
   },
   "source": [
    "Build Models"
   ]
  },
  {
   "cell_type": "code",
   "execution_count": 31,
   "metadata": {
    "colab": {
     "base_uri": "https://localhost:8080/"
    },
    "id": "uZRhUcAEhGfT",
    "outputId": "63e91383-ec16-4801-99f7-ec6b901d02b6"
   },
   "outputs": [
    {
     "name": "stdout",
     "output_type": "stream",
     "text": [
      "\n",
      "--------------------------------------\n",
      "classifier :  SGDClassifier(max_iter=20)\n",
      "Jaccard Score 25.550394718932896\n",
      "--------------------------------------\n",
      "\n",
      "              precision    recall  f1-score  support\n",
      "micro avg      0.960218  0.233736  0.375957  12082.0\n",
      "macro avg      0.868638  0.197252  0.294769  12082.0\n",
      "weighted avg   0.899932  0.233736  0.342427  12082.0\n",
      "samples avg    0.279196  0.257154  0.263686  12082.0\n",
      "\n",
      "--------------------------------------\n",
      "classifier :  LogisticRegression()\n",
      "Jaccard Score 23.52780046277392\n",
      "--------------------------------------\n",
      "\n",
      "              precision    recall  f1-score  support\n",
      "micro avg      0.924843  0.219997  0.355443  12082.0\n",
      "macro avg      0.864333  0.177494  0.278412  12082.0\n",
      "weighted avg   0.886969  0.219997  0.337053  12082.0\n",
      "samples avg    0.257409  0.239179  0.243688  12082.0\n",
      "\n",
      "--------------------------------------\n",
      "classifier :  LinearSVC(C=1.5, dual=False, penalty='l1')\n",
      "Jaccard Score 62.16414863209473\n",
      "--------------------------------------\n",
      "\n",
      "              precision    recall  f1-score  support\n",
      "micro avg      0.865623  0.613144  0.717829  12082.0\n",
      "macro avg      0.822255  0.570155  0.666373  12082.0\n",
      "weighted avg   0.849959  0.613144  0.706310  12082.0\n",
      "samples avg    0.675146  0.651780  0.649492  12082.0\n"
     ]
    }
   ],
   "source": [
    "from sklearn import metrics\n",
    "\n",
    "# hold different prediction models in a single dictionary\n",
    "models = {}\n",
    "models[\"SGD\"]                 = SGDClassifier(loss=\"hinge\", penalty=\"l2\", max_iter=20)\n",
    "models[\"Logistic_lbfgs\"]      = LogisticRegression(solver='lbfgs')\n",
    "# models[\"SVC_1\"]               = LinearSVC()\n",
    "models[\"SVC_2\"]               = LinearSVC(C=1.5, penalty = 'l1', dual=False)\n",
    "# models[\"lp_logistic\"]         = LabelPowerset(LogisticRegression())\n",
    "\n",
    "\n",
    "model_results = []\n",
    "model_names = []\n",
    "JScores = []\n",
    "precision = []\n",
    "recall = []\n",
    "F1_weighted = []\n",
    "\n",
    "Hamming_loss = []\n",
    "\n",
    "# sgd = SGDClassifier()\n",
    "# lr  = LogisticRegression(solver='lbfgs')\n",
    "# svc = LinearSVC()\n",
    "\n",
    "# models = [sgd, lr, svc]\n",
    "\n",
    "for model_name in models :\n",
    "    model = models[model_name]\n",
    "    \n",
    "    clf = OneVsRestClassifier(model)\n",
    "    clf.fit(X_train, y_train)\n",
    "    y_pred = clf.predict(X_test)\n",
    "    \n",
    "    \n",
    "    J = print_score(y_pred, model)\n",
    "    \n",
    "    report_dict = classification_report(y_test, y_pred, target_names=mlb.classes_, output_dict=True)\n",
    "    report_df = pd.DataFrame(report_dict).transpose()\n",
    "    print(report_df[-4:])\n",
    "    \n",
    "    model_names.append(model_name)\n",
    "    JScores.append(J)\n",
    "\n",
    "    # precision.append(f1_score(y_train, y_pred, average='micro')) \n",
    "    # ValueError: Found input variables with inconsistent numbers of samples: [39180, 9796]\n",
    "\n",
    "    # precision.append(metrics.precision_score(y_train, y_pred, average='micro')) \n",
    "    # ValueError: Found input variables with inconsistent numbers of samples: [39180, 9796] \n",
    "    \n",
    "    # recall.append(metrics.recall_score(y_train, y_pred, average='macro'))\n",
    "    # ValueError: Found input variables with inconsistent numbers of samples: [39180, 9796] \n",
    "\n",
    "    # F1_weighted.append(metrics.f1_score(y_train, y_pred, average='weighted'))\n",
    "    # ValueError: Found input variables with inconsistent numbers of samples: [39180, 9796] \n",
    "\n",
    "    Hamming_loss.append(hamming_loss(y_test, y_pred))\n",
    "\n",
    "    #issue : got different values cmopared to previous run , may be because of randomness\n",
    " "
   ]
  },
  {
   "cell_type": "code",
   "execution_count": null,
   "metadata": {
    "colab": {
     "base_uri": "https://localhost:8080/"
    },
    "id": "IekQyPT_XKGT",
    "outputId": "8c7208b7-dbfa-454e-f82c-65250e7581f9"
   },
   "outputs": [],
   "source": [
    "print(model_names)\n",
    "print(JScores)\n",
    "print(Hamming_loss)"
   ]
  },
  {
   "cell_type": "code",
   "execution_count": 55,
   "metadata": {
    "colab": {
     "base_uri": "https://localhost:8080/",
     "height": 371
    },
    "id": "tbamZ2ae6qVO",
    "outputId": "50475e94-eb25-418f-e55f-05f7bc8d10e4"
   },
   "outputs": [
    {
     "data": {
      "text/plain": [
       "<Figure size 864x576 with 0 Axes>"
      ]
     },
     "metadata": {},
     "output_type": "display_data"
    },
    {
     "data": {
      "image/png": "[encoded data removed]",
      "text/plain": [
       "<Figure size 432x288 with 1 Axes>"
      ]
     },
     "metadata": {
      "needs_background": "light"
     },
     "output_type": "display_data"
    }
   ],
   "source": [
    "plt.figure(figsize = (12,8))\n",
    "plotdata = pd.DataFrame(JScores, index=model_names)\n",
    "# Plot a bar chart\n",
    "plotdata.plot(kind=\"bar\")\n",
    "plt.title(\"Jaccard Scores compariosn\")\n",
    "plt.xlabel('model name')\n",
    "plt.ylabel('Jaccard Score (multiplied by 100)')\n",
    "plt.show()"
   ]
  },
  {
   "cell_type": "code",
   "execution_count": 56,
   "metadata": {
    "colab": {
     "base_uri": "https://localhost:8080/",
     "height": 371
    },
    "id": "01tfQNj87SLK",
    "outputId": "4d34e2b6-8772-44a8-84b0-c06335068dd6"
   },
   "outputs": [
    {
     "data": {
      "text/plain": [
       "<Figure size 864x576 with 0 Axes>"
      ]
     },
     "metadata": {},
     "output_type": "display_data"
    },
    {
     "data": {
      "image/png": "[encoded data removed]",
      "text/plain": [
       "<Figure size 432x288 with 1 Axes>"
      ]
     },
     "metadata": {
      "needs_background": "light"
     },
     "output_type": "display_data"
    }
   ],
   "source": [
    "plt.figure(figsize = (12,8))\n",
    "plotdata = pd.DataFrame(Hamming_loss, index=model_names)\n",
    "# Plot a bar chart\n",
    "plotdata.plot(kind=\"bar\")\n",
    "plt.title(\"Hamming Loss compariosn\")\n",
    "plt.xlabel('model name')\n",
    "plt.ylabel('Hamming Loss')\n",
    "plt.show()"
   ]
  },
  {
   "cell_type": "markdown",
   "metadata": {},
   "source": [
    "MLkNN with hyperparameter optimization using Grid Search"
   ]
  },
  {
   "cell_type": "code",
   "execution_count": null,
   "metadata": {},
   "outputs": [],
   "source": [
    "from skmultilearn.adapt import MLkNN\n",
    "from sklearn.model_selection import GridSearchCV\n",
    "\n",
    "parameters = {'k': range(1,10), 's': [0.5, 0.7, 1.0]}\n",
    "\n",
    "clf = GridSearchCV(MLkNN(), parameters, scoring='f1_micro')\n",
    "clf.fit(X_train, y_train)\n",
    "\n",
    "print (clf.best_params_, clf.best_score_)"
   ]
  },
  {
   "cell_type": "code",
   "execution_count": null,
   "metadata": {},
   "outputs": [],
   "source": [
    "# t0 = time.time()\n",
    "# clf = MLkNN(k = 3)\n",
    "# clf.fit(X_train, y_train)\n",
    "# y_pred = clf.predict(X_test)\n",
    "# t1 = time.time()\n",
    "# print(\"time taken to predict using MLkNN(k=3) : \", t1-t0)"
   ]
  },
  {
   "cell_type": "markdown",
   "metadata": {},
   "source": [
    "After Grid Search, found optimal value of k=9. Running MLkNN with k = 9"
   ]
  },
  {
   "cell_type": "code",
   "execution_count": 81,
   "metadata": {},
   "outputs": [
    {
     "name": "stdout",
     "output_type": "stream",
     "text": [
      "MLkNN(k=9)\n",
      "time taken to predict :  158.6962947845459\n"
     ]
    }
   ],
   "source": [
    "t0 = time.time()\n",
    "clf = MLkNN(k = 9)\n",
    "print(clf)\n",
    "clf.fit(X_train, y_train)\n",
    "y_pred = clf.predict(X_test)\n",
    "t1 = time.time()\n",
    "print(\"time taken to predict : \", t1-t0)"
   ]
  },
  {
   "cell_type": "code",
   "execution_count": 83,
   "metadata": {},
   "outputs": [
    {
     "data": {
      "text/html": [
       "<div>\n",
       "<style scoped>\n",
       "    .dataframe tbody tr th:only-of-type {\n",
       "        vertical-align: middle;\n",
       "    }\n",
       "\n",
       "    .dataframe tbody tr th {\n",
       "        vertical-align: top;\n",
       "    }\n",
       "\n",
       "    .dataframe thead th {\n",
       "        text-align: right;\n",
       "    }\n",
       "</style>\n",
       "<table border=\"1\" class=\"dataframe\">\n",
       "  <thead>\n",
       "    <tr style=\"text-align: right;\">\n",
       "      <th></th>\n",
       "      <th>precision</th>\n",
       "      <th>recall</th>\n",
       "      <th>f1-score</th>\n",
       "      <th>support</th>\n",
       "    </tr>\n",
       "  </thead>\n",
       "  <tbody>\n",
       "    <tr>\n",
       "      <th>micro avg</th>\n",
       "      <td>0.680075</td>\n",
       "      <td>0.481377</td>\n",
       "      <td>0.563730</td>\n",
       "      <td>12082.0</td>\n",
       "    </tr>\n",
       "    <tr>\n",
       "      <th>macro avg</th>\n",
       "      <td>0.635348</td>\n",
       "      <td>0.441656</td>\n",
       "      <td>0.515153</td>\n",
       "      <td>12082.0</td>\n",
       "    </tr>\n",
       "    <tr>\n",
       "      <th>weighted avg</th>\n",
       "      <td>0.666415</td>\n",
       "      <td>0.481377</td>\n",
       "      <td>0.553882</td>\n",
       "      <td>12082.0</td>\n",
       "    </tr>\n",
       "    <tr>\n",
       "      <th>samples avg</th>\n",
       "      <td>0.515380</td>\n",
       "      <td>0.510829</td>\n",
       "      <td>0.498747</td>\n",
       "      <td>12082.0</td>\n",
       "    </tr>\n",
       "  </tbody>\n",
       "</table>\n",
       "</div>"
      ],
      "text/plain": [
       "              precision    recall  f1-score  support\n",
       "micro avg      0.680075  0.481377  0.563730  12082.0\n",
       "macro avg      0.635348  0.441656  0.515153  12082.0\n",
       "weighted avg   0.666415  0.481377  0.553882  12082.0\n",
       "samples avg    0.515380  0.510829  0.498747  12082.0"
      ]
     },
     "execution_count": 83,
     "metadata": {},
     "output_type": "execute_result"
    }
   ],
   "source": [
    "report_dict = classification_report(y_test, y_pred, target_names=mlb.classes_, output_dict=True)\n",
    "report_df = pd.DataFrame(report_dict).transpose()\n",
    "report_df[-4:]"
   ]
  },
  {
   "cell_type": "code",
   "execution_count": 84,
   "metadata": {},
   "outputs": [
    {
     "name": "stdout",
     "output_type": "stream",
     "text": [
      "Jaccard score (samples average) :  0.4694943514359602\n",
      "Jaccard score (micro average) :  0.39249561344310974\n",
      "Jaccard score (macro average) :  0.35764789923599993\n"
     ]
    }
   ],
   "source": [
    "# print(jaccard_score(y_test, y_pred, average=None))\n",
    "print(\"Jaccard score (samples average) : \", jaccard_score(y_test, y_pred, average='samples'))\n",
    "print(\"Jaccard score (micro average) : \", jaccard_score(y_test, y_pred, average='micro'))\n",
    "print(\"Jaccard score (macro average) : \", jaccard_score(y_test, y_pred, average='macro'))"
   ]
  },
  {
   "cell_type": "markdown",
   "metadata": {},
   "source": [
    "Testing with  new Question(s) using previously trained MLkNN"
   ]
  },
  {
   "cell_type": "code",
   "execution_count": 119,
   "metadata": {},
   "outputs": [
    {
     "name": "stdout",
     "output_type": "stream",
     "text": [
      "Please enter question(s) related to the following topics : \n",
      "['.net' 'android' 'asp.net' 'c' 'c#' 'c++' 'css' 'html' 'ios' 'iphone'\n",
      " 'java' 'javascript' 'jquery' 'mysql' 'objective-c' 'php' 'python' 'ruby'\n",
      " 'ruby-on-rails' 'sql']\n"
     ]
    }
   ],
   "source": [
    "print(\"Please enter question(s) related to the following topics : \")\n",
    "print(mlb.classes_)"
   ]
  },
  {
   "cell_type": "code",
   "execution_count": 125,
   "metadata": {},
   "outputs": [],
   "source": [
    "models[\"MLkNN\"] = clf"
   ]
  },
  {
   "cell_type": "code",
   "execution_count": 132,
   "metadata": {},
   "outputs": [
    {
     "data": {
      "text/plain": [
       "{'SGD': SGDClassifier(max_iter=20),\n",
       " 'Logistic_lbfgs': LogisticRegression(),\n",
       " 'SVC_2': LinearSVC(C=1.5, dual=False, penalty='l1'),\n",
       " 'MLkNN': MLkNN(k=9)}"
      ]
     },
     "execution_count": 132,
     "metadata": {},
     "output_type": "execute_result"
    }
   ],
   "source": [
    "models"
   ]
  },
  {
   "cell_type": "code",
   "execution_count": null,
   "metadata": {},
   "outputs": [
    {
     "name": "stdout",
     "output_type": "stream",
     "text": [
      "Please type your questiion bellow : How can I learn ml in c++, java and python\n",
      "Predicted Tags :  [('java', 'python')]\n"
     ]
    }
   ],
   "source": [
    "while(True) :\n",
    "    question = input(\"Please type your questiion bellow : \")\n",
    "    temporary_list = []\n",
    "    temporary_list.append(question)\n",
    "    xt = tfidf.transform(temporary_list)\n",
    "    del temporary_list\n",
    "    y_hat = models['MLkNN'].predict(xt)\n",
    "    tags = mlb.inverse_transform(y_hat)\n",
    "    print(\"Predicted Tags : \", tags)"
   ]
  },
  {
   "cell_type": "code",
   "execution_count": null,
   "metadata": {},
   "outputs": [],
   "source": []
  }
 ],
 "metadata": {
  "colab": {
   "collapsed_sections": [],
   "name": "StackOverflow_Question_Tag_classification.ipynb",
   "provenance": []
  },
  "kernelspec": {
   "display_name": "Python 3",
   "language": "python",
   "name": "python3"
  },
  "language_info": {
   "codemirror_mode": {
    "name": "ipython",
    "version": 3
   },
   "file_extension": ".py",
   "mimetype": "text/x-python",
   "name": "python",
   "nbconvert_exporter": "python",
   "pygments_lexer": "ipython3",
   "version": "3.8.8"
  }
 },
 "nbformat": 4,
 "nbformat_minor": 1
}
